{
  "nbformat": 4,
  "nbformat_minor": 0,
  "metadata": {
    "ExecuteTimeLog": [
      {
        "duration": 554,
        "start_time": "2021-09-30T06:21:00.125Z"
      },
      {
        "duration": 823,
        "start_time": "2021-09-30T06:21:00.682Z"
      },
      {
        "duration": 19,
        "start_time": "2021-09-30T06:21:12.661Z"
      },
      {
        "duration": 96,
        "start_time": "2021-09-30T06:21:17.868Z"
      },
      {
        "duration": 114,
        "start_time": "2021-09-30T06:21:41.365Z"
      },
      {
        "duration": 467,
        "start_time": "2021-09-30T06:23:20.764Z"
      },
      {
        "duration": 65,
        "start_time": "2021-09-30T06:23:55.612Z"
      },
      {
        "duration": 326,
        "start_time": "2021-09-30T06:29:32.217Z"
      },
      {
        "duration": 3,
        "start_time": "2021-09-30T06:29:51.216Z"
      },
      {
        "duration": 254,
        "start_time": "2021-09-30T06:29:54.561Z"
      },
      {
        "duration": 267,
        "start_time": "2021-09-30T06:30:24.161Z"
      },
      {
        "duration": 278,
        "start_time": "2021-09-30T06:31:38.616Z"
      },
      {
        "duration": 289,
        "start_time": "2021-09-30T06:31:55.184Z"
      },
      {
        "duration": 260,
        "start_time": "2021-09-30T06:32:03.352Z"
      },
      {
        "duration": 21,
        "start_time": "2021-09-30T06:32:19.231Z"
      },
      {
        "duration": 6,
        "start_time": "2021-09-30T06:32:26.879Z"
      },
      {
        "duration": 181,
        "start_time": "2021-09-30T06:33:21.537Z"
      },
      {
        "duration": 431,
        "start_time": "2021-09-30T06:34:18.479Z"
      },
      {
        "duration": 262,
        "start_time": "2021-09-30T06:34:31.799Z"
      },
      {
        "duration": 215,
        "start_time": "2021-09-30T06:35:05.423Z"
      },
      {
        "duration": 182,
        "start_time": "2021-09-30T06:35:21.598Z"
      },
      {
        "duration": 55,
        "start_time": "2021-09-30T06:35:25.654Z"
      },
      {
        "duration": 11,
        "start_time": "2021-09-30T06:35:28.445Z"
      },
      {
        "duration": 5,
        "start_time": "2021-09-30T06:35:37.782Z"
      },
      {
        "duration": 195,
        "start_time": "2021-09-30T06:35:44.070Z"
      },
      {
        "duration": 2365,
        "start_time": "2021-09-30T06:35:55.934Z"
      },
      {
        "duration": 5,
        "start_time": "2021-09-30T06:36:00.621Z"
      },
      {
        "duration": 5,
        "start_time": "2021-09-30T06:36:04.413Z"
      },
      {
        "duration": 5,
        "start_time": "2021-09-30T06:36:08.821Z"
      },
      {
        "duration": 5,
        "start_time": "2021-09-30T06:36:15.573Z"
      },
      {
        "duration": 445,
        "start_time": "2021-10-03T16:40:13.569Z"
      },
      {
        "duration": 1668,
        "start_time": "2021-10-03T16:40:17.990Z"
      },
      {
        "duration": 1212,
        "start_time": "2021-10-03T16:40:19.663Z"
      },
      {
        "duration": 31,
        "start_time": "2021-10-03T16:40:20.878Z"
      },
      {
        "duration": 150,
        "start_time": "2021-10-03T16:40:20.912Z"
      },
      {
        "duration": 170,
        "start_time": "2021-10-03T16:40:21.064Z"
      },
      {
        "duration": 861,
        "start_time": "2021-10-03T16:42:06.115Z"
      },
      {
        "duration": 87,
        "start_time": "2021-10-03T16:45:46.643Z"
      },
      {
        "duration": 152,
        "start_time": "2021-10-03T16:46:02.937Z"
      },
      {
        "duration": 54,
        "start_time": "2021-10-03T16:50:16.695Z"
      },
      {
        "duration": 119,
        "start_time": "2021-10-03T16:50:28.634Z"
      },
      {
        "duration": 5,
        "start_time": "2021-10-03T16:51:54.101Z"
      },
      {
        "duration": 2697,
        "start_time": "2021-10-03T16:51:54.266Z"
      },
      {
        "duration": 31,
        "start_time": "2021-10-03T16:51:56.966Z"
      },
      {
        "duration": 226,
        "start_time": "2021-10-03T16:51:57.001Z"
      },
      {
        "duration": 49,
        "start_time": "2021-10-03T16:51:57.230Z"
      },
      {
        "duration": 797,
        "start_time": "2021-10-03T16:51:57.282Z"
      },
      {
        "duration": 2148,
        "start_time": "2021-10-03T16:51:58.082Z"
      },
      {
        "duration": 502,
        "start_time": "2021-10-03T16:51:59.731Z"
      },
      {
        "duration": 659,
        "start_time": "2021-10-03T16:52:11.785Z"
      },
      {
        "duration": 1090,
        "start_time": "2021-10-03T16:52:41.575Z"
      },
      {
        "duration": 623,
        "start_time": "2021-10-03T16:52:53.072Z"
      },
      {
        "duration": 624,
        "start_time": "2021-10-03T16:53:14.232Z"
      },
      {
        "duration": 402,
        "start_time": "2021-10-03T16:53:19.979Z"
      },
      {
        "duration": 50,
        "start_time": "2021-10-03T16:53:26.507Z"
      },
      {
        "duration": 103,
        "start_time": "2021-10-03T16:53:28.693Z"
      },
      {
        "duration": 696,
        "start_time": "2021-10-03T16:54:26.150Z"
      },
      {
        "duration": 788,
        "start_time": "2021-10-03T16:54:50.747Z"
      },
      {
        "duration": 371,
        "start_time": "2021-10-03T16:58:26.851Z"
      },
      {
        "duration": 397,
        "start_time": "2021-10-03T16:58:33.141Z"
      },
      {
        "duration": 127,
        "start_time": "2021-10-03T17:15:52.994Z"
      },
      {
        "duration": 347,
        "start_time": "2021-10-03T17:18:18.060Z"
      },
      {
        "duration": 59,
        "start_time": "2021-10-03T17:18:36.326Z"
      },
      {
        "duration": 61,
        "start_time": "2021-10-03T17:18:46.517Z"
      },
      {
        "duration": 62,
        "start_time": "2021-10-03T17:18:51.190Z"
      },
      {
        "duration": 91,
        "start_time": "2021-10-03T17:19:29.974Z"
      },
      {
        "duration": 60,
        "start_time": "2021-10-03T17:19:34.862Z"
      },
      {
        "duration": 152,
        "start_time": "2021-10-03T17:21:57.274Z"
      },
      {
        "duration": 127,
        "start_time": "2021-10-03T17:22:32.172Z"
      },
      {
        "duration": 129,
        "start_time": "2021-10-03T17:23:16.112Z"
      },
      {
        "duration": 19556,
        "start_time": "2021-10-03T17:27:15.354Z"
      },
      {
        "duration": 526,
        "start_time": "2021-10-03T17:34:57.992Z"
      },
      {
        "duration": 1076,
        "start_time": "2021-10-03T17:35:19.733Z"
      },
      {
        "duration": 985,
        "start_time": "2021-10-03T17:35:56.807Z"
      },
      {
        "duration": 1501,
        "start_time": "2021-10-03T17:36:36.549Z"
      },
      {
        "duration": 17399,
        "start_time": "2021-10-03T17:37:18.870Z"
      },
      {
        "duration": 15244,
        "start_time": "2021-10-03T17:37:41.665Z"
      },
      {
        "duration": 13554,
        "start_time": "2021-10-03T17:41:06.914Z"
      },
      {
        "duration": 383,
        "start_time": "2021-10-03T17:43:34.299Z"
      },
      {
        "duration": 978,
        "start_time": "2021-10-03T17:43:55.448Z"
      },
      {
        "duration": 58,
        "start_time": "2021-10-03T17:44:27.725Z"
      },
      {
        "duration": 725,
        "start_time": "2021-10-03T17:44:29.876Z"
      },
      {
        "duration": 47,
        "start_time": "2021-10-03T17:45:18.352Z"
      },
      {
        "duration": 744,
        "start_time": "2021-10-03T17:45:18.858Z"
      },
      {
        "duration": 9391,
        "start_time": "2021-10-03T17:48:16.558Z"
      },
      {
        "duration": 9807,
        "start_time": "2021-10-03T17:52:33.998Z"
      },
      {
        "duration": 757,
        "start_time": "2021-10-03T18:02:25.741Z"
      },
      {
        "duration": 415,
        "start_time": "2021-10-03T18:02:50.887Z"
      },
      {
        "duration": 59,
        "start_time": "2021-10-03T18:02:59.028Z"
      },
      {
        "duration": 9551,
        "start_time": "2021-10-03T18:03:05.200Z"
      },
      {
        "duration": 102,
        "start_time": "2021-10-03T18:03:26.174Z"
      },
      {
        "duration": 157,
        "start_time": "2021-10-03T18:04:23.159Z"
      },
      {
        "duration": 9137,
        "start_time": "2021-10-03T18:04:35.446Z"
      },
      {
        "duration": 20347,
        "start_time": "2021-10-03T18:06:21.428Z"
      },
      {
        "duration": 100,
        "start_time": "2021-10-03T18:06:55.445Z"
      },
      {
        "duration": 14,
        "start_time": "2021-10-03T18:07:33.143Z"
      },
      {
        "duration": 36,
        "start_time": "2021-10-03T18:07:48.643Z"
      },
      {
        "duration": 5,
        "start_time": "2021-10-03T18:08:35.581Z"
      },
      {
        "duration": 1134,
        "start_time": "2021-10-03T18:08:35.933Z"
      },
      {
        "duration": 19,
        "start_time": "2021-10-03T18:08:37.070Z"
      },
      {
        "duration": 172,
        "start_time": "2021-10-03T18:08:37.092Z"
      },
      {
        "duration": 382,
        "start_time": "2021-10-03T18:08:37.267Z"
      },
      {
        "duration": 33,
        "start_time": "2021-10-03T18:08:37.652Z"
      },
      {
        "duration": 658,
        "start_time": "2021-10-03T18:08:37.966Z"
      },
      {
        "duration": 56,
        "start_time": "2021-10-03T18:08:38.626Z"
      },
      {
        "duration": 65,
        "start_time": "2021-10-03T18:08:38.760Z"
      },
      {
        "duration": 121,
        "start_time": "2021-10-03T18:08:39.230Z"
      },
      {
        "duration": 16542,
        "start_time": "2021-10-03T18:08:39.681Z"
      },
      {
        "duration": 200,
        "start_time": "2021-10-03T18:08:56.226Z"
      },
      {
        "duration": 16817,
        "start_time": "2021-10-03T18:08:56.429Z"
      },
      {
        "duration": 61,
        "start_time": "2021-10-03T18:09:13.250Z"
      },
      {
        "duration": 732,
        "start_time": "2021-10-03T18:09:13.314Z"
      },
      {
        "duration": 59,
        "start_time": "2021-10-03T18:09:14.049Z"
      },
      {
        "duration": 880,
        "start_time": "2021-10-03T18:09:14.111Z"
      },
      {
        "duration": 4,
        "start_time": "2021-10-03T18:09:55.072Z"
      },
      {
        "duration": 1016,
        "start_time": "2021-10-03T18:09:55.269Z"
      },
      {
        "duration": 20,
        "start_time": "2021-10-03T18:09:56.288Z"
      },
      {
        "duration": 182,
        "start_time": "2021-10-03T18:09:56.311Z"
      },
      {
        "duration": 381,
        "start_time": "2021-10-03T18:09:56.496Z"
      },
      {
        "duration": 32,
        "start_time": "2021-10-03T18:09:56.880Z"
      },
      {
        "duration": 611,
        "start_time": "2021-10-03T18:09:57.123Z"
      },
      {
        "duration": 58,
        "start_time": "2021-10-03T18:09:57.737Z"
      },
      {
        "duration": 60,
        "start_time": "2021-10-03T18:09:57.939Z"
      },
      {
        "duration": 117,
        "start_time": "2021-10-03T18:09:58.344Z"
      },
      {
        "duration": 16641,
        "start_time": "2021-10-03T18:09:58.753Z"
      },
      {
        "duration": 173,
        "start_time": "2021-10-03T18:10:15.397Z"
      },
      {
        "duration": 10325,
        "start_time": "2021-10-03T18:10:15.573Z"
      },
      {
        "duration": 474,
        "start_time": "2021-10-03T18:10:25.427Z"
      },
      {
        "duration": 473,
        "start_time": "2021-10-03T18:10:25.430Z"
      },
      {
        "duration": 472,
        "start_time": "2021-10-03T18:10:25.433Z"
      },
      {
        "duration": 469,
        "start_time": "2021-10-03T18:10:25.437Z"
      },
      {
        "duration": 28,
        "start_time": "2021-10-03T18:12:41.616Z"
      },
      {
        "duration": 16856,
        "start_time": "2021-10-03T18:15:07.415Z"
      },
      {
        "duration": 4,
        "start_time": "2021-10-03T18:18:10.090Z"
      },
      {
        "duration": 1037,
        "start_time": "2021-10-03T18:18:10.315Z"
      },
      {
        "duration": 26,
        "start_time": "2021-10-03T18:18:11.355Z"
      },
      {
        "duration": 171,
        "start_time": "2021-10-03T18:18:11.384Z"
      },
      {
        "duration": 392,
        "start_time": "2021-10-03T18:18:11.558Z"
      },
      {
        "duration": 3,
        "start_time": "2021-10-03T18:18:11.953Z"
      },
      {
        "duration": 607,
        "start_time": "2021-10-03T18:18:12.076Z"
      },
      {
        "duration": 50,
        "start_time": "2021-10-03T18:18:12.685Z"
      },
      {
        "duration": 17,
        "start_time": "2021-10-03T18:18:12.930Z"
      },
      {
        "duration": 115,
        "start_time": "2021-10-03T18:18:13.358Z"
      },
      {
        "duration": 25,
        "start_time": "2021-10-03T18:18:13.590Z"
      },
      {
        "duration": 19177,
        "start_time": "2021-10-03T18:18:14.256Z"
      },
      {
        "duration": 147,
        "start_time": "2021-10-03T18:18:33.435Z"
      },
      {
        "duration": 9764,
        "start_time": "2021-10-03T18:18:33.585Z"
      },
      {
        "duration": 480,
        "start_time": "2021-10-03T18:18:42.872Z"
      },
      {
        "duration": 479,
        "start_time": "2021-10-03T18:18:42.875Z"
      },
      {
        "duration": 476,
        "start_time": "2021-10-03T18:18:42.879Z"
      },
      {
        "duration": 474,
        "start_time": "2021-10-03T18:18:42.882Z"
      },
      {
        "duration": 1350,
        "start_time": "2021-10-03T18:19:40.947Z"
      },
      {
        "duration": 1083,
        "start_time": "2021-10-03T18:19:42.299Z"
      },
      {
        "duration": 31,
        "start_time": "2021-10-03T18:19:43.385Z"
      },
      {
        "duration": 177,
        "start_time": "2021-10-03T18:19:43.419Z"
      },
      {
        "duration": 397,
        "start_time": "2021-10-03T18:19:43.599Z"
      },
      {
        "duration": 3,
        "start_time": "2021-10-03T18:19:43.999Z"
      },
      {
        "duration": 484,
        "start_time": "2021-10-03T18:19:44.004Z"
      },
      {
        "duration": 532,
        "start_time": "2021-10-03T18:19:43.959Z"
      },
      {
        "duration": 527,
        "start_time": "2021-10-03T18:19:43.965Z"
      },
      {
        "duration": 524,
        "start_time": "2021-10-03T18:19:43.969Z"
      },
      {
        "duration": 517,
        "start_time": "2021-10-03T18:19:43.978Z"
      },
      {
        "duration": 514,
        "start_time": "2021-10-03T18:19:43.982Z"
      },
      {
        "duration": 513,
        "start_time": "2021-10-03T18:19:43.985Z"
      },
      {
        "duration": 509,
        "start_time": "2021-10-03T18:19:43.990Z"
      },
      {
        "duration": 507,
        "start_time": "2021-10-03T18:19:43.993Z"
      },
      {
        "duration": 505,
        "start_time": "2021-10-03T18:19:43.997Z"
      },
      {
        "duration": 503,
        "start_time": "2021-10-03T18:19:44.001Z"
      },
      {
        "duration": 443,
        "start_time": "2021-10-03T18:19:44.062Z"
      },
      {
        "duration": 439,
        "start_time": "2021-10-03T18:19:44.068Z"
      },
      {
        "duration": 4,
        "start_time": "2021-10-03T18:20:32.158Z"
      },
      {
        "duration": 822,
        "start_time": "2021-10-03T18:20:33.443Z"
      },
      {
        "duration": 84,
        "start_time": "2021-10-03T18:20:35.829Z"
      },
      {
        "duration": 62,
        "start_time": "2021-10-03T18:20:36.251Z"
      },
      {
        "duration": 200,
        "start_time": "2021-10-03T18:20:36.666Z"
      },
      {
        "duration": 19755,
        "start_time": "2021-10-03T18:20:37.048Z"
      },
      {
        "duration": 188,
        "start_time": "2021-10-03T18:20:56.806Z"
      },
      {
        "duration": 16871,
        "start_time": "2021-10-03T18:20:56.998Z"
      },
      {
        "duration": 116,
        "start_time": "2021-10-03T18:21:13.872Z"
      },
      {
        "duration": 941,
        "start_time": "2021-10-03T18:21:13.991Z"
      },
      {
        "duration": 67,
        "start_time": "2021-10-03T18:21:14.935Z"
      },
      {
        "duration": 762,
        "start_time": "2021-10-03T18:21:15.005Z"
      },
      {
        "duration": 21,
        "start_time": "2021-10-03T18:21:32.499Z"
      },
      {
        "duration": 19,
        "start_time": "2021-10-03T18:21:36.598Z"
      },
      {
        "duration": 1351,
        "start_time": "2021-10-03T18:22:56.356Z"
      },
      {
        "duration": 1102,
        "start_time": "2021-10-03T18:22:57.709Z"
      },
      {
        "duration": 30,
        "start_time": "2021-10-03T18:22:58.814Z"
      },
      {
        "duration": 163,
        "start_time": "2021-10-03T18:22:58.863Z"
      },
      {
        "duration": 416,
        "start_time": "2021-10-03T18:22:59.029Z"
      },
      {
        "duration": 39,
        "start_time": "2021-10-03T18:22:59.447Z"
      },
      {
        "duration": 764,
        "start_time": "2021-10-03T18:22:59.489Z"
      },
      {
        "duration": 68,
        "start_time": "2021-10-03T18:23:00.264Z"
      },
      {
        "duration": 73,
        "start_time": "2021-10-03T18:23:00.335Z"
      },
      {
        "duration": 166,
        "start_time": "2021-10-03T18:23:00.411Z"
      },
      {
        "duration": 21928,
        "start_time": "2021-10-03T18:23:00.580Z"
      },
      {
        "duration": 171,
        "start_time": "2021-10-03T18:23:22.510Z"
      },
      {
        "duration": 15,
        "start_time": "2021-10-03T18:23:22.684Z"
      },
      {
        "duration": 24891,
        "start_time": "2021-10-03T18:23:22.701Z"
      },
      {
        "duration": 73,
        "start_time": "2021-10-03T18:23:47.595Z"
      },
      {
        "duration": 739,
        "start_time": "2021-10-03T18:23:47.670Z"
      },
      {
        "duration": 68,
        "start_time": "2021-10-03T18:23:48.411Z"
      },
      {
        "duration": 732,
        "start_time": "2021-10-03T18:23:48.481Z"
      },
      {
        "duration": 693,
        "start_time": "2021-10-03T18:24:06.909Z"
      },
      {
        "duration": 578,
        "start_time": "2021-10-03T18:24:11.942Z"
      },
      {
        "duration": 679,
        "start_time": "2021-10-03T18:25:52.838Z"
      },
      {
        "duration": 1038,
        "start_time": "2021-10-03T18:27:51.232Z"
      },
      {
        "duration": 756,
        "start_time": "2021-10-03T18:28:11.835Z"
      },
      {
        "duration": 799,
        "start_time": "2021-10-03T18:28:32.095Z"
      },
      {
        "duration": 724,
        "start_time": "2021-10-03T18:28:49.122Z"
      },
      {
        "duration": 92,
        "start_time": "2021-10-03T18:30:58.472Z"
      },
      {
        "duration": 8719,
        "start_time": "2021-10-03T18:43:11.453Z"
      },
      {
        "duration": 352,
        "start_time": "2021-10-03T18:44:59.222Z"
      },
      {
        "duration": 50,
        "start_time": "2021-10-03T18:45:04.973Z"
      },
      {
        "duration": 57,
        "start_time": "2021-10-03T18:45:36.751Z"
      },
      {
        "duration": 339,
        "start_time": "2021-10-03T18:46:02.879Z"
      },
      {
        "duration": 27,
        "start_time": "2021-10-03T18:46:09.937Z"
      },
      {
        "duration": 342,
        "start_time": "2021-10-03T18:46:23.021Z"
      },
      {
        "duration": 120,
        "start_time": "2021-10-03T18:46:52.563Z"
      },
      {
        "duration": 112,
        "start_time": "2021-10-03T18:54:24.810Z"
      },
      {
        "duration": 23,
        "start_time": "2021-10-03T18:55:29.176Z"
      },
      {
        "duration": 219,
        "start_time": "2021-10-03T18:59:09.888Z"
      },
      {
        "duration": 412,
        "start_time": "2021-10-03T19:00:57.663Z"
      },
      {
        "duration": 5,
        "start_time": "2021-10-03T19:01:25.105Z"
      },
      {
        "duration": 1697,
        "start_time": "2021-10-03T19:01:31.885Z"
      },
      {
        "duration": 283,
        "start_time": "2021-10-03T19:01:42.021Z"
      },
      {
        "duration": 5,
        "start_time": "2021-10-03T19:03:43.679Z"
      },
      {
        "duration": 428,
        "start_time": "2021-10-03T19:08:27.402Z"
      },
      {
        "duration": 29,
        "start_time": "2021-10-03T19:08:34.020Z"
      },
      {
        "duration": 419,
        "start_time": "2021-10-03T19:09:34.313Z"
      },
      {
        "duration": 26,
        "start_time": "2021-10-03T19:09:35.601Z"
      },
      {
        "duration": 17,
        "start_time": "2021-10-03T19:10:36.374Z"
      },
      {
        "duration": 477,
        "start_time": "2021-10-03T19:12:48.768Z"
      },
      {
        "duration": 28,
        "start_time": "2021-10-03T19:12:56.622Z"
      },
      {
        "duration": 72,
        "start_time": "2021-10-03T19:13:32.932Z"
      },
      {
        "duration": 17,
        "start_time": "2021-10-03T19:13:33.634Z"
      },
      {
        "duration": 855,
        "start_time": "2021-10-03T19:13:38.241Z"
      },
      {
        "duration": 1562,
        "start_time": "2021-10-03T20:09:50.809Z"
      },
      {
        "duration": 1218,
        "start_time": "2021-10-03T20:09:52.373Z"
      },
      {
        "duration": 31,
        "start_time": "2021-10-03T20:09:53.594Z"
      },
      {
        "duration": 178,
        "start_time": "2021-10-03T20:09:53.628Z"
      },
      {
        "duration": 405,
        "start_time": "2021-10-03T20:09:53.808Z"
      },
      {
        "duration": 48,
        "start_time": "2021-10-03T20:09:54.216Z"
      },
      {
        "duration": 749,
        "start_time": "2021-10-03T20:09:54.267Z"
      },
      {
        "duration": 80,
        "start_time": "2021-10-03T20:09:55.020Z"
      },
      {
        "duration": 85,
        "start_time": "2021-10-03T20:09:55.103Z"
      },
      {
        "duration": 148,
        "start_time": "2021-10-03T20:09:55.191Z"
      },
      {
        "duration": 30691,
        "start_time": "2021-10-03T20:09:55.342Z"
      },
      {
        "duration": 173,
        "start_time": "2021-10-03T20:10:26.035Z"
      },
      {
        "duration": 35843,
        "start_time": "2021-10-03T20:10:26.210Z"
      },
      {
        "duration": 65,
        "start_time": "2021-10-03T20:11:02.062Z"
      },
      {
        "duration": 628,
        "start_time": "2021-10-03T20:11:02.129Z"
      },
      {
        "duration": 58,
        "start_time": "2021-10-03T20:11:02.763Z"
      },
      {
        "duration": 696,
        "start_time": "2021-10-03T20:11:02.823Z"
      },
      {
        "duration": 668,
        "start_time": "2021-10-03T20:11:03.521Z"
      },
      {
        "duration": 632,
        "start_time": "2021-10-03T20:11:04.192Z"
      },
      {
        "duration": 95,
        "start_time": "2021-10-03T20:11:04.827Z"
      },
      {
        "duration": 71,
        "start_time": "2021-10-03T20:11:04.925Z"
      },
      {
        "duration": 63,
        "start_time": "2021-10-03T20:11:04.999Z"
      },
      {
        "duration": 27,
        "start_time": "2021-10-03T20:11:05.069Z"
      },
      {
        "duration": 133,
        "start_time": "2021-10-03T20:11:05.099Z"
      },
      {
        "duration": 475,
        "start_time": "2021-10-03T20:11:05.235Z"
      },
      {
        "duration": 31,
        "start_time": "2021-10-03T20:11:05.713Z"
      },
      {
        "duration": 60,
        "start_time": "2021-10-03T20:11:05.763Z"
      },
      {
        "duration": 39,
        "start_time": "2021-10-03T20:11:05.825Z"
      },
      {
        "duration": 1201,
        "start_time": "2021-10-03T20:11:05.866Z"
      },
      {
        "duration": 105,
        "start_time": "2021-10-03T20:11:07.070Z"
      },
      {
        "duration": 574,
        "start_time": "2021-10-03T20:11:06.604Z"
      },
      {
        "duration": 559,
        "start_time": "2021-10-03T20:11:06.620Z"
      },
      {
        "duration": 545,
        "start_time": "2021-10-03T20:11:06.636Z"
      },
      {
        "duration": 535,
        "start_time": "2021-10-03T20:11:06.647Z"
      },
      {
        "duration": 529,
        "start_time": "2021-10-03T20:11:06.654Z"
      },
      {
        "duration": 134,
        "start_time": "2021-10-03T20:11:31.180Z"
      },
      {
        "duration": 2300,
        "start_time": "2021-10-03T20:11:51.719Z"
      },
      {
        "duration": 2506,
        "start_time": "2021-10-03T20:13:14.801Z"
      },
      {
        "duration": 136,
        "start_time": "2021-10-03T20:13:43.301Z"
      },
      {
        "duration": 244,
        "start_time": "2021-10-03T20:13:54.270Z"
      },
      {
        "duration": 261,
        "start_time": "2021-10-03T20:14:10.854Z"
      },
      {
        "duration": 2608,
        "start_time": "2021-10-03T20:14:23.433Z"
      },
      {
        "duration": 1133765,
        "start_time": "2021-10-03T20:14:44.894Z"
      },
      {
        "duration": 1063,
        "start_time": "2021-10-04T15:58:29.861Z"
      },
      {
        "duration": 766,
        "start_time": "2021-10-04T15:58:30.929Z"
      },
      {
        "duration": 18,
        "start_time": "2021-10-04T15:58:31.697Z"
      },
      {
        "duration": 129,
        "start_time": "2021-10-04T15:58:31.717Z"
      },
      {
        "duration": 272,
        "start_time": "2021-10-04T15:58:31.848Z"
      },
      {
        "duration": 45,
        "start_time": "2021-10-04T15:58:32.122Z"
      },
      {
        "duration": 433,
        "start_time": "2021-10-04T15:58:32.171Z"
      },
      {
        "duration": 49,
        "start_time": "2021-10-04T15:58:32.606Z"
      },
      {
        "duration": 45,
        "start_time": "2021-10-04T15:58:32.657Z"
      },
      {
        "duration": 104,
        "start_time": "2021-10-04T15:58:32.704Z"
      },
      {
        "duration": 11183,
        "start_time": "2021-10-04T15:58:32.810Z"
      },
      {
        "duration": 112,
        "start_time": "2021-10-04T15:58:43.994Z"
      },
      {
        "duration": 11342,
        "start_time": "2021-10-04T15:58:44.108Z"
      },
      {
        "duration": 36,
        "start_time": "2021-10-04T15:58:55.452Z"
      },
      {
        "duration": 372,
        "start_time": "2021-10-04T15:58:55.489Z"
      },
      {
        "duration": 45,
        "start_time": "2021-10-04T15:58:55.863Z"
      },
      {
        "duration": 415,
        "start_time": "2021-10-04T15:58:55.910Z"
      },
      {
        "duration": 607,
        "start_time": "2021-10-04T15:58:56.327Z"
      },
      {
        "duration": 501,
        "start_time": "2021-10-04T15:58:56.945Z"
      },
      {
        "duration": 65,
        "start_time": "2021-10-04T15:58:57.447Z"
      },
      {
        "duration": 47,
        "start_time": "2021-10-04T15:58:57.514Z"
      },
      {
        "duration": 34,
        "start_time": "2021-10-04T15:58:57.564Z"
      },
      {
        "duration": 15,
        "start_time": "2021-10-04T15:58:57.600Z"
      },
      {
        "duration": 96,
        "start_time": "2021-10-04T15:58:57.616Z"
      },
      {
        "duration": 277,
        "start_time": "2021-10-04T15:58:57.713Z"
      },
      {
        "duration": 19,
        "start_time": "2021-10-04T15:58:57.992Z"
      },
      {
        "duration": 61,
        "start_time": "2021-10-04T15:58:58.013Z"
      },
      {
        "duration": 9,
        "start_time": "2021-10-04T15:58:58.076Z"
      },
      {
        "duration": 885,
        "start_time": "2021-10-04T15:58:58.087Z"
      },
      {
        "duration": 477,
        "start_time": "2021-10-04T15:58:58.974Z"
      },
      {
        "duration": 550,
        "start_time": "2021-10-04T15:58:58.903Z"
      },
      {
        "duration": 544,
        "start_time": "2021-10-04T15:58:58.910Z"
      },
      {
        "duration": 541,
        "start_time": "2021-10-04T15:58:58.914Z"
      },
      {
        "duration": 539,
        "start_time": "2021-10-04T15:58:58.917Z"
      },
      {
        "duration": 538,
        "start_time": "2021-10-04T15:58:58.919Z"
      },
      {
        "duration": 532,
        "start_time": "2021-10-04T15:58:58.926Z"
      },
      {
        "duration": 530,
        "start_time": "2021-10-04T15:58:58.929Z"
      },
      {
        "duration": 529,
        "start_time": "2021-10-04T15:58:58.931Z"
      },
      {
        "duration": 528,
        "start_time": "2021-10-04T15:58:58.933Z"
      },
      {
        "duration": 9,
        "start_time": "2021-10-04T15:59:40.424Z"
      },
      {
        "duration": 78491,
        "start_time": "2021-10-04T15:59:49.990Z"
      },
      {
        "duration": 478,
        "start_time": "2021-10-04T16:01:30.214Z"
      },
      {
        "duration": 195,
        "start_time": "2021-10-04T16:02:28.025Z"
      },
      {
        "duration": 266,
        "start_time": "2021-10-04T16:02:34.433Z"
      },
      {
        "duration": 1062,
        "start_time": "2021-10-04T16:02:42.498Z"
      },
      {
        "duration": 757,
        "start_time": "2021-10-04T16:02:43.562Z"
      },
      {
        "duration": 28,
        "start_time": "2021-10-04T16:02:44.321Z"
      },
      {
        "duration": 143,
        "start_time": "2021-10-04T16:02:44.351Z"
      },
      {
        "duration": 287,
        "start_time": "2021-10-04T16:02:44.496Z"
      },
      {
        "duration": 27,
        "start_time": "2021-10-04T16:02:44.785Z"
      },
      {
        "duration": 536,
        "start_time": "2021-10-04T16:02:44.815Z"
      },
      {
        "duration": 38,
        "start_time": "2021-10-04T16:02:45.354Z"
      },
      {
        "duration": 66,
        "start_time": "2021-10-04T16:02:45.394Z"
      },
      {
        "duration": 100,
        "start_time": "2021-10-04T16:02:45.462Z"
      },
      {
        "duration": 12533,
        "start_time": "2021-10-04T16:02:45.564Z"
      },
      {
        "duration": 114,
        "start_time": "2021-10-04T16:02:58.098Z"
      },
      {
        "duration": 11784,
        "start_time": "2021-10-04T16:02:58.213Z"
      },
      {
        "duration": 52,
        "start_time": "2021-10-04T16:03:09.998Z"
      },
      {
        "duration": 340,
        "start_time": "2021-10-04T16:03:10.051Z"
      },
      {
        "duration": 54,
        "start_time": "2021-10-04T16:03:10.393Z"
      },
      {
        "duration": 401,
        "start_time": "2021-10-04T16:03:10.449Z"
      },
      {
        "duration": 371,
        "start_time": "2021-10-04T16:03:10.852Z"
      },
      {
        "duration": 361,
        "start_time": "2021-10-04T16:03:11.224Z"
      },
      {
        "duration": 69,
        "start_time": "2021-10-04T16:03:11.587Z"
      },
      {
        "duration": 33,
        "start_time": "2021-10-04T16:03:11.657Z"
      },
      {
        "duration": 55,
        "start_time": "2021-10-04T16:03:11.693Z"
      },
      {
        "duration": 17,
        "start_time": "2021-10-04T16:03:11.751Z"
      },
      {
        "duration": 97,
        "start_time": "2021-10-04T16:03:11.769Z"
      },
      {
        "duration": 291,
        "start_time": "2021-10-04T16:03:11.868Z"
      },
      {
        "duration": 20,
        "start_time": "2021-10-04T16:03:12.161Z"
      },
      {
        "duration": 66,
        "start_time": "2021-10-04T16:03:12.183Z"
      },
      {
        "duration": 10,
        "start_time": "2021-10-04T16:03:12.250Z"
      },
      {
        "duration": 802,
        "start_time": "2021-10-04T16:03:12.262Z"
      },
      {
        "duration": 177,
        "start_time": "2021-10-04T16:03:13.066Z"
      },
      {
        "duration": 89,
        "start_time": "2021-10-04T16:52:59.016Z"
      },
      {
        "duration": 1231,
        "start_time": "2021-10-06T05:06:00.809Z"
      },
      {
        "duration": 785,
        "start_time": "2021-10-06T05:06:02.312Z"
      },
      {
        "duration": 18,
        "start_time": "2021-10-06T05:06:03.099Z"
      },
      {
        "duration": 129,
        "start_time": "2021-10-06T05:06:03.119Z"
      },
      {
        "duration": 314,
        "start_time": "2021-10-06T05:06:03.249Z"
      },
      {
        "duration": 26,
        "start_time": "2021-10-06T05:06:04.135Z"
      },
      {
        "duration": 427,
        "start_time": "2021-10-06T05:06:04.784Z"
      },
      {
        "duration": 42,
        "start_time": "2021-10-06T05:06:05.213Z"
      },
      {
        "duration": 46,
        "start_time": "2021-10-06T05:06:05.608Z"
      },
      {
        "duration": 90,
        "start_time": "2021-10-06T05:06:06.025Z"
      },
      {
        "duration": 11438,
        "start_time": "2021-10-06T05:06:06.439Z"
      },
      {
        "duration": 112,
        "start_time": "2021-10-06T05:06:17.879Z"
      },
      {
        "duration": 11362,
        "start_time": "2021-10-06T05:06:17.993Z"
      },
      {
        "duration": 39,
        "start_time": "2021-10-06T05:06:29.357Z"
      },
      {
        "duration": 348,
        "start_time": "2021-10-06T05:06:29.398Z"
      },
      {
        "duration": 41,
        "start_time": "2021-10-06T05:06:29.748Z"
      },
      {
        "duration": 422,
        "start_time": "2021-10-06T05:06:29.791Z"
      },
      {
        "duration": 376,
        "start_time": "2021-10-06T05:06:30.215Z"
      },
      {
        "duration": 358,
        "start_time": "2021-10-06T05:06:30.593Z"
      },
      {
        "duration": 69,
        "start_time": "2021-10-06T05:06:30.953Z"
      },
      {
        "duration": 27,
        "start_time": "2021-10-06T05:06:31.076Z"
      },
      {
        "duration": 53,
        "start_time": "2021-10-06T05:06:31.105Z"
      },
      {
        "duration": 15,
        "start_time": "2021-10-06T05:06:31.160Z"
      },
      {
        "duration": 87,
        "start_time": "2021-10-06T05:06:31.176Z"
      },
      {
        "duration": 273,
        "start_time": "2021-10-06T05:06:31.265Z"
      },
      {
        "duration": 19,
        "start_time": "2021-10-06T05:06:31.539Z"
      },
      {
        "duration": 41,
        "start_time": "2021-10-06T05:06:31.560Z"
      },
      {
        "duration": 10,
        "start_time": "2021-10-06T05:06:31.602Z"
      },
      {
        "duration": 935,
        "start_time": "2021-10-06T05:06:31.613Z"
      },
      {
        "duration": 97,
        "start_time": "2021-10-06T05:06:32.553Z"
      },
      {
        "duration": 54142,
        "start_time": "2021-10-06T05:06:52.096Z"
      },
      {
        "duration": 12,
        "start_time": "2021-10-06T05:07:46.240Z"
      },
      {
        "duration": 240,
        "start_time": "2021-10-06T05:12:17.894Z"
      },
      {
        "duration": 4,
        "start_time": "2021-10-06T05:12:47.550Z"
      },
      {
        "duration": 1857,
        "start_time": "2021-10-06T05:12:56.389Z"
      },
      {
        "duration": 9,
        "start_time": "2021-10-06T05:13:04.469Z"
      },
      {
        "duration": 146,
        "start_time": "2021-10-06T05:13:17.637Z"
      },
      {
        "duration": 703470,
        "start_time": "2021-10-06T05:13:32.093Z"
      },
      {
        "duration": 9,
        "start_time": "2021-10-06T05:25:15.565Z"
      },
      {
        "duration": 15863,
        "start_time": "2021-10-06T05:25:50.134Z"
      },
      {
        "duration": 220,
        "start_time": "2021-10-06T05:26:05.999Z"
      },
      {
        "duration": 17456,
        "start_time": "2021-10-06T05:26:20.862Z"
      },
      {
        "duration": 220,
        "start_time": "2021-10-06T05:26:38.320Z"
      },
      {
        "duration": 15131,
        "start_time": "2021-10-06T05:28:26.254Z"
      },
      {
        "duration": 342,
        "start_time": "2021-10-06T05:28:41.387Z"
      },
      {
        "duration": 5,
        "start_time": "2021-10-06T05:29:18.279Z"
      },
      {
        "duration": 15419,
        "start_time": "2021-10-06T05:29:29.648Z"
      },
      {
        "duration": 221,
        "start_time": "2021-10-06T05:29:45.069Z"
      },
      {
        "duration": 10,
        "start_time": "2021-10-06T05:30:00.863Z"
      },
      {
        "duration": 11,
        "start_time": "2021-10-06T05:30:15.134Z"
      },
      {
        "duration": 9,
        "start_time": "2021-10-06T05:30:32.669Z"
      },
      {
        "duration": 12,
        "start_time": "2021-10-06T05:32:18.357Z"
      },
      {
        "duration": 1203,
        "start_time": "2021-10-06T05:41:53.932Z"
      },
      {
        "duration": 753,
        "start_time": "2021-10-06T05:41:55.139Z"
      },
      {
        "duration": 19,
        "start_time": "2021-10-06T05:41:55.894Z"
      },
      {
        "duration": 130,
        "start_time": "2021-10-06T05:41:55.914Z"
      },
      {
        "duration": 281,
        "start_time": "2021-10-06T05:41:56.046Z"
      },
      {
        "duration": 38,
        "start_time": "2021-10-06T05:41:56.329Z"
      },
      {
        "duration": 431,
        "start_time": "2021-10-06T05:41:56.369Z"
      },
      {
        "duration": 47,
        "start_time": "2021-10-06T05:41:56.803Z"
      },
      {
        "duration": 46,
        "start_time": "2021-10-06T05:41:56.852Z"
      },
      {
        "duration": 107,
        "start_time": "2021-10-06T05:41:56.900Z"
      },
      {
        "duration": 11122,
        "start_time": "2021-10-06T05:41:57.009Z"
      },
      {
        "duration": 100,
        "start_time": "2021-10-06T05:42:08.133Z"
      },
      {
        "duration": 11052,
        "start_time": "2021-10-06T05:42:08.245Z"
      },
      {
        "duration": 51,
        "start_time": "2021-10-06T05:42:19.298Z"
      },
      {
        "duration": 347,
        "start_time": "2021-10-06T05:42:19.351Z"
      },
      {
        "duration": 45,
        "start_time": "2021-10-06T05:42:19.699Z"
      },
      {
        "duration": 402,
        "start_time": "2021-10-06T05:42:19.746Z"
      },
      {
        "duration": 398,
        "start_time": "2021-10-06T05:42:20.150Z"
      },
      {
        "duration": 354,
        "start_time": "2021-10-06T05:42:20.550Z"
      },
      {
        "duration": 71,
        "start_time": "2021-10-06T05:42:20.907Z"
      },
      {
        "duration": 34,
        "start_time": "2021-10-06T05:42:20.980Z"
      },
      {
        "duration": 51,
        "start_time": "2021-10-06T05:42:21.017Z"
      },
      {
        "duration": 15,
        "start_time": "2021-10-06T05:42:21.070Z"
      },
      {
        "duration": 96,
        "start_time": "2021-10-06T05:42:21.087Z"
      },
      {
        "duration": 608,
        "start_time": "2021-10-06T05:42:21.185Z"
      },
      {
        "duration": -425,
        "start_time": "2021-10-06T05:42:22.220Z"
      },
      {
        "duration": -427,
        "start_time": "2021-10-06T05:42:22.223Z"
      },
      {
        "duration": -445,
        "start_time": "2021-10-06T05:42:22.243Z"
      },
      {
        "duration": -448,
        "start_time": "2021-10-06T05:42:22.247Z"
      },
      {
        "duration": -452,
        "start_time": "2021-10-06T05:42:22.252Z"
      },
      {
        "duration": -454,
        "start_time": "2021-10-06T05:42:22.255Z"
      },
      {
        "duration": -456,
        "start_time": "2021-10-06T05:42:22.258Z"
      },
      {
        "duration": -458,
        "start_time": "2021-10-06T05:42:22.261Z"
      },
      {
        "duration": -461,
        "start_time": "2021-10-06T05:42:22.265Z"
      },
      {
        "duration": -463,
        "start_time": "2021-10-06T05:42:22.268Z"
      },
      {
        "duration": -466,
        "start_time": "2021-10-06T05:42:22.272Z"
      },
      {
        "duration": -469,
        "start_time": "2021-10-06T05:42:22.276Z"
      },
      {
        "duration": -472,
        "start_time": "2021-10-06T05:42:22.280Z"
      },
      {
        "duration": -475,
        "start_time": "2021-10-06T05:42:22.284Z"
      },
      {
        "duration": -478,
        "start_time": "2021-10-06T05:42:22.288Z"
      },
      {
        "duration": -480,
        "start_time": "2021-10-06T05:42:22.291Z"
      },
      {
        "duration": -482,
        "start_time": "2021-10-06T05:42:22.294Z"
      },
      {
        "duration": -484,
        "start_time": "2021-10-06T05:42:22.297Z"
      },
      {
        "duration": -487,
        "start_time": "2021-10-06T05:42:22.301Z"
      },
      {
        "duration": -489,
        "start_time": "2021-10-06T05:42:22.304Z"
      },
      {
        "duration": 7,
        "start_time": "2021-10-06T05:53:19.754Z"
      },
      {
        "duration": 261,
        "start_time": "2021-10-06T05:53:20.675Z"
      },
      {
        "duration": 19,
        "start_time": "2021-10-06T05:53:22.835Z"
      },
      {
        "duration": 16,
        "start_time": "2021-10-06T05:53:31.794Z"
      },
      {
        "duration": 41,
        "start_time": "2021-10-06T05:53:40.746Z"
      },
      {
        "duration": 10,
        "start_time": "2021-10-06T05:53:41.490Z"
      },
      {
        "duration": 74,
        "start_time": "2021-10-06T05:53:42.434Z"
      },
      {
        "duration": 15,
        "start_time": "2021-10-06T05:53:42.850Z"
      },
      {
        "duration": 805,
        "start_time": "2021-10-06T05:53:45.674Z"
      },
      {
        "duration": 14,
        "start_time": "2021-10-06T05:53:46.545Z"
      },
      {
        "duration": 53419,
        "start_time": "2021-10-06T05:53:46.779Z"
      },
      {
        "duration": 11,
        "start_time": "2021-10-06T05:54:40.200Z"
      },
      {
        "duration": 1865,
        "start_time": "2021-10-06T05:54:40.213Z"
      },
      {
        "duration": 10,
        "start_time": "2021-10-06T05:54:42.080Z"
      },
      {
        "duration": 691279,
        "start_time": "2021-10-06T05:54:42.092Z"
      },
      {
        "duration": 10,
        "start_time": "2021-10-06T06:06:13.373Z"
      },
      {
        "duration": 15661,
        "start_time": "2021-10-06T06:06:13.385Z"
      },
      {
        "duration": 9,
        "start_time": "2021-10-06T06:06:29.048Z"
      },
      {
        "duration": 8466,
        "start_time": "2021-10-06T06:06:29.059Z"
      },
      {
        "duration": 205,
        "start_time": "2021-10-06T06:06:37.527Z"
      },
      {
        "duration": -427,
        "start_time": "2021-10-06T06:06:38.161Z"
      },
      {
        "duration": -440,
        "start_time": "2021-10-06T06:06:38.175Z"
      },
      {
        "duration": 16,
        "start_time": "2021-10-06T06:22:01.676Z"
      },
      {
        "duration": 1490,
        "start_time": "2021-10-06T06:22:57.468Z"
      },
      {
        "duration": 7331,
        "start_time": "2021-10-06T06:23:10.365Z"
      },
      {
        "duration": 15,
        "start_time": "2021-10-06T06:23:42.428Z"
      },
      {
        "duration": 75,
        "start_time": "2021-10-06T06:23:53.917Z"
      },
      {
        "duration": 69,
        "start_time": "2021-10-06T06:24:19.516Z"
      },
      {
        "duration": 1116263,
        "start_time": "2021-10-06T06:24:45.051Z"
      },
      {
        "duration": 14,
        "start_time": "2021-10-06T06:43:21.316Z"
      },
      {
        "duration": 256,
        "start_time": "2021-10-06T06:44:26.371Z"
      },
      {
        "duration": 166,
        "start_time": "2021-10-06T06:50:12.520Z"
      },
      {
        "duration": 15,
        "start_time": "2021-10-06T06:50:35.111Z"
      },
      {
        "duration": 42,
        "start_time": "2021-10-06T06:50:43.534Z"
      },
      {
        "duration": 10,
        "start_time": "2021-10-06T06:50:45.190Z"
      },
      {
        "duration": 59,
        "start_time": "2021-10-06T06:50:47.030Z"
      },
      {
        "duration": 5453,
        "start_time": "2021-10-06T06:50:47.503Z"
      },
      {
        "duration": 17,
        "start_time": "2021-10-06T06:51:27.183Z"
      },
      {
        "duration": 187,
        "start_time": "2021-10-06T06:51:36.670Z"
      },
      {
        "duration": 10,
        "start_time": "2021-10-06T06:51:59.301Z"
      },
      {
        "duration": 6,
        "start_time": "2021-10-06T06:52:16.430Z"
      },
      {
        "duration": 11,
        "start_time": "2021-10-06T06:52:36.055Z"
      },
      {
        "duration": 12,
        "start_time": "2021-10-06T06:52:40.654Z"
      },
      {
        "duration": 11,
        "start_time": "2021-10-06T06:53:44.540Z"
      },
      {
        "duration": 5,
        "start_time": "2021-10-06T06:54:01.093Z"
      },
      {
        "duration": 5311,
        "start_time": "2021-10-06T06:54:05.404Z"
      },
      {
        "duration": 1654,
        "start_time": "2021-10-06T06:54:14.190Z"
      },
      {
        "duration": 9,
        "start_time": "2021-10-06T06:54:22.644Z"
      },
      {
        "duration": 5,
        "start_time": "2021-10-06T06:54:27.380Z"
      },
      {
        "duration": 3519,
        "start_time": "2021-10-06T06:54:39.948Z"
      },
      {
        "duration": 5,
        "start_time": "2021-10-06T06:54:47.140Z"
      },
      {
        "duration": 5,
        "start_time": "2021-10-06T06:54:59.828Z"
      },
      {
        "duration": 184,
        "start_time": "2021-10-06T07:01:55.044Z"
      },
      {
        "duration": 10607,
        "start_time": "2021-10-06T07:02:12.314Z"
      },
      {
        "duration": 10450,
        "start_time": "2021-10-06T07:02:57.360Z"
      },
      {
        "duration": 187,
        "start_time": "2021-10-06T11:04:14.711Z"
      },
      {
        "duration": 18,
        "start_time": "2021-10-06T11:04:35.244Z"
      },
      {
        "duration": 20,
        "start_time": "2021-10-06T11:04:49.244Z"
      },
      {
        "duration": 1100,
        "start_time": "2021-10-06T11:06:19.632Z"
      },
      {
        "duration": 800,
        "start_time": "2021-10-06T11:06:20.733Z"
      },
      {
        "duration": 21,
        "start_time": "2021-10-06T11:06:21.535Z"
      },
      {
        "duration": 131,
        "start_time": "2021-10-06T11:06:21.558Z"
      },
      {
        "duration": 308,
        "start_time": "2021-10-06T11:06:21.691Z"
      },
      {
        "duration": 26,
        "start_time": "2021-10-06T11:06:22.001Z"
      },
      {
        "duration": 449,
        "start_time": "2021-10-06T11:06:22.029Z"
      },
      {
        "duration": 39,
        "start_time": "2021-10-06T11:06:22.481Z"
      },
      {
        "duration": 59,
        "start_time": "2021-10-06T11:06:22.523Z"
      },
      {
        "duration": 106,
        "start_time": "2021-10-06T11:06:22.584Z"
      },
      {
        "duration": 11879,
        "start_time": "2021-10-06T11:06:22.691Z"
      },
      {
        "duration": 133,
        "start_time": "2021-10-06T11:06:34.571Z"
      },
      {
        "duration": 11107,
        "start_time": "2021-10-06T11:06:34.706Z"
      },
      {
        "duration": 50,
        "start_time": "2021-10-06T11:06:45.815Z"
      },
      {
        "duration": 350,
        "start_time": "2021-10-06T11:06:45.867Z"
      },
      {
        "duration": 50,
        "start_time": "2021-10-06T11:06:46.219Z"
      },
      {
        "duration": 407,
        "start_time": "2021-10-06T11:06:46.271Z"
      },
      {
        "duration": 395,
        "start_time": "2021-10-06T11:06:46.680Z"
      },
      {
        "duration": 380,
        "start_time": "2021-10-06T11:06:47.077Z"
      },
      {
        "duration": 73,
        "start_time": "2021-10-06T11:06:47.459Z"
      },
      {
        "duration": 69,
        "start_time": "2021-10-06T11:06:47.534Z"
      },
      {
        "duration": 61,
        "start_time": "2021-10-06T11:06:47.606Z"
      },
      {
        "duration": 31,
        "start_time": "2021-10-06T11:06:47.672Z"
      },
      {
        "duration": 164,
        "start_time": "2021-10-06T11:06:47.706Z"
      },
      {
        "duration": 15,
        "start_time": "2021-10-06T11:06:47.872Z"
      },
      {
        "duration": 290,
        "start_time": "2021-10-06T11:06:47.890Z"
      },
      {
        "duration": 18,
        "start_time": "2021-10-06T11:06:48.182Z"
      },
      {
        "duration": 23,
        "start_time": "2021-10-06T11:06:48.202Z"
      },
      {
        "duration": 53,
        "start_time": "2021-10-06T11:06:48.226Z"
      },
      {
        "duration": 11,
        "start_time": "2021-10-06T11:06:48.281Z"
      },
      {
        "duration": 96,
        "start_time": "2021-10-06T11:06:48.293Z"
      },
      {
        "duration": 17,
        "start_time": "2021-10-06T11:06:48.390Z"
      },
      {
        "duration": 863,
        "start_time": "2021-10-06T11:06:48.409Z"
      },
      {
        "duration": 102,
        "start_time": "2021-10-06T11:06:49.346Z"
      },
      {
        "duration": 51790,
        "start_time": "2021-10-06T11:06:49.449Z"
      },
      {
        "duration": 9,
        "start_time": "2021-10-06T11:07:41.245Z"
      },
      {
        "duration": 1830,
        "start_time": "2021-10-06T11:07:41.256Z"
      },
      {
        "duration": 10,
        "start_time": "2021-10-06T11:07:43.087Z"
      },
      {
        "duration": 737464,
        "start_time": "2021-10-06T11:07:43.098Z"
      },
      {
        "duration": 11,
        "start_time": "2021-10-06T11:20:00.564Z"
      },
      {
        "duration": 15780,
        "start_time": "2021-10-06T11:20:00.576Z"
      },
      {
        "duration": 9,
        "start_time": "2021-10-06T11:20:16.358Z"
      },
      {
        "duration": 9,
        "start_time": "2021-10-06T11:20:16.369Z"
      },
      {
        "duration": 73,
        "start_time": "2021-10-06T11:44:16.774Z"
      },
      {
        "duration": 10,
        "start_time": "2021-10-06T11:46:14.026Z"
      },
      {
        "duration": 4,
        "start_time": "2021-10-07T06:05:56.925Z"
      },
      {
        "duration": 709,
        "start_time": "2021-10-07T06:05:57.301Z"
      },
      {
        "duration": 12,
        "start_time": "2021-10-07T06:05:58.012Z"
      },
      {
        "duration": 125,
        "start_time": "2021-10-07T06:05:58.026Z"
      },
      {
        "duration": 264,
        "start_time": "2021-10-07T06:05:58.153Z"
      },
      {
        "duration": 16,
        "start_time": "2021-10-07T06:05:58.861Z"
      },
      {
        "duration": 407,
        "start_time": "2021-10-07T06:05:59.469Z"
      },
      {
        "duration": 25,
        "start_time": "2021-10-07T06:05:59.878Z"
      },
      {
        "duration": 43,
        "start_time": "2021-10-07T06:06:00.268Z"
      },
      {
        "duration": 77,
        "start_time": "2021-10-07T06:06:00.773Z"
      },
      {
        "duration": 11107,
        "start_time": "2021-10-07T06:06:02.445Z"
      },
      {
        "duration": 112,
        "start_time": "2021-10-07T06:06:13.554Z"
      },
      {
        "duration": 10833,
        "start_time": "2021-10-07T06:06:13.668Z"
      },
      {
        "duration": 27,
        "start_time": "2021-10-07T06:06:24.503Z"
      },
      {
        "duration": 459,
        "start_time": "2021-10-07T06:06:24.531Z"
      },
      {
        "duration": 56,
        "start_time": "2021-10-07T06:06:24.992Z"
      },
      {
        "duration": 331,
        "start_time": "2021-10-07T06:06:25.049Z"
      },
      {
        "duration": 386,
        "start_time": "2021-10-07T06:06:25.383Z"
      },
      {
        "duration": 356,
        "start_time": "2021-10-07T06:06:25.771Z"
      },
      {
        "duration": 68,
        "start_time": "2021-10-07T06:06:26.129Z"
      },
      {
        "duration": 45,
        "start_time": "2021-10-07T06:06:26.199Z"
      },
      {
        "duration": 32,
        "start_time": "2021-10-07T06:06:26.246Z"
      },
      {
        "duration": 14,
        "start_time": "2021-10-07T06:06:26.280Z"
      },
      {
        "duration": 90,
        "start_time": "2021-10-07T06:06:26.295Z"
      },
      {
        "duration": 6,
        "start_time": "2021-10-07T06:06:26.386Z"
      },
      {
        "duration": 282,
        "start_time": "2021-10-07T06:06:26.393Z"
      },
      {
        "duration": 18,
        "start_time": "2021-10-07T06:06:26.676Z"
      },
      {
        "duration": 16,
        "start_time": "2021-10-07T06:06:26.695Z"
      },
      {
        "duration": 65,
        "start_time": "2021-10-07T06:06:26.713Z"
      },
      {
        "duration": 11,
        "start_time": "2021-10-07T06:06:26.779Z"
      },
      {
        "duration": 67,
        "start_time": "2021-10-07T06:06:26.791Z"
      },
      {
        "duration": 14,
        "start_time": "2021-10-07T06:06:26.860Z"
      },
      {
        "duration": 16,
        "start_time": "2021-10-07T06:06:44.213Z"
      },
      {
        "duration": 3,
        "start_time": "2021-10-07T06:07:48.053Z"
      },
      {
        "duration": 16,
        "start_time": "2021-10-07T06:08:07.948Z"
      },
      {
        "duration": 10,
        "start_time": "2021-10-07T06:08:15.197Z"
      },
      {
        "duration": 496,
        "start_time": "2021-10-07T06:08:25.452Z"
      },
      {
        "duration": 581,
        "start_time": "2021-10-07T06:08:36.860Z"
      },
      {
        "duration": 4,
        "start_time": "2021-10-07T06:08:45.652Z"
      },
      {
        "duration": 48,
        "start_time": "2021-10-07T06:08:46.301Z"
      },
      {
        "duration": 12,
        "start_time": "2021-10-07T06:08:53.740Z"
      },
      {
        "duration": 10,
        "start_time": "2021-10-07T06:09:01.709Z"
      },
      {
        "duration": 36,
        "start_time": "2021-10-07T06:09:39.716Z"
      },
      {
        "duration": 16951,
        "start_time": "2021-10-07T06:10:10.260Z"
      },
      {
        "duration": 15553,
        "start_time": "2021-10-07T06:10:51.308Z"
      },
      {
        "duration": 3216,
        "start_time": "2021-10-07T06:12:02.805Z"
      },
      {
        "duration": 1891640,
        "start_time": "2021-10-07T06:12:30.892Z"
      },
      {
        "duration": 189,
        "start_time": "2021-10-07T06:44:44.779Z"
      },
      {
        "duration": 181,
        "start_time": "2021-10-07T06:46:53.444Z"
      },
      {
        "duration": 23,
        "start_time": "2021-10-07T06:48:07.080Z"
      },
      {
        "duration": 162,
        "start_time": "2021-10-07T06:49:03.872Z"
      },
      {
        "duration": 156,
        "start_time": "2021-10-07T06:50:06.928Z"
      },
      {
        "duration": 18,
        "start_time": "2021-10-07T06:52:27.431Z"
      },
      {
        "duration": 14,
        "start_time": "2021-10-07T06:54:19.022Z"
      },
      {
        "duration": 205,
        "start_time": "2021-10-07T06:54:33.310Z"
      },
      {
        "duration": 259,
        "start_time": "2021-10-07T06:56:36.781Z"
      },
      {
        "duration": 6,
        "start_time": "2021-10-07T06:56:53.765Z"
      },
      {
        "duration": 6,
        "start_time": "2021-10-07T06:56:58.649Z"
      },
      {
        "duration": 9,
        "start_time": "2021-10-07T06:58:05.004Z"
      },
      {
        "duration": 291,
        "start_time": "2021-10-07T07:00:04.203Z"
      },
      {
        "duration": 1077,
        "start_time": "2021-10-07T07:00:11.651Z"
      },
      {
        "duration": 738,
        "start_time": "2021-10-07T07:00:12.729Z"
      },
      {
        "duration": 18,
        "start_time": "2021-10-07T07:00:13.469Z"
      },
      {
        "duration": 125,
        "start_time": "2021-10-07T07:00:13.489Z"
      },
      {
        "duration": 271,
        "start_time": "2021-10-07T07:00:13.616Z"
      },
      {
        "duration": 25,
        "start_time": "2021-10-07T07:00:13.889Z"
      },
      {
        "duration": 420,
        "start_time": "2021-10-07T07:00:14.042Z"
      },
      {
        "duration": 39,
        "start_time": "2021-10-07T07:00:14.464Z"
      },
      {
        "duration": 45,
        "start_time": "2021-10-07T07:00:14.826Z"
      },
      {
        "duration": 89,
        "start_time": "2021-10-07T07:00:15.211Z"
      },
      {
        "duration": 11081,
        "start_time": "2021-10-07T07:00:15.571Z"
      },
      {
        "duration": 110,
        "start_time": "2021-10-07T07:00:26.654Z"
      },
      {
        "duration": 9014,
        "start_time": "2021-10-07T07:00:37.682Z"
      },
      {
        "duration": 46,
        "start_time": "2021-10-07T07:00:46.698Z"
      },
      {
        "duration": 338,
        "start_time": "2021-10-07T07:00:46.746Z"
      },
      {
        "duration": 43,
        "start_time": "2021-10-07T07:00:47.086Z"
      },
      {
        "duration": 414,
        "start_time": "2021-10-07T07:00:47.130Z"
      },
      {
        "duration": 365,
        "start_time": "2021-10-07T07:00:47.546Z"
      },
      {
        "duration": 348,
        "start_time": "2021-10-07T07:00:47.913Z"
      },
      {
        "duration": 63,
        "start_time": "2021-10-07T07:00:48.263Z"
      },
      {
        "duration": 50,
        "start_time": "2021-10-07T07:00:48.328Z"
      },
      {
        "duration": 34,
        "start_time": "2021-10-07T07:00:48.380Z"
      },
      {
        "duration": 29,
        "start_time": "2021-10-07T07:00:48.416Z"
      },
      {
        "duration": 95,
        "start_time": "2021-10-07T07:00:48.446Z"
      },
      {
        "duration": 8,
        "start_time": "2021-10-07T07:00:53.673Z"
      },
      {
        "duration": 263,
        "start_time": "2021-10-07T07:00:53.858Z"
      },
      {
        "duration": 28,
        "start_time": "2021-10-07T07:00:54.123Z"
      },
      {
        "duration": 17,
        "start_time": "2021-10-07T07:00:54.250Z"
      },
      {
        "duration": 45,
        "start_time": "2021-10-07T07:01:00.298Z"
      },
      {
        "duration": 10,
        "start_time": "2021-10-07T07:01:00.474Z"
      },
      {
        "duration": 75,
        "start_time": "2021-10-07T07:01:00.812Z"
      },
      {
        "duration": 15,
        "start_time": "2021-10-07T07:01:00.969Z"
      },
      {
        "duration": 3,
        "start_time": "2021-10-07T07:01:01.145Z"
      },
      {
        "duration": 77,
        "start_time": "2021-10-07T07:01:01.650Z"
      },
      {
        "duration": 331,
        "start_time": "2021-10-07T07:01:11.938Z"
      },
      {
        "duration": 7,
        "start_time": "2021-10-07T07:01:25.584Z"
      },
      {
        "duration": 244,
        "start_time": "2021-10-07T07:01:53.146Z"
      },
      {
        "duration": 8,
        "start_time": "2021-10-07T07:02:58.620Z"
      },
      {
        "duration": 10,
        "start_time": "2021-10-07T07:03:18.954Z"
      },
      {
        "duration": 15,
        "start_time": "2021-10-07T07:03:42.866Z"
      },
      {
        "duration": 349,
        "start_time": "2021-10-07T07:04:13.042Z"
      },
      {
        "duration": 288,
        "start_time": "2021-10-07T07:04:51.113Z"
      },
      {
        "duration": 13,
        "start_time": "2021-10-07T07:05:28.961Z"
      },
      {
        "duration": 106,
        "start_time": "2021-10-07T07:05:56.105Z"
      },
      {
        "duration": 5,
        "start_time": "2021-10-07T07:06:08.112Z"
      },
      {
        "duration": 6,
        "start_time": "2021-10-07T07:06:19.547Z"
      },
      {
        "duration": 8,
        "start_time": "2021-10-07T07:07:18.017Z"
      },
      {
        "duration": 14,
        "start_time": "2021-10-07T07:08:24.944Z"
      },
      {
        "duration": 251,
        "start_time": "2021-10-07T07:08:35.592Z"
      },
      {
        "duration": 7,
        "start_time": "2021-10-07T07:09:03.086Z"
      },
      {
        "duration": 21,
        "start_time": "2021-10-07T07:09:20.301Z"
      },
      {
        "duration": 6,
        "start_time": "2021-10-07T07:11:45.812Z"
      },
      {
        "duration": 7,
        "start_time": "2021-10-07T07:11:59.300Z"
      },
      {
        "duration": 7,
        "start_time": "2021-10-07T07:12:09.260Z"
      },
      {
        "duration": 6,
        "start_time": "2021-10-07T07:12:39.140Z"
      },
      {
        "duration": 6,
        "start_time": "2021-10-07T07:12:43.924Z"
      },
      {
        "duration": 6,
        "start_time": "2021-10-07T07:12:50.932Z"
      },
      {
        "duration": 6,
        "start_time": "2021-10-07T07:12:59.171Z"
      },
      {
        "duration": 6,
        "start_time": "2021-10-07T07:13:07.213Z"
      },
      {
        "duration": 6,
        "start_time": "2021-10-07T07:13:11.844Z"
      },
      {
        "duration": 8,
        "start_time": "2021-10-07T07:13:27.076Z"
      },
      {
        "duration": 4,
        "start_time": "2021-10-07T07:16:46.946Z"
      },
      {
        "duration": 3,
        "start_time": "2021-10-07T07:16:54.363Z"
      },
      {
        "duration": 4,
        "start_time": "2021-10-07T07:17:11.713Z"
      },
      {
        "duration": 4,
        "start_time": "2021-10-07T07:17:19.706Z"
      },
      {
        "duration": 4,
        "start_time": "2021-10-07T07:17:20.090Z"
      },
      {
        "duration": 3,
        "start_time": "2021-10-07T07:17:36.634Z"
      },
      {
        "duration": 4,
        "start_time": "2021-10-07T07:17:37.081Z"
      },
      {
        "duration": 32,
        "start_time": "2021-10-07T07:17:53.930Z"
      },
      {
        "duration": 4,
        "start_time": "2021-10-07T07:17:54.681Z"
      },
      {
        "duration": 3,
        "start_time": "2021-10-07T07:18:07.962Z"
      },
      {
        "duration": 4,
        "start_time": "2021-10-07T07:18:08.273Z"
      },
      {
        "duration": 196,
        "start_time": "2021-10-07T07:18:14.451Z"
      },
      {
        "duration": 621,
        "start_time": "2021-10-07T07:18:30.553Z"
      },
      {
        "duration": 717,
        "start_time": "2021-10-07T07:18:36.353Z"
      },
      {
        "duration": 5,
        "start_time": "2021-10-07T07:18:46.161Z"
      },
      {
        "duration": 249,
        "start_time": "2021-10-07T07:18:57.672Z"
      },
      {
        "duration": 4,
        "start_time": "2021-10-07T07:18:58.003Z"
      },
      {
        "duration": 224,
        "start_time": "2021-10-07T07:19:10.889Z"
      },
      {
        "duration": 4,
        "start_time": "2021-10-07T07:19:17.842Z"
      },
      {
        "duration": 4,
        "start_time": "2021-10-07T07:19:18.745Z"
      },
      {
        "duration": 195,
        "start_time": "2021-10-07T07:19:26.050Z"
      },
      {
        "duration": 222,
        "start_time": "2021-10-07T07:19:36.841Z"
      },
      {
        "duration": 225,
        "start_time": "2021-10-07T07:19:44.081Z"
      },
      {
        "duration": 4,
        "start_time": "2021-10-07T07:19:49.353Z"
      },
      {
        "duration": 216,
        "start_time": "2021-10-07T07:19:58.642Z"
      },
      {
        "duration": 2466667,
        "start_time": "2021-10-07T07:23:05.353Z"
      },
      {
        "duration": 263,
        "start_time": "2021-10-07T08:34:03.210Z"
      },
      {
        "duration": 1093,
        "start_time": "2021-10-07T08:34:32.041Z"
      },
      {
        "duration": 788,
        "start_time": "2021-10-07T08:34:33.135Z"
      },
      {
        "duration": 27,
        "start_time": "2021-10-07T08:34:33.925Z"
      },
      {
        "duration": 124,
        "start_time": "2021-10-07T08:34:33.954Z"
      },
      {
        "duration": 300,
        "start_time": "2021-10-07T08:34:34.080Z"
      },
      {
        "duration": 27,
        "start_time": "2021-10-07T08:34:34.381Z"
      },
      {
        "duration": 437,
        "start_time": "2021-10-07T08:34:34.410Z"
      },
      {
        "duration": 38,
        "start_time": "2021-10-07T08:34:34.851Z"
      },
      {
        "duration": 65,
        "start_time": "2021-10-07T08:34:34.891Z"
      },
      {
        "duration": 109,
        "start_time": "2021-10-07T08:34:34.958Z"
      },
      {
        "duration": 12061,
        "start_time": "2021-10-07T08:34:35.069Z"
      },
      {
        "duration": 170,
        "start_time": "2021-10-07T08:34:47.131Z"
      },
      {
        "duration": 12168,
        "start_time": "2021-10-07T08:34:47.303Z"
      },
      {
        "duration": 39,
        "start_time": "2021-10-07T08:34:59.473Z"
      },
      {
        "duration": 375,
        "start_time": "2021-10-07T08:34:59.514Z"
      },
      {
        "duration": 54,
        "start_time": "2021-10-07T08:34:59.892Z"
      },
      {
        "duration": 430,
        "start_time": "2021-10-07T08:34:59.948Z"
      },
      {
        "duration": 401,
        "start_time": "2021-10-07T08:35:00.380Z"
      },
      {
        "duration": 377,
        "start_time": "2021-10-07T08:35:00.783Z"
      },
      {
        "duration": 83,
        "start_time": "2021-10-07T08:35:01.162Z"
      },
      {
        "duration": 36,
        "start_time": "2021-10-07T08:35:01.247Z"
      },
      {
        "duration": 36,
        "start_time": "2021-10-07T08:35:01.285Z"
      },
      {
        "duration": 32,
        "start_time": "2021-10-07T08:35:01.325Z"
      },
      {
        "duration": 100,
        "start_time": "2021-10-07T08:35:01.359Z"
      },
      {
        "duration": 7,
        "start_time": "2021-10-07T08:35:01.461Z"
      },
      {
        "duration": 288,
        "start_time": "2021-10-07T08:35:01.470Z"
      },
      {
        "duration": 20,
        "start_time": "2021-10-07T08:35:01.760Z"
      },
      {
        "duration": 20,
        "start_time": "2021-10-07T08:35:01.781Z"
      },
      {
        "duration": 70,
        "start_time": "2021-10-07T08:35:01.803Z"
      },
      {
        "duration": 10,
        "start_time": "2021-10-07T08:35:01.875Z"
      },
      {
        "duration": 88,
        "start_time": "2021-10-07T08:35:01.887Z"
      },
      {
        "duration": 15,
        "start_time": "2021-10-07T08:35:01.977Z"
      },
      {
        "duration": 4,
        "start_time": "2021-10-07T08:35:01.993Z"
      },
      {
        "duration": 100,
        "start_time": "2021-10-07T08:35:01.998Z"
      },
      {
        "duration": 944,
        "start_time": "2021-10-07T08:35:02.100Z"
      },
      {
        "duration": 101,
        "start_time": "2021-10-07T08:35:03.047Z"
      },
      {
        "duration": 52673,
        "start_time": "2021-10-07T08:35:03.149Z"
      },
      {
        "duration": 9,
        "start_time": "2021-10-07T08:35:55.824Z"
      },
      {
        "duration": 1946,
        "start_time": "2021-10-07T08:35:55.834Z"
      },
      {
        "duration": 10,
        "start_time": "2021-10-07T08:35:57.781Z"
      },
      {
        "duration": 736025,
        "start_time": "2021-10-07T08:35:57.793Z"
      },
      {
        "duration": 9,
        "start_time": "2021-10-07T08:48:13.820Z"
      },
      {
        "duration": 17026,
        "start_time": "2021-10-07T08:48:13.830Z"
      },
      {
        "duration": 11,
        "start_time": "2021-10-07T08:48:30.858Z"
      },
      {
        "duration": 9,
        "start_time": "2021-10-07T08:48:30.871Z"
      },
      {
        "duration": 2591329,
        "start_time": "2021-10-07T08:48:30.882Z"
      },
      {
        "duration": 10,
        "start_time": "2021-10-07T09:31:42.213Z"
      },
      {
        "duration": 16926,
        "start_time": "2021-10-07T09:31:42.225Z"
      },
      {
        "duration": 9,
        "start_time": "2021-10-07T09:31:59.153Z"
      },
      {
        "duration": 11,
        "start_time": "2021-10-07T10:20:00.579Z"
      },
      {
        "duration": 10,
        "start_time": "2021-10-07T10:21:25.714Z"
      },
      {
        "duration": 1438,
        "start_time": "2021-10-08T06:24:22.538Z"
      },
      {
        "duration": 1023,
        "start_time": "2021-10-08T06:24:23.979Z"
      },
      {
        "duration": 29,
        "start_time": "2021-10-08T06:24:25.005Z"
      },
      {
        "duration": 166,
        "start_time": "2021-10-08T06:24:25.036Z"
      },
      {
        "duration": 383,
        "start_time": "2021-10-08T06:24:25.205Z"
      },
      {
        "duration": 37,
        "start_time": "2021-10-08T06:24:25.590Z"
      },
      {
        "duration": 693,
        "start_time": "2021-10-08T06:24:25.630Z"
      },
      {
        "duration": 70,
        "start_time": "2021-10-08T06:24:26.326Z"
      },
      {
        "duration": 56,
        "start_time": "2021-10-08T06:24:26.398Z"
      },
      {
        "duration": 155,
        "start_time": "2021-10-08T06:24:26.456Z"
      },
      {
        "duration": 22131,
        "start_time": "2021-10-08T06:24:26.771Z"
      },
      {
        "duration": 164,
        "start_time": "2021-10-08T06:24:48.905Z"
      },
      {
        "duration": 20761,
        "start_time": "2021-10-08T06:24:49.072Z"
      },
      {
        "duration": 78,
        "start_time": "2021-10-08T06:25:09.836Z"
      },
      {
        "duration": 614,
        "start_time": "2021-10-08T06:25:09.916Z"
      },
      {
        "duration": 68,
        "start_time": "2021-10-08T06:25:10.533Z"
      },
      {
        "duration": 660,
        "start_time": "2021-10-08T06:25:10.603Z"
      },
      {
        "duration": 648,
        "start_time": "2021-10-08T06:25:11.268Z"
      },
      {
        "duration": 624,
        "start_time": "2021-10-08T06:25:11.920Z"
      },
      {
        "duration": 94,
        "start_time": "2021-10-08T06:25:12.547Z"
      },
      {
        "duration": 66,
        "start_time": "2021-10-08T06:25:12.644Z"
      },
      {
        "duration": 49,
        "start_time": "2021-10-08T06:25:12.713Z"
      },
      {
        "duration": 39,
        "start_time": "2021-10-08T06:25:12.764Z"
      },
      {
        "duration": 124,
        "start_time": "2021-10-08T06:25:12.806Z"
      },
      {
        "duration": 10,
        "start_time": "2021-10-08T06:25:12.932Z"
      },
      {
        "duration": 443,
        "start_time": "2021-10-08T06:25:12.945Z"
      },
      {
        "duration": 27,
        "start_time": "2021-10-08T06:25:13.391Z"
      },
      {
        "duration": 28,
        "start_time": "2021-10-08T06:25:13.420Z"
      },
      {
        "duration": 85,
        "start_time": "2021-10-08T06:25:13.450Z"
      },
      {
        "duration": 16,
        "start_time": "2021-10-08T06:25:13.537Z"
      },
      {
        "duration": 151,
        "start_time": "2021-10-08T06:25:13.556Z"
      },
      {
        "duration": 21,
        "start_time": "2021-10-08T06:25:13.709Z"
      },
      {
        "duration": 4,
        "start_time": "2021-10-08T06:25:13.735Z"
      },
      {
        "duration": 134,
        "start_time": "2021-10-08T06:25:13.742Z"
      },
      {
        "duration": 908,
        "start_time": "2021-10-08T06:25:13.878Z"
      },
      {
        "duration": 14,
        "start_time": "2021-10-08T06:25:14.882Z"
      },
      {
        "duration": 344,
        "start_time": "2021-10-08T06:25:14.898Z"
      },
      {
        "duration": 309,
        "start_time": "2021-10-08T06:25:15.245Z"
      },
      {
        "duration": 6,
        "start_time": "2021-10-08T06:27:43.345Z"
      },
      {
        "duration": 2421,
        "start_time": "2021-10-08T06:27:52.443Z"
      },
      {
        "duration": 23,
        "start_time": "2021-10-08T06:27:54.867Z"
      },
      {
        "duration": 2387,
        "start_time": "2021-10-08T06:28:05.024Z"
      },
      {
        "duration": 16,
        "start_time": "2021-10-08T06:28:07.414Z"
      },
      {
        "duration": 1117045,
        "start_time": "2021-10-08T06:28:07.434Z"
      },
      {
        "duration": 14,
        "start_time": "2021-10-08T06:46:44.482Z"
      },
      {
        "duration": 21986,
        "start_time": "2021-10-08T06:46:44.498Z"
      },
      {
        "duration": 18,
        "start_time": "2021-10-08T06:47:06.486Z"
      },
      {
        "duration": 9,
        "start_time": "2021-10-08T06:47:06.507Z"
      },
      {
        "duration": 3675680,
        "start_time": "2021-10-08T06:47:06.519Z"
      },
      {
        "duration": 16,
        "start_time": "2021-10-08T07:48:22.201Z"
      },
      {
        "duration": 333067,
        "start_time": "2021-10-08T07:48:22.220Z"
      },
      {
        "duration": 15,
        "start_time": "2021-10-08T07:53:55.290Z"
      },
      {
        "duration": 17,
        "start_time": "2021-10-08T07:53:55.308Z"
      }
    ],
    "kernelspec": {
      "display_name": "Python 3",
      "language": "python",
      "name": "python3"
    },
    "language_info": {
      "codemirror_mode": {
        "name": "ipython",
        "version": 3
      },
      "file_extension": ".py",
      "mimetype": "text/x-python",
      "name": "python",
      "nbconvert_exporter": "python",
      "pygments_lexer": "ipython3",
      "version": "3.7.8"
    },
    "toc": {
      "base_numbering": 1,
      "nav_menu": {},
      "number_sections": true,
      "sideBar": true,
      "skip_h1_title": true,
      "title_cell": "Table of Contents",
      "title_sidebar": "Contents",
      "toc_cell": false,
      "toc_position": {},
      "toc_section_display": true,
      "toc_window_display": false
    },
    "colab": {
      "name": "Project.ipynb",
      "provenance": []
    }
  },
  "cells": [
    {
      "cell_type": "markdown",
      "metadata": {
        "id": "jQefyzn6PgLc"
      },
      "source": [
        "# Определение стоимости автомобилей"
      ]
    },
    {
      "cell_type": "markdown",
      "metadata": {
        "id": "L1wvZcqkPgLd"
      },
      "source": [
        "Сервис по продаже автомобилей с пробегом «Не бит, не крашен» разрабатывает приложение для привлечения новых клиентов. В нём можно быстро узнать рыночную стоимость своего автомобиля. В вашем распоряжении исторические данные: технические характеристики, комплектации и цены автомобилей. Вам нужно построить модель для определения стоимости. \n",
        "\n",
        "Заказчику важны:\n",
        "\n",
        "- качество предсказания;\n",
        "- скорость предсказания;\n",
        "- время обучения."
      ]
    },
    {
      "cell_type": "markdown",
      "metadata": {
        "id": "zkhzx5KKPgLd"
      },
      "source": [
        "## Подготовка данных"
      ]
    },
    {
      "cell_type": "code",
      "metadata": {
        "id": "pzzEfqenPgLe"
      },
      "source": [
        "import pandas as pd\n",
        "import numpy as np\n",
        "\n",
        "from sklearn.model_selection import train_test_split\n",
        "from sklearn.preprocessing import StandardScaler\n",
        "from sklearn.model_selection import cross_val_score\n",
        "from sklearn.model_selection import GridSearchCV\n",
        "from sklearn.preprocessing import OrdinalEncoder\n",
        "\n",
        "from sklearn.linear_model import LinearRegression\n",
        "from sklearn.ensemble import RandomForestRegressor\n",
        "from sklearn.tree import DecisionTreeRegressor\n",
        "from catboost import Pool, CatBoostRegressor, cv\n",
        "from lightgbm import LGBMRegressor\n",
        "\n",
        "from sklearn.metrics import mean_squared_error\n",
        "\n",
        "import time\n",
        "\n",
        "import warnings\n",
        "warnings.filterwarnings('ignore')"
      ],
      "execution_count": null,
      "outputs": []
    },
    {
      "cell_type": "code",
      "metadata": {
        "id": "cC4mSs_3PgLg"
      },
      "source": [
        "df = pd.read_csv('/datasets/autos.csv')"
      ],
      "execution_count": null,
      "outputs": []
    },
    {
      "cell_type": "code",
      "metadata": {
        "id": "-g1Ne9a4PgLh",
        "outputId": "c39c86d3-f2f6-4713-93a3-8cd08490886a"
      },
      "source": [
        "df.head()"
      ],
      "execution_count": null,
      "outputs": [
        {
          "data": {
            "text/html": [
              "<div>\n",
              "<style scoped>\n",
              "    .dataframe tbody tr th:only-of-type {\n",
              "        vertical-align: middle;\n",
              "    }\n",
              "\n",
              "    .dataframe tbody tr th {\n",
              "        vertical-align: top;\n",
              "    }\n",
              "\n",
              "    .dataframe thead th {\n",
              "        text-align: right;\n",
              "    }\n",
              "</style>\n",
              "<table border=\"1\" class=\"dataframe\">\n",
              "  <thead>\n",
              "    <tr style=\"text-align: right;\">\n",
              "      <th></th>\n",
              "      <th>DateCrawled</th>\n",
              "      <th>Price</th>\n",
              "      <th>VehicleType</th>\n",
              "      <th>RegistrationYear</th>\n",
              "      <th>Gearbox</th>\n",
              "      <th>Power</th>\n",
              "      <th>Model</th>\n",
              "      <th>Kilometer</th>\n",
              "      <th>RegistrationMonth</th>\n",
              "      <th>FuelType</th>\n",
              "      <th>Brand</th>\n",
              "      <th>NotRepaired</th>\n",
              "      <th>DateCreated</th>\n",
              "      <th>NumberOfPictures</th>\n",
              "      <th>PostalCode</th>\n",
              "      <th>LastSeen</th>\n",
              "    </tr>\n",
              "  </thead>\n",
              "  <tbody>\n",
              "    <tr>\n",
              "      <td>0</td>\n",
              "      <td>2016-03-24 11:52:17</td>\n",
              "      <td>480</td>\n",
              "      <td>NaN</td>\n",
              "      <td>1993</td>\n",
              "      <td>manual</td>\n",
              "      <td>0</td>\n",
              "      <td>golf</td>\n",
              "      <td>150000</td>\n",
              "      <td>0</td>\n",
              "      <td>petrol</td>\n",
              "      <td>volkswagen</td>\n",
              "      <td>NaN</td>\n",
              "      <td>2016-03-24 00:00:00</td>\n",
              "      <td>0</td>\n",
              "      <td>70435</td>\n",
              "      <td>2016-04-07 03:16:57</td>\n",
              "    </tr>\n",
              "    <tr>\n",
              "      <td>1</td>\n",
              "      <td>2016-03-24 10:58:45</td>\n",
              "      <td>18300</td>\n",
              "      <td>coupe</td>\n",
              "      <td>2011</td>\n",
              "      <td>manual</td>\n",
              "      <td>190</td>\n",
              "      <td>NaN</td>\n",
              "      <td>125000</td>\n",
              "      <td>5</td>\n",
              "      <td>gasoline</td>\n",
              "      <td>audi</td>\n",
              "      <td>yes</td>\n",
              "      <td>2016-03-24 00:00:00</td>\n",
              "      <td>0</td>\n",
              "      <td>66954</td>\n",
              "      <td>2016-04-07 01:46:50</td>\n",
              "    </tr>\n",
              "    <tr>\n",
              "      <td>2</td>\n",
              "      <td>2016-03-14 12:52:21</td>\n",
              "      <td>9800</td>\n",
              "      <td>suv</td>\n",
              "      <td>2004</td>\n",
              "      <td>auto</td>\n",
              "      <td>163</td>\n",
              "      <td>grand</td>\n",
              "      <td>125000</td>\n",
              "      <td>8</td>\n",
              "      <td>gasoline</td>\n",
              "      <td>jeep</td>\n",
              "      <td>NaN</td>\n",
              "      <td>2016-03-14 00:00:00</td>\n",
              "      <td>0</td>\n",
              "      <td>90480</td>\n",
              "      <td>2016-04-05 12:47:46</td>\n",
              "    </tr>\n",
              "    <tr>\n",
              "      <td>3</td>\n",
              "      <td>2016-03-17 16:54:04</td>\n",
              "      <td>1500</td>\n",
              "      <td>small</td>\n",
              "      <td>2001</td>\n",
              "      <td>manual</td>\n",
              "      <td>75</td>\n",
              "      <td>golf</td>\n",
              "      <td>150000</td>\n",
              "      <td>6</td>\n",
              "      <td>petrol</td>\n",
              "      <td>volkswagen</td>\n",
              "      <td>no</td>\n",
              "      <td>2016-03-17 00:00:00</td>\n",
              "      <td>0</td>\n",
              "      <td>91074</td>\n",
              "      <td>2016-03-17 17:40:17</td>\n",
              "    </tr>\n",
              "    <tr>\n",
              "      <td>4</td>\n",
              "      <td>2016-03-31 17:25:20</td>\n",
              "      <td>3600</td>\n",
              "      <td>small</td>\n",
              "      <td>2008</td>\n",
              "      <td>manual</td>\n",
              "      <td>69</td>\n",
              "      <td>fabia</td>\n",
              "      <td>90000</td>\n",
              "      <td>7</td>\n",
              "      <td>gasoline</td>\n",
              "      <td>skoda</td>\n",
              "      <td>no</td>\n",
              "      <td>2016-03-31 00:00:00</td>\n",
              "      <td>0</td>\n",
              "      <td>60437</td>\n",
              "      <td>2016-04-06 10:17:21</td>\n",
              "    </tr>\n",
              "  </tbody>\n",
              "</table>\n",
              "</div>"
            ],
            "text/plain": [
              "           DateCrawled  Price VehicleType  RegistrationYear Gearbox  Power  \\\n",
              "0  2016-03-24 11:52:17    480         NaN              1993  manual      0   \n",
              "1  2016-03-24 10:58:45  18300       coupe              2011  manual    190   \n",
              "2  2016-03-14 12:52:21   9800         suv              2004    auto    163   \n",
              "3  2016-03-17 16:54:04   1500       small              2001  manual     75   \n",
              "4  2016-03-31 17:25:20   3600       small              2008  manual     69   \n",
              "\n",
              "   Model  Kilometer  RegistrationMonth  FuelType       Brand NotRepaired  \\\n",
              "0   golf     150000                  0    petrol  volkswagen         NaN   \n",
              "1    NaN     125000                  5  gasoline        audi         yes   \n",
              "2  grand     125000                  8  gasoline        jeep         NaN   \n",
              "3   golf     150000                  6    petrol  volkswagen          no   \n",
              "4  fabia      90000                  7  gasoline       skoda          no   \n",
              "\n",
              "           DateCreated  NumberOfPictures  PostalCode             LastSeen  \n",
              "0  2016-03-24 00:00:00                 0       70435  2016-04-07 03:16:57  \n",
              "1  2016-03-24 00:00:00                 0       66954  2016-04-07 01:46:50  \n",
              "2  2016-03-14 00:00:00                 0       90480  2016-04-05 12:47:46  \n",
              "3  2016-03-17 00:00:00                 0       91074  2016-03-17 17:40:17  \n",
              "4  2016-03-31 00:00:00                 0       60437  2016-04-06 10:17:21  "
            ]
          },
          "execution_count": 3,
          "metadata": {},
          "output_type": "execute_result"
        }
      ]
    },
    {
      "cell_type": "code",
      "metadata": {
        "id": "0TcCjtSLPgLi",
        "outputId": "f023d2ad-e0b9-4d37-8ba8-c5a3767ff45d"
      },
      "source": [
        "df.info()"
      ],
      "execution_count": null,
      "outputs": [
        {
          "name": "stdout",
          "output_type": "stream",
          "text": [
            "<class 'pandas.core.frame.DataFrame'>\n",
            "RangeIndex: 354369 entries, 0 to 354368\n",
            "Data columns (total 16 columns):\n",
            "DateCrawled          354369 non-null object\n",
            "Price                354369 non-null int64\n",
            "VehicleType          316879 non-null object\n",
            "RegistrationYear     354369 non-null int64\n",
            "Gearbox              334536 non-null object\n",
            "Power                354369 non-null int64\n",
            "Model                334664 non-null object\n",
            "Kilometer            354369 non-null int64\n",
            "RegistrationMonth    354369 non-null int64\n",
            "FuelType             321474 non-null object\n",
            "Brand                354369 non-null object\n",
            "NotRepaired          283215 non-null object\n",
            "DateCreated          354369 non-null object\n",
            "NumberOfPictures     354369 non-null int64\n",
            "PostalCode           354369 non-null int64\n",
            "LastSeen             354369 non-null object\n",
            "dtypes: int64(7), object(9)\n",
            "memory usage: 43.3+ MB\n"
          ]
        }
      ]
    },
    {
      "cell_type": "code",
      "metadata": {
        "id": "LZwwRrFfPgLi",
        "outputId": "d1fb7fa8-9198-40f4-b467-e6d6f2dbe187"
      },
      "source": [
        "for column in df.columns:\n",
        "        print('Уникальные значения столбца', column)\n",
        "        print(df[column].unique())"
      ],
      "execution_count": null,
      "outputs": [
        {
          "name": "stdout",
          "output_type": "stream",
          "text": [
            "Уникальные значения столбца DateCrawled\n",
            "['2016-03-24 11:52:17' '2016-03-24 10:58:45' '2016-03-14 12:52:21' ...\n",
            " '2016-03-21 09:50:58' '2016-03-14 17:48:27' '2016-03-19 18:57:12']\n",
            "Уникальные значения столбца Price\n",
            "[  480 18300  9800 ... 12395 18429 10985]\n",
            "Уникальные значения столбца VehicleType\n",
            "[nan 'coupe' 'suv' 'small' 'sedan' 'convertible' 'bus' 'wagon' 'other']\n",
            "Уникальные значения столбца RegistrationYear\n",
            "[1993 2011 2004 2001 2008 1995 1980 2014 1998 2005 1910 2016 2007 2009\n",
            " 2002 2018 1997 1990 2017 1981 2003 1994 1991 1984 2006 1999 2012 2010\n",
            " 2000 1992 2013 1996 1985 1989 2015 1982 1976 1983 1973 1111 1969 1971\n",
            " 1987 1986 1988 1970 1965 1945 1925 1974 1979 1955 1978 1972 1968 1977\n",
            " 1961 1960 1966 1975 1963 1964 5000 1954 1958 1967 1959 9999 1956 3200\n",
            " 1000 1941 8888 1500 2200 4100 1962 1929 1957 1940 3000 2066 1949 2019\n",
            " 1937 1951 1800 1953 1234 8000 5300 9000 2900 6000 5900 5911 1933 1400\n",
            " 1950 4000 1948 1952 1200 8500 1932 1255 3700 3800 4800 1942 7000 1935\n",
            " 1936 6500 1923 2290 2500 1930 1001 9450 1944 1943 1934 1938 1688 2800\n",
            " 1253 1928 1919 5555 5600 1600 2222 1039 9996 1300 8455 1931 1915 4500\n",
            " 1920 1602 7800 9229 1947 1927 7100 8200 1946 7500 3500]\n",
            "Уникальные значения столбца Gearbox\n",
            "['manual' 'auto' nan]\n",
            "Уникальные значения столбца Power\n",
            "[    0   190   163    75    69   102   109    50   125   101   105   140\n",
            "   115   131    60   136   160   231    90   118   193    99   113   218\n",
            "   122   129    70   306    95    61   177    80   170    55   143    64\n",
            "   286   232   150   156    82   155    54   185    87   180    86    84\n",
            "   224   235   200   178   265    77   110   144   120   116   184   126\n",
            "   204    88   194   305   197   179   250    45   313    41   165    98\n",
            "   130   114   211    56   201   213    58   107    83   174   100   220\n",
            "    85    73   192    68    66   299    74    52   147    65   310    71\n",
            "    97   239   203     5   300   103   258   320    63    81   148    44\n",
            "   145   230   280   260   104   188   333   186   117   141    59   132\n",
            "   234   158    39    92    51   135    53   209    43   146    67   106\n",
            "   166   276   344    72   249   237   245   111   326   279    23   138\n",
            "   175    96   226    26    37   301   334   128   133   124    33   219\n",
            "   241   167    94   182   196   238  1398   228   112    48   272   139\n",
            "  1799    40   240    79   256   360   243   375   252   396   340   108\n",
            "   121   345   187   289   222   198   284   450   233   387   152   347\n",
            "   172    57   137   212   476   314    30     7    47   173   290   207\n",
            "   205   171   750    78    91    89   349   325    76   151   350   953\n",
            "    93   142   500   343   199   119   164    16   264   367   208   210\n",
            "    46   435  1001   225   127   176   161   603   307   354    35   206\n",
            "   771   355   273   223   255   123   154   149  7515  1400   268   620\n",
            "   169   400   275    34     2   242  1779   285   162   328  1753   329\n",
            "   134   420   247   168 10317   215    18   330   283    62    10   214\n",
            "   183   254    15   321   322   315   952   600   181   426   599   379\n",
            "   999    22   157    42   195   553     4   309   507   381   271   440\n",
            "   189   401  1111  2729    21   236  1240  1704   521     1  1900   270\n",
            "    24   159   292   808   515  1200   303    29    38  1993    14   216\n",
            "   610   504    49   267   331   363   261   385  1011   253   696 10520\n",
            "   376   227   311    27   217    20  1999    11  1056    25   394    12\n",
            "   298   296  1659   294   551  6920   246    17  1800  1625   368   390\n",
            "   221  1367   259   606   327  2017  1597   266   374   392     9   405\n",
            "    13   262   601   430   295     8   411   900   541  7512   382 10218\n",
            "  7544  1102   287    19   751   297  1090   457   282   602   388     6\n",
            "  1000  5411   335  1360   202  3750   805  1062  1024 11530   364  1796\n",
            "  5000   269   460  1002   288  1780 12012 17932   316  2005  1399   191\n",
            "   278  1300   380   257   449  1256   153  1653   520   560   281 12510\n",
            "     3  1500   386    32  1202  2016  1436  1405   671   274  1288  1055\n",
            " 10912 15016  6226  1115   277  1105   341  1223  2340  8404  1968   338\n",
            "   445  1920   370   517  4400 10710 10522  9010   431  1164 11509   371\n",
            "  1501   428 11635    36   304   348  1703  1910  1995   579 10000   580\n",
            "   408    31  1005   358  1403   489  5575 19211   585   960   365   353\n",
            "   490   352  1801   346   550  3199   800  7508  1312   357  1937   950\n",
            "  4700  1600  3454 19208   251   850   337   700  8011  2331  2789   487\n",
            "   519  2461  6006  3500  5815  6018  1781  1503   612  1596   229  1506\n",
            "  5809 15020  5867  2172  1598 17410  1363   584  1054   851  1339   318\n",
            "   510   525  1700    28  1151   685  6011   317   703  1771 15001   514\n",
            "   362   332   324  6045   530   425   308  6010   475   903   640  2000\n",
            "   248   651  2799 17011   505  1103  1521   351 16051   398  9000  1998\n",
            " 10311   409  1230 17019 12684  8259  1895   901  1317   871   909  2201\n",
            "  1595   776 17700 11011  1199   459  1162  1120 15033  1896   339   361\n",
            "   574  6512   454   650 13616   604   607 16312  1082   336 20000   416\n",
            "   678  6012  1401  1021  1870 13636  1250  9710   323  1158  2009   902\n",
            "  6062  1275   572   244   399  1016   743  1221  2402 16011  1362   544\n",
            "   645   907   702 12512  1986  1003  1432  9013  9011   442  1017  1394\n",
            " 15017 10910  1992   540  2018 11025  1433  1701  2792  1502  1239  1390\n",
            " 14009  1160  1351 11111  1783  9007   923  1149   754  1988   402  2004\n",
            "  5420  1793  1324   356  7511  1299   293 19312  1079  1689   998  1100\n",
            "  9012  1933   508 16311   682  1252  1922  7529   732  2389  2200  1707\n",
            "  1416  8500  1012   485  3000 10110   421  4507  1631  7518   377  1004\n",
            "  2007  2598  1548  1241]\n",
            "Уникальные значения столбца Model\n",
            "['golf' nan 'grand' 'fabia' '3er' '2_reihe' 'other' 'c_max' '3_reihe'\n",
            " 'passat' 'navara' 'ka' 'polo' 'twingo' 'a_klasse' 'scirocco' '5er'\n",
            " 'meriva' 'arosa' 'c4' 'civic' 'transporter' 'punto' 'e_klasse' 'clio'\n",
            " 'kadett' 'kangoo' 'corsa' 'one' 'fortwo' '1er' 'b_klasse' 'signum'\n",
            " 'astra' 'a8' 'jetta' 'fiesta' 'c_klasse' 'micra' 'vito' 'sprinter' '156'\n",
            " 'escort' 'forester' 'xc_reihe' 'scenic' 'a4' 'a1' 'insignia' 'combo'\n",
            " 'focus' 'tt' 'a6' 'jazz' 'omega' 'slk' '7er' '80' '147' '100' 'z_reihe'\n",
            " 'sportage' 'sorento' 'v40' 'ibiza' 'mustang' 'eos' 'touran' 'getz' 'a3'\n",
            " 'almera' 'megane' 'lupo' 'r19' 'zafira' 'caddy' 'mondeo' 'cordoba' 'colt'\n",
            " 'impreza' 'vectra' 'berlingo' 'tiguan' 'i_reihe' 'espace' 'sharan'\n",
            " '6_reihe' 'panda' 'up' 'seicento' 'ceed' '5_reihe' 'yeti' 'octavia' 'mii'\n",
            " 'rx_reihe' '6er' 'modus' 'fox' 'matiz' 'beetle' 'c1' 'rio' 'touareg'\n",
            " 'logan' 'spider' 'cuore' 's_max' 'a2' 'galaxy' 'c3' 'viano' 's_klasse'\n",
            " '1_reihe' 'avensis' 'roomster' 'sl' 'kaefer' 'santa' 'cooper' 'leon'\n",
            " '4_reihe' 'a5' '500' 'laguna' 'ptcruiser' 'clk' 'primera' 'x_reihe'\n",
            " 'exeo' '159' 'transit' 'juke' 'qashqai' 'carisma' 'accord' 'corolla'\n",
            " 'lanos' 'phaeton' 'verso' 'swift' 'rav' 'picanto' 'boxster' 'kalos'\n",
            " 'superb' 'stilo' 'alhambra' 'mx_reihe' 'roadster' 'ypsilon' 'cayenne'\n",
            " 'galant' 'justy' '90' 'sirion' 'crossfire' 'agila' 'duster' 'cr_reihe'\n",
            " 'v50' 'c_reihe' 'v_klasse' 'm_klasse' 'yaris' 'c5' 'aygo' 'cc' 'carnival'\n",
            " 'fusion' '911' 'bora' 'forfour' 'm_reihe' 'cl' 'tigra' '300c' 'spark'\n",
            " 'v70' 'kuga' 'x_type' 'ducato' 's_type' 'x_trail' 'toledo' 'altea'\n",
            " 'voyager' 'calibra' 'bravo' 'antara' 'tucson' 'citigo' 'jimny' 'wrangler'\n",
            " 'lybra' 'q7' 'lancer' 'captiva' 'c2' 'discovery' 'freelander' 'sandero'\n",
            " 'note' '900' 'cherokee' 'clubman' 'samara' 'defender' '601' 'cx_reihe'\n",
            " 'legacy' 'pajero' 'auris' 'niva' 's60' 'nubira' 'vivaro' 'g_klasse'\n",
            " 'lodgy' '850' 'range_rover' 'q3' 'serie_2' 'glk' 'charade' 'croma'\n",
            " 'outlander' 'doblo' 'musa' 'move' '9000' 'v60' '145' 'aveo' '200' 'b_max'\n",
            " 'range_rover_sport' 'terios' 'rangerover' 'q5' 'range_rover_evoque'\n",
            " 'materia' 'delta' 'gl' 'kalina' 'amarok' 'elefantino' 'i3' 'kappa'\n",
            " 'serie_3' 'serie_1']\n",
            "Уникальные значения столбца Kilometer\n",
            "[150000 125000  90000  40000  30000  70000   5000 100000  60000  20000\n",
            "  80000  50000  10000]\n",
            "Уникальные значения столбца RegistrationMonth\n",
            "[ 0  5  8  6  7 10 12 11  2  3  1  4  9]\n",
            "Уникальные значения столбца FuelType\n",
            "['petrol' 'gasoline' nan 'lpg' 'other' 'hybrid' 'cng' 'electric']\n",
            "Уникальные значения столбца Brand\n",
            "['volkswagen' 'audi' 'jeep' 'skoda' 'bmw' 'peugeot' 'ford' 'mazda'\n",
            " 'nissan' 'renault' 'mercedes_benz' 'opel' 'seat' 'citroen' 'honda' 'fiat'\n",
            " 'mini' 'smart' 'hyundai' 'sonstige_autos' 'alfa_romeo' 'subaru' 'volvo'\n",
            " 'mitsubishi' 'kia' 'suzuki' 'lancia' 'toyota' 'chevrolet' 'dacia'\n",
            " 'daihatsu' 'trabant' 'saab' 'chrysler' 'jaguar' 'daewoo' 'porsche'\n",
            " 'rover' 'land_rover' 'lada']\n",
            "Уникальные значения столбца NotRepaired\n",
            "[nan 'yes' 'no']\n",
            "Уникальные значения столбца DateCreated\n",
            "['2016-03-24 00:00:00' '2016-03-14 00:00:00' '2016-03-17 00:00:00'\n",
            " '2016-03-31 00:00:00' '2016-04-04 00:00:00' '2016-04-01 00:00:00'\n",
            " '2016-03-21 00:00:00' '2016-03-26 00:00:00' '2016-04-07 00:00:00'\n",
            " '2016-03-15 00:00:00' '2016-03-11 00:00:00' '2016-03-20 00:00:00'\n",
            " '2016-03-23 00:00:00' '2016-03-27 00:00:00' '2016-03-12 00:00:00'\n",
            " '2016-03-13 00:00:00' '2016-03-18 00:00:00' '2016-03-10 00:00:00'\n",
            " '2016-03-07 00:00:00' '2016-03-09 00:00:00' '2016-03-08 00:00:00'\n",
            " '2016-04-03 00:00:00' '2016-03-29 00:00:00' '2016-03-25 00:00:00'\n",
            " '2016-03-28 00:00:00' '2016-03-30 00:00:00' '2016-03-22 00:00:00'\n",
            " '2016-02-09 00:00:00' '2016-03-05 00:00:00' '2016-04-02 00:00:00'\n",
            " '2016-03-16 00:00:00' '2016-03-19 00:00:00' '2016-04-05 00:00:00'\n",
            " '2016-03-06 00:00:00' '2016-02-12 00:00:00' '2016-03-03 00:00:00'\n",
            " '2016-03-01 00:00:00' '2016-03-04 00:00:00' '2016-04-06 00:00:00'\n",
            " '2016-02-15 00:00:00' '2016-02-24 00:00:00' '2016-02-27 00:00:00'\n",
            " '2015-03-20 00:00:00' '2016-02-28 00:00:00' '2016-02-17 00:00:00'\n",
            " '2016-01-27 00:00:00' '2016-02-20 00:00:00' '2016-02-29 00:00:00'\n",
            " '2016-02-10 00:00:00' '2016-02-23 00:00:00' '2016-02-21 00:00:00'\n",
            " '2015-11-02 00:00:00' '2016-02-19 00:00:00' '2016-02-26 00:00:00'\n",
            " '2016-02-11 00:00:00' '2016-01-10 00:00:00' '2016-02-06 00:00:00'\n",
            " '2016-02-18 00:00:00' '2016-01-29 00:00:00' '2016-03-02 00:00:00'\n",
            " '2015-12-06 00:00:00' '2016-01-24 00:00:00' '2016-01-30 00:00:00'\n",
            " '2016-02-02 00:00:00' '2016-02-16 00:00:00' '2016-02-13 00:00:00'\n",
            " '2016-02-05 00:00:00' '2016-02-22 00:00:00' '2015-11-17 00:00:00'\n",
            " '2014-03-10 00:00:00' '2016-02-07 00:00:00' '2016-01-23 00:00:00'\n",
            " '2016-02-25 00:00:00' '2016-02-14 00:00:00' '2016-01-02 00:00:00'\n",
            " '2015-09-04 00:00:00' '2015-11-12 00:00:00' '2015-12-27 00:00:00'\n",
            " '2015-11-24 00:00:00' '2016-01-20 00:00:00' '2016-02-03 00:00:00'\n",
            " '2015-12-05 00:00:00' '2015-08-07 00:00:00' '2016-01-28 00:00:00'\n",
            " '2016-01-31 00:00:00' '2016-02-08 00:00:00' '2016-01-07 00:00:00'\n",
            " '2016-01-22 00:00:00' '2016-01-18 00:00:00' '2016-01-08 00:00:00'\n",
            " '2015-11-23 00:00:00' '2016-01-13 00:00:00' '2016-01-17 00:00:00'\n",
            " '2016-01-15 00:00:00' '2015-11-08 00:00:00' '2016-01-26 00:00:00'\n",
            " '2016-02-04 00:00:00' '2016-01-25 00:00:00' '2016-01-16 00:00:00'\n",
            " '2015-08-10 00:00:00' '2016-01-03 00:00:00' '2016-01-19 00:00:00'\n",
            " '2015-12-30 00:00:00' '2016-02-01 00:00:00' '2015-12-17 00:00:00'\n",
            " '2015-11-10 00:00:00' '2016-01-06 00:00:00' '2015-09-09 00:00:00'\n",
            " '2015-06-18 00:00:00']\n",
            "Уникальные значения столбца NumberOfPictures\n",
            "[0]\n",
            "Уникальные значения столбца PostalCode\n",
            "[70435 66954 90480 ... 38528 38325 31096]\n",
            "Уникальные значения столбца LastSeen\n",
            "['2016-04-07 03:16:57' '2016-04-07 01:46:50' '2016-04-05 12:47:46' ...\n",
            " '2016-03-19 20:44:43' '2016-03-29 10:17:23' '2016-03-21 10:42:49']\n"
          ]
        }
      ]
    },
    {
      "cell_type": "markdown",
      "metadata": {
        "id": "sP2IwnIdPgLj"
      },
      "source": [
        "Что нужно поправить в исходных данных:\n",
        "* Удалить лишние колонки, такие как DateCrawled, 'DateCreated, NumberOfPictures, PostalCode, LastSeen\n",
        "* Проверить коректность значений целевого признака (Price) и при необходимости обработать значения\n",
        "* В столбце VehicleType необходимо восстановить значения вместо NaN по популярному типу из столбца Brand\n",
        "* Заменить значения NaN столбца FuelType\n",
        "* Скорректировать значения в столбце RegistrationYear, поскольку в исходных данных много выбросов\n",
        "* Убрать пропущенные значения в стобце Gearbox\n",
        "* Удалить выбросы в столбце Power\n",
        "* В стобце Model заменить значения NaN на unknown\n",
        "* В стобце NotRepaired заченить значения NaN на no"
      ]
    },
    {
      "cell_type": "markdown",
      "metadata": {
        "id": "dMLS3f02PgLj"
      },
      "source": [
        "<div class=\"alert alert-block alert-success\">\n",
        "<b>Успех:</b> Данные загружены корректно, первичный осмотр проведен.\n",
        "</div>"
      ]
    },
    {
      "cell_type": "markdown",
      "metadata": {
        "id": "CiO19wupPgLk"
      },
      "source": [
        "### Обработка данных"
      ]
    },
    {
      "cell_type": "markdown",
      "metadata": {
        "id": "f_bHPiqmPgLk"
      },
      "source": [
        "Удаляю лишние колонки"
      ]
    },
    {
      "cell_type": "code",
      "metadata": {
        "id": "hVXL0GvsPgLk"
      },
      "source": [
        "filtred_df = df[['VehicleType', \n",
        "                         'Gearbox', \n",
        "                         'Power',\n",
        "                         'Kilometer',\n",
        "                         'FuelType',\n",
        "                         'Brand',\n",
        "                         'NotRepaired',\n",
        "                         'RegistrationYear',\n",
        "                         'Model',\n",
        "                         'Price']]"
      ],
      "execution_count": null,
      "outputs": []
    },
    {
      "cell_type": "markdown",
      "metadata": {
        "id": "jdy3JO6lPgLl"
      },
      "source": [
        "Обработка данных в целевом признаке"
      ]
    },
    {
      "cell_type": "code",
      "metadata": {
        "id": "b-vZmVhaPgLl",
        "outputId": "1961be08-4761-4f07-86e1-fc2d80cb0ea4"
      },
      "source": [
        "filtred_df['Price'].hist(bins=100, figsize=(7,5))\n",
        "filtred_df['Price'].describe()"
      ],
      "execution_count": null,
      "outputs": [
        {
          "data": {
            "text/plain": [
              "count    354369.000000\n",
              "mean       4416.656776\n",
              "std        4514.158514\n",
              "min           0.000000\n",
              "25%        1050.000000\n",
              "50%        2700.000000\n",
              "75%        6400.000000\n",
              "max       20000.000000\n",
              "Name: Price, dtype: float64"
            ]
          },
          "execution_count": 7,
          "metadata": {},
          "output_type": "execute_result"
        },
        {
          "data": {
            "image/png": "[encoded data removed]",
            "text/plain": [
              "<Figure size 504x360 with 1 Axes>"
            ]
          },
          "metadata": {
            "needs_background": "light"
          },
          "output_type": "display_data"
        }
      ]
    },
    {
      "cell_type": "markdown",
      "metadata": {
        "id": "6icjALK2PgLl"
      },
      "source": [
        "Уберу из исходного датафрейма данные о машинах с ценой 0"
      ]
    },
    {
      "cell_type": "code",
      "metadata": {
        "id": "3T8AlOHuPgLm"
      },
      "source": [
        "filtred_df = filtred_df.query('Price > 0')"
      ],
      "execution_count": null,
      "outputs": []
    },
    {
      "cell_type": "markdown",
      "metadata": {
        "id": "pdI4l5GMPgLm"
      },
      "source": [
        "Обработка стобца VehicleType"
      ]
    },
    {
      "cell_type": "code",
      "metadata": {
        "id": "1S9SCY3uPgLm",
        "outputId": "d77992ce-a879-4663-e0c3-5d6ffa3e3945"
      },
      "source": [
        "display(filtred_df['VehicleType'].value_counts())\n",
        "filtred_df['VehicleType'].isna().sum()"
      ],
      "execution_count": null,
      "outputs": [
        {
          "data": {
            "text/plain": [
              "sedan          89405\n",
              "small          78018\n",
              "wagon          63701\n",
              "bus            28345\n",
              "convertible    19865\n",
              "coupe          15636\n",
              "suv            11791\n",
              "other           3086\n",
              "Name: VehicleType, dtype: int64"
            ]
          },
          "metadata": {},
          "output_type": "display_data"
        },
        {
          "data": {
            "text/plain": [
              "33750"
            ]
          },
          "execution_count": 9,
          "metadata": {},
          "output_type": "execute_result"
        }
      ]
    },
    {
      "cell_type": "markdown",
      "metadata": {
        "id": "OUUzRXk5PgLm"
      },
      "source": [
        "В значительной части исходных данных в признаке VehicleType стоит значение NaN. \n",
        "\n",
        "Заменю NaN в соотвествии с популярным типом кузова для каждого бренда"
      ]
    },
    {
      "cell_type": "code",
      "metadata": {
        "id": "xoIQdHciPgLn",
        "outputId": "2872ffab-645b-4c76-c426-f89d5ca152cb"
      },
      "source": [
        "vehicle_type = filtred_df.pivot_table(index=['VehicleType'], columns=['Brand'], values=['Price'], aggfunc=['count'])['count']['Price']\n",
        "display(vehicle_type)"
      ],
      "execution_count": null,
      "outputs": [
        {
          "data": {
            "text/html": [
              "<div>\n",
              "<style scoped>\n",
              "    .dataframe tbody tr th:only-of-type {\n",
              "        vertical-align: middle;\n",
              "    }\n",
              "\n",
              "    .dataframe tbody tr th {\n",
              "        vertical-align: top;\n",
              "    }\n",
              "\n",
              "    .dataframe thead th {\n",
              "        text-align: right;\n",
              "    }\n",
              "</style>\n",
              "<table border=\"1\" class=\"dataframe\">\n",
              "  <thead>\n",
              "    <tr style=\"text-align: right;\">\n",
              "      <th>Brand</th>\n",
              "      <th>alfa_romeo</th>\n",
              "      <th>audi</th>\n",
              "      <th>bmw</th>\n",
              "      <th>chevrolet</th>\n",
              "      <th>chrysler</th>\n",
              "      <th>citroen</th>\n",
              "      <th>dacia</th>\n",
              "      <th>daewoo</th>\n",
              "      <th>daihatsu</th>\n",
              "      <th>fiat</th>\n",
              "      <th>...</th>\n",
              "      <th>seat</th>\n",
              "      <th>skoda</th>\n",
              "      <th>smart</th>\n",
              "      <th>sonstige_autos</th>\n",
              "      <th>subaru</th>\n",
              "      <th>suzuki</th>\n",
              "      <th>toyota</th>\n",
              "      <th>trabant</th>\n",
              "      <th>volkswagen</th>\n",
              "      <th>volvo</th>\n",
              "    </tr>\n",
              "    <tr>\n",
              "      <th>VehicleType</th>\n",
              "      <th></th>\n",
              "      <th></th>\n",
              "      <th></th>\n",
              "      <th></th>\n",
              "      <th></th>\n",
              "      <th></th>\n",
              "      <th></th>\n",
              "      <th></th>\n",
              "      <th></th>\n",
              "      <th></th>\n",
              "      <th></th>\n",
              "      <th></th>\n",
              "      <th></th>\n",
              "      <th></th>\n",
              "      <th></th>\n",
              "      <th></th>\n",
              "      <th></th>\n",
              "      <th></th>\n",
              "      <th></th>\n",
              "      <th></th>\n",
              "      <th></th>\n",
              "    </tr>\n",
              "  </thead>\n",
              "  <tbody>\n",
              "    <tr>\n",
              "      <td>bus</td>\n",
              "      <td>NaN</td>\n",
              "      <td>10.0</td>\n",
              "      <td>6.0</td>\n",
              "      <td>156.0</td>\n",
              "      <td>415.0</td>\n",
              "      <td>1252.0</td>\n",
              "      <td>50.0</td>\n",
              "      <td>27.0</td>\n",
              "      <td>34.0</td>\n",
              "      <td>818.0</td>\n",
              "      <td>...</td>\n",
              "      <td>610.0</td>\n",
              "      <td>231.0</td>\n",
              "      <td>1.0</td>\n",
              "      <td>187.0</td>\n",
              "      <td>17.0</td>\n",
              "      <td>27.0</td>\n",
              "      <td>446.0</td>\n",
              "      <td>NaN</td>\n",
              "      <td>9388.0</td>\n",
              "      <td>NaN</td>\n",
              "    </tr>\n",
              "    <tr>\n",
              "      <td>convertible</td>\n",
              "      <td>177.0</td>\n",
              "      <td>1612.0</td>\n",
              "      <td>3199.0</td>\n",
              "      <td>17.0</td>\n",
              "      <td>228.0</td>\n",
              "      <td>112.0</td>\n",
              "      <td>NaN</td>\n",
              "      <td>1.0</td>\n",
              "      <td>17.0</td>\n",
              "      <td>506.0</td>\n",
              "      <td>...</td>\n",
              "      <td>NaN</td>\n",
              "      <td>4.0</td>\n",
              "      <td>1126.0</td>\n",
              "      <td>322.0</td>\n",
              "      <td>1.0</td>\n",
              "      <td>35.0</td>\n",
              "      <td>63.0</td>\n",
              "      <td>36.0</td>\n",
              "      <td>2887.0</td>\n",
              "      <td>75.0</td>\n",
              "    </tr>\n",
              "    <tr>\n",
              "      <td>coupe</td>\n",
              "      <td>226.0</td>\n",
              "      <td>1464.0</td>\n",
              "      <td>3683.0</td>\n",
              "      <td>89.0</td>\n",
              "      <td>47.0</td>\n",
              "      <td>148.0</td>\n",
              "      <td>NaN</td>\n",
              "      <td>8.0</td>\n",
              "      <td>NaN</td>\n",
              "      <td>168.0</td>\n",
              "      <td>...</td>\n",
              "      <td>84.0</td>\n",
              "      <td>10.0</td>\n",
              "      <td>338.0</td>\n",
              "      <td>222.0</td>\n",
              "      <td>8.0</td>\n",
              "      <td>7.0</td>\n",
              "      <td>222.0</td>\n",
              "      <td>3.0</td>\n",
              "      <td>1725.0</td>\n",
              "      <td>67.0</td>\n",
              "    </tr>\n",
              "    <tr>\n",
              "      <td>other</td>\n",
              "      <td>14.0</td>\n",
              "      <td>107.0</td>\n",
              "      <td>224.0</td>\n",
              "      <td>43.0</td>\n",
              "      <td>9.0</td>\n",
              "      <td>114.0</td>\n",
              "      <td>6.0</td>\n",
              "      <td>5.0</td>\n",
              "      <td>10.0</td>\n",
              "      <td>178.0</td>\n",
              "      <td>...</td>\n",
              "      <td>62.0</td>\n",
              "      <td>26.0</td>\n",
              "      <td>9.0</td>\n",
              "      <td>217.0</td>\n",
              "      <td>6.0</td>\n",
              "      <td>14.0</td>\n",
              "      <td>19.0</td>\n",
              "      <td>5.0</td>\n",
              "      <td>722.0</td>\n",
              "      <td>5.0</td>\n",
              "    </tr>\n",
              "    <tr>\n",
              "      <td>sedan</td>\n",
              "      <td>912.0</td>\n",
              "      <td>10677.0</td>\n",
              "      <td>17224.0</td>\n",
              "      <td>223.0</td>\n",
              "      <td>279.0</td>\n",
              "      <td>693.0</td>\n",
              "      <td>100.0</td>\n",
              "      <td>105.0</td>\n",
              "      <td>47.0</td>\n",
              "      <td>877.0</td>\n",
              "      <td>...</td>\n",
              "      <td>1738.0</td>\n",
              "      <td>904.0</td>\n",
              "      <td>28.0</td>\n",
              "      <td>465.0</td>\n",
              "      <td>164.0</td>\n",
              "      <td>178.0</td>\n",
              "      <td>887.0</td>\n",
              "      <td>201.0</td>\n",
              "      <td>19299.0</td>\n",
              "      <td>635.0</td>\n",
              "    </tr>\n",
              "    <tr>\n",
              "      <td>small</td>\n",
              "      <td>235.0</td>\n",
              "      <td>1538.0</td>\n",
              "      <td>437.0</td>\n",
              "      <td>580.0</td>\n",
              "      <td>12.0</td>\n",
              "      <td>1570.0</td>\n",
              "      <td>221.0</td>\n",
              "      <td>265.0</td>\n",
              "      <td>512.0</td>\n",
              "      <td>5192.0</td>\n",
              "      <td>...</td>\n",
              "      <td>3060.0</td>\n",
              "      <td>1115.0</td>\n",
              "      <td>3232.0</td>\n",
              "      <td>240.0</td>\n",
              "      <td>117.0</td>\n",
              "      <td>967.0</td>\n",
              "      <td>1580.0</td>\n",
              "      <td>54.0</td>\n",
              "      <td>17979.0</td>\n",
              "      <td>7.0</td>\n",
              "    </tr>\n",
              "    <tr>\n",
              "      <td>suv</td>\n",
              "      <td>NaN</td>\n",
              "      <td>177.0</td>\n",
              "      <td>805.0</td>\n",
              "      <td>377.0</td>\n",
              "      <td>23.0</td>\n",
              "      <td>36.0</td>\n",
              "      <td>214.0</td>\n",
              "      <td>1.0</td>\n",
              "      <td>46.0</td>\n",
              "      <td>24.0</td>\n",
              "      <td>...</td>\n",
              "      <td>4.0</td>\n",
              "      <td>173.0</td>\n",
              "      <td>NaN</td>\n",
              "      <td>422.0</td>\n",
              "      <td>59.0</td>\n",
              "      <td>743.0</td>\n",
              "      <td>439.0</td>\n",
              "      <td>1.0</td>\n",
              "      <td>1308.0</td>\n",
              "      <td>219.0</td>\n",
              "    </tr>\n",
              "    <tr>\n",
              "      <td>wagon</td>\n",
              "      <td>451.0</td>\n",
              "      <td>10827.0</td>\n",
              "      <td>7763.0</td>\n",
              "      <td>105.0</td>\n",
              "      <td>241.0</td>\n",
              "      <td>617.0</td>\n",
              "      <td>251.0</td>\n",
              "      <td>46.0</td>\n",
              "      <td>16.0</td>\n",
              "      <td>444.0</td>\n",
              "      <td>...</td>\n",
              "      <td>387.0</td>\n",
              "      <td>2684.0</td>\n",
              "      <td>9.0</td>\n",
              "      <td>123.0</td>\n",
              "      <td>292.0</td>\n",
              "      <td>87.0</td>\n",
              "      <td>568.0</td>\n",
              "      <td>71.0</td>\n",
              "      <td>12374.0</td>\n",
              "      <td>1934.0</td>\n",
              "    </tr>\n",
              "  </tbody>\n",
              "</table>\n",
              "<p>8 rows × 40 columns</p>\n",
              "</div>"
            ],
            "text/plain": [
              "Brand        alfa_romeo     audi      bmw  chevrolet  chrysler  citroen  \\\n",
              "VehicleType                                                               \n",
              "bus                 NaN     10.0      6.0      156.0     415.0   1252.0   \n",
              "convertible       177.0   1612.0   3199.0       17.0     228.0    112.0   \n",
              "coupe             226.0   1464.0   3683.0       89.0      47.0    148.0   \n",
              "other              14.0    107.0    224.0       43.0       9.0    114.0   \n",
              "sedan             912.0  10677.0  17224.0      223.0     279.0    693.0   \n",
              "small             235.0   1538.0    437.0      580.0      12.0   1570.0   \n",
              "suv                 NaN    177.0    805.0      377.0      23.0     36.0   \n",
              "wagon             451.0  10827.0   7763.0      105.0     241.0    617.0   \n",
              "\n",
              "Brand        dacia  daewoo  daihatsu    fiat  ...    seat   skoda   smart  \\\n",
              "VehicleType                                   ...                           \n",
              "bus           50.0    27.0      34.0   818.0  ...   610.0   231.0     1.0   \n",
              "convertible    NaN     1.0      17.0   506.0  ...     NaN     4.0  1126.0   \n",
              "coupe          NaN     8.0       NaN   168.0  ...    84.0    10.0   338.0   \n",
              "other          6.0     5.0      10.0   178.0  ...    62.0    26.0     9.0   \n",
              "sedan        100.0   105.0      47.0   877.0  ...  1738.0   904.0    28.0   \n",
              "small        221.0   265.0     512.0  5192.0  ...  3060.0  1115.0  3232.0   \n",
              "suv          214.0     1.0      46.0    24.0  ...     4.0   173.0     NaN   \n",
              "wagon        251.0    46.0      16.0   444.0  ...   387.0  2684.0     9.0   \n",
              "\n",
              "Brand        sonstige_autos  subaru  suzuki  toyota  trabant  volkswagen  \\\n",
              "VehicleType                                                                \n",
              "bus                   187.0    17.0    27.0   446.0      NaN      9388.0   \n",
              "convertible           322.0     1.0    35.0    63.0     36.0      2887.0   \n",
              "coupe                 222.0     8.0     7.0   222.0      3.0      1725.0   \n",
              "other                 217.0     6.0    14.0    19.0      5.0       722.0   \n",
              "sedan                 465.0   164.0   178.0   887.0    201.0     19299.0   \n",
              "small                 240.0   117.0   967.0  1580.0     54.0     17979.0   \n",
              "suv                   422.0    59.0   743.0   439.0      1.0      1308.0   \n",
              "wagon                 123.0   292.0    87.0   568.0     71.0     12374.0   \n",
              "\n",
              "Brand         volvo  \n",
              "VehicleType          \n",
              "bus             NaN  \n",
              "convertible    75.0  \n",
              "coupe          67.0  \n",
              "other           5.0  \n",
              "sedan         635.0  \n",
              "small           7.0  \n",
              "suv           219.0  \n",
              "wagon        1934.0  \n",
              "\n",
              "[8 rows x 40 columns]"
            ]
          },
          "metadata": {},
          "output_type": "display_data"
        }
      ]
    },
    {
      "cell_type": "markdown",
      "metadata": {
        "id": "B6qHONySPgLn"
      },
      "source": [
        "Заполню словарь брендов и популярных типов машин и заполню пропуски по столбцу VehicleType"
      ]
    },
    {
      "cell_type": "code",
      "metadata": {
        "id": "3Kod4rSBPgLn",
        "outputId": "6e321c1d-4e6f-4411-dc9c-07d169c3c4b9"
      },
      "source": [
        "filtred_df.fillna({'VehicleType':0},inplace=True)\n",
        "\n",
        "def fillna_by_brand(row, row_number, vehicle_type):\n",
        "    brand = row[5]\n",
        "    fill_value = row[row_number]\n",
        "    if row[row_number] == 0:\n",
        "        fill_value = vehicle_type[brand].idxmax()\n",
        "    return fill_value\n",
        "\n",
        "filtred_df['VehicleType'] = filtred_df.apply(fillna_by_brand, args=[0, vehicle_type], axis=1)\n",
        "display(filtred_df['VehicleType'].isna().sum())\n",
        "filtred_df['VehicleType'].value_counts()"
      ],
      "execution_count": null,
      "outputs": [
        {
          "data": {
            "text/plain": [
              "0"
            ]
          },
          "metadata": {},
          "output_type": "display_data"
        },
        {
          "data": {
            "text/plain": [
              "sedan          105190\n",
              "small           92761\n",
              "wagon           66450\n",
              "bus             28459\n",
              "convertible     19933\n",
              "coupe           15636\n",
              "suv             12082\n",
              "other            3086\n",
              "Name: VehicleType, dtype: int64"
            ]
          },
          "execution_count": 11,
          "metadata": {},
          "output_type": "execute_result"
        }
      ]
    },
    {
      "cell_type": "markdown",
      "metadata": {
        "id": "_RnLi3cpPgLo"
      },
      "source": [
        "Аналогично заполню пропуски в FuelType"
      ]
    },
    {
      "cell_type": "code",
      "metadata": {
        "id": "lQR2GdD4PgLo",
        "outputId": "c31dadff-6765-4c69-d60f-df31d29a1096"
      },
      "source": [
        "filtred_df['FuelType'].value_counts()\n",
        "fuel_type = filtred_df.pivot_table(index=['FuelType'], columns=['Brand'], values=['Price'], aggfunc=['count'])['count']['Price']\n",
        "display(fuel_type)"
      ],
      "execution_count": null,
      "outputs": [
        {
          "data": {
            "text/html": [
              "<div>\n",
              "<style scoped>\n",
              "    .dataframe tbody tr th:only-of-type {\n",
              "        vertical-align: middle;\n",
              "    }\n",
              "\n",
              "    .dataframe tbody tr th {\n",
              "        vertical-align: top;\n",
              "    }\n",
              "\n",
              "    .dataframe thead th {\n",
              "        text-align: right;\n",
              "    }\n",
              "</style>\n",
              "<table border=\"1\" class=\"dataframe\">\n",
              "  <thead>\n",
              "    <tr style=\"text-align: right;\">\n",
              "      <th>Brand</th>\n",
              "      <th>alfa_romeo</th>\n",
              "      <th>audi</th>\n",
              "      <th>bmw</th>\n",
              "      <th>chevrolet</th>\n",
              "      <th>chrysler</th>\n",
              "      <th>citroen</th>\n",
              "      <th>dacia</th>\n",
              "      <th>daewoo</th>\n",
              "      <th>daihatsu</th>\n",
              "      <th>fiat</th>\n",
              "      <th>...</th>\n",
              "      <th>seat</th>\n",
              "      <th>skoda</th>\n",
              "      <th>smart</th>\n",
              "      <th>sonstige_autos</th>\n",
              "      <th>subaru</th>\n",
              "      <th>suzuki</th>\n",
              "      <th>toyota</th>\n",
              "      <th>trabant</th>\n",
              "      <th>volkswagen</th>\n",
              "      <th>volvo</th>\n",
              "    </tr>\n",
              "    <tr>\n",
              "      <th>FuelType</th>\n",
              "      <th></th>\n",
              "      <th></th>\n",
              "      <th></th>\n",
              "      <th></th>\n",
              "      <th></th>\n",
              "      <th></th>\n",
              "      <th></th>\n",
              "      <th></th>\n",
              "      <th></th>\n",
              "      <th></th>\n",
              "      <th></th>\n",
              "      <th></th>\n",
              "      <th></th>\n",
              "      <th></th>\n",
              "      <th></th>\n",
              "      <th></th>\n",
              "      <th></th>\n",
              "      <th></th>\n",
              "      <th></th>\n",
              "      <th></th>\n",
              "      <th></th>\n",
              "    </tr>\n",
              "  </thead>\n",
              "  <tbody>\n",
              "    <tr>\n",
              "      <td>cng</td>\n",
              "      <td>NaN</td>\n",
              "      <td>1.0</td>\n",
              "      <td>10.0</td>\n",
              "      <td>4.0</td>\n",
              "      <td>NaN</td>\n",
              "      <td>8.0</td>\n",
              "      <td>2.0</td>\n",
              "      <td>NaN</td>\n",
              "      <td>NaN</td>\n",
              "      <td>68.0</td>\n",
              "      <td>...</td>\n",
              "      <td>3.0</td>\n",
              "      <td>6.0</td>\n",
              "      <td>3.0</td>\n",
              "      <td>7.0</td>\n",
              "      <td>2.0</td>\n",
              "      <td>NaN</td>\n",
              "      <td>NaN</td>\n",
              "      <td>NaN</td>\n",
              "      <td>186.0</td>\n",
              "      <td>20.0</td>\n",
              "    </tr>\n",
              "    <tr>\n",
              "      <td>electric</td>\n",
              "      <td>NaN</td>\n",
              "      <td>2.0</td>\n",
              "      <td>3.0</td>\n",
              "      <td>NaN</td>\n",
              "      <td>NaN</td>\n",
              "      <td>1.0</td>\n",
              "      <td>NaN</td>\n",
              "      <td>NaN</td>\n",
              "      <td>1.0</td>\n",
              "      <td>4.0</td>\n",
              "      <td>...</td>\n",
              "      <td>NaN</td>\n",
              "      <td>NaN</td>\n",
              "      <td>7.0</td>\n",
              "      <td>21.0</td>\n",
              "      <td>NaN</td>\n",
              "      <td>NaN</td>\n",
              "      <td>NaN</td>\n",
              "      <td>NaN</td>\n",
              "      <td>5.0</td>\n",
              "      <td>NaN</td>\n",
              "    </tr>\n",
              "    <tr>\n",
              "      <td>gasoline</td>\n",
              "      <td>598.0</td>\n",
              "      <td>12213.0</td>\n",
              "      <td>11966.0</td>\n",
              "      <td>236.0</td>\n",
              "      <td>377.0</td>\n",
              "      <td>1594.0</td>\n",
              "      <td>206.0</td>\n",
              "      <td>1.0</td>\n",
              "      <td>4.0</td>\n",
              "      <td>1492.0</td>\n",
              "      <td>...</td>\n",
              "      <td>1676.0</td>\n",
              "      <td>1912.0</td>\n",
              "      <td>868.0</td>\n",
              "      <td>441.0</td>\n",
              "      <td>41.0</td>\n",
              "      <td>229.0</td>\n",
              "      <td>983.0</td>\n",
              "      <td>1.0</td>\n",
              "      <td>25238.0</td>\n",
              "      <td>1051.0</td>\n",
              "    </tr>\n",
              "    <tr>\n",
              "      <td>hybrid</td>\n",
              "      <td>NaN</td>\n",
              "      <td>2.0</td>\n",
              "      <td>NaN</td>\n",
              "      <td>NaN</td>\n",
              "      <td>NaN</td>\n",
              "      <td>NaN</td>\n",
              "      <td>NaN</td>\n",
              "      <td>NaN</td>\n",
              "      <td>NaN</td>\n",
              "      <td>3.0</td>\n",
              "      <td>...</td>\n",
              "      <td>1.0</td>\n",
              "      <td>NaN</td>\n",
              "      <td>1.0</td>\n",
              "      <td>20.0</td>\n",
              "      <td>NaN</td>\n",
              "      <td>NaN</td>\n",
              "      <td>126.0</td>\n",
              "      <td>1.0</td>\n",
              "      <td>5.0</td>\n",
              "      <td>NaN</td>\n",
              "    </tr>\n",
              "    <tr>\n",
              "      <td>lpg</td>\n",
              "      <td>37.0</td>\n",
              "      <td>451.0</td>\n",
              "      <td>750.0</td>\n",
              "      <td>177.0</td>\n",
              "      <td>93.0</td>\n",
              "      <td>70.0</td>\n",
              "      <td>53.0</td>\n",
              "      <td>23.0</td>\n",
              "      <td>6.0</td>\n",
              "      <td>68.0</td>\n",
              "      <td>...</td>\n",
              "      <td>63.0</td>\n",
              "      <td>52.0</td>\n",
              "      <td>3.0</td>\n",
              "      <td>121.0</td>\n",
              "      <td>30.0</td>\n",
              "      <td>24.0</td>\n",
              "      <td>25.0</td>\n",
              "      <td>NaN</td>\n",
              "      <td>540.0</td>\n",
              "      <td>108.0</td>\n",
              "    </tr>\n",
              "    <tr>\n",
              "      <td>other</td>\n",
              "      <td>NaN</td>\n",
              "      <td>4.0</td>\n",
              "      <td>8.0</td>\n",
              "      <td>1.0</td>\n",
              "      <td>NaN</td>\n",
              "      <td>3.0</td>\n",
              "      <td>NaN</td>\n",
              "      <td>1.0</td>\n",
              "      <td>NaN</td>\n",
              "      <td>4.0</td>\n",
              "      <td>...</td>\n",
              "      <td>NaN</td>\n",
              "      <td>NaN</td>\n",
              "      <td>1.0</td>\n",
              "      <td>30.0</td>\n",
              "      <td>1.0</td>\n",
              "      <td>1.0</td>\n",
              "      <td>1.0</td>\n",
              "      <td>37.0</td>\n",
              "      <td>23.0</td>\n",
              "      <td>3.0</td>\n",
              "    </tr>\n",
              "    <tr>\n",
              "      <td>petrol</td>\n",
              "      <td>1406.0</td>\n",
              "      <td>13899.0</td>\n",
              "      <td>20478.0</td>\n",
              "      <td>1152.0</td>\n",
              "      <td>789.0</td>\n",
              "      <td>2965.0</td>\n",
              "      <td>573.0</td>\n",
              "      <td>443.0</td>\n",
              "      <td>673.0</td>\n",
              "      <td>6753.0</td>\n",
              "      <td>...</td>\n",
              "      <td>4420.0</td>\n",
              "      <td>3171.0</td>\n",
              "      <td>3952.0</td>\n",
              "      <td>1481.0</td>\n",
              "      <td>581.0</td>\n",
              "      <td>1825.0</td>\n",
              "      <td>3147.0</td>\n",
              "      <td>281.0</td>\n",
              "      <td>41749.0</td>\n",
              "      <td>1740.0</td>\n",
              "    </tr>\n",
              "  </tbody>\n",
              "</table>\n",
              "<p>7 rows × 40 columns</p>\n",
              "</div>"
            ],
            "text/plain": [
              "Brand     alfa_romeo     audi      bmw  chevrolet  chrysler  citroen  dacia  \\\n",
              "FuelType                                                                      \n",
              "cng              NaN      1.0     10.0        4.0       NaN      8.0    2.0   \n",
              "electric         NaN      2.0      3.0        NaN       NaN      1.0    NaN   \n",
              "gasoline       598.0  12213.0  11966.0      236.0     377.0   1594.0  206.0   \n",
              "hybrid           NaN      2.0      NaN        NaN       NaN      NaN    NaN   \n",
              "lpg             37.0    451.0    750.0      177.0      93.0     70.0   53.0   \n",
              "other            NaN      4.0      8.0        1.0       NaN      3.0    NaN   \n",
              "petrol        1406.0  13899.0  20478.0     1152.0     789.0   2965.0  573.0   \n",
              "\n",
              "Brand     daewoo  daihatsu    fiat  ...    seat   skoda   smart  \\\n",
              "FuelType                            ...                           \n",
              "cng          NaN       NaN    68.0  ...     3.0     6.0     3.0   \n",
              "electric     NaN       1.0     4.0  ...     NaN     NaN     7.0   \n",
              "gasoline     1.0       4.0  1492.0  ...  1676.0  1912.0   868.0   \n",
              "hybrid       NaN       NaN     3.0  ...     1.0     NaN     1.0   \n",
              "lpg         23.0       6.0    68.0  ...    63.0    52.0     3.0   \n",
              "other        1.0       NaN     4.0  ...     NaN     NaN     1.0   \n",
              "petrol     443.0     673.0  6753.0  ...  4420.0  3171.0  3952.0   \n",
              "\n",
              "Brand     sonstige_autos  subaru  suzuki  toyota  trabant  volkswagen   volvo  \n",
              "FuelType                                                                       \n",
              "cng                  7.0     2.0     NaN     NaN      NaN       186.0    20.0  \n",
              "electric            21.0     NaN     NaN     NaN      NaN         5.0     NaN  \n",
              "gasoline           441.0    41.0   229.0   983.0      1.0     25238.0  1051.0  \n",
              "hybrid              20.0     NaN     NaN   126.0      1.0         5.0     NaN  \n",
              "lpg                121.0    30.0    24.0    25.0      NaN       540.0   108.0  \n",
              "other               30.0     1.0     1.0     1.0     37.0        23.0     3.0  \n",
              "petrol            1481.0   581.0  1825.0  3147.0    281.0     41749.0  1740.0  \n",
              "\n",
              "[7 rows x 40 columns]"
            ]
          },
          "metadata": {},
          "output_type": "display_data"
        }
      ]
    },
    {
      "cell_type": "code",
      "metadata": {
        "id": "zkAbfOjAPgLo",
        "outputId": "f2e57cb8-61e3-479f-b37a-905e27f2d5bc"
      },
      "source": [
        "filtred_df.fillna({'FuelType':0},inplace=True)\n",
        "\n",
        "filtred_df['FuelType'] = filtred_df.apply(fillna_by_brand, args=[4, fuel_type], axis=1)\n",
        "display(filtred_df['FuelType'].isna().sum())\n",
        "filtred_df['FuelType'].value_counts()"
      ],
      "execution_count": null,
      "outputs": [
        {
          "data": {
            "text/plain": [
              "0"
            ]
          },
          "metadata": {},
          "output_type": "display_data"
        },
        {
          "data": {
            "text/plain": [
              "petrol      240200\n",
              "gasoline     97192\n",
              "lpg           5166\n",
              "cng            554\n",
              "hybrid         227\n",
              "other          170\n",
              "electric        88\n",
              "Name: FuelType, dtype: int64"
            ]
          },
          "execution_count": 13,
          "metadata": {},
          "output_type": "execute_result"
        }
      ]
    },
    {
      "cell_type": "markdown",
      "metadata": {
        "id": "9FXP8UV3PgLp"
      },
      "source": [
        "В столбце RegistrationYear удалю значения несуществующих годов(или слишком поздних годов, тут уже надо обращаться не в приложение, а к коллекционерам)"
      ]
    },
    {
      "cell_type": "code",
      "metadata": {
        "id": "gLnfN5mEPgLp"
      },
      "source": [
        "filtred_df = filtred_df.query('1940 < RegistrationYear < 2021')"
      ],
      "execution_count": null,
      "outputs": []
    },
    {
      "cell_type": "code",
      "metadata": {
        "id": "7EFKbWiNPgLp",
        "outputId": "9be86146-dd22-4ad4-d7ba-8606924938ae"
      },
      "source": [
        "filtred_df['RegistrationYear'].hist(bins=100, figsize=(7,5))\n",
        "filtred_df['RegistrationYear'].describe()"
      ],
      "execution_count": null,
      "outputs": [
        {
          "data": {
            "text/plain": [
              "count    343352.000000\n",
              "mean       2003.204376\n",
              "std           7.227481\n",
              "min        1941.000000\n",
              "25%        1999.000000\n",
              "50%        2003.000000\n",
              "75%        2008.000000\n",
              "max        2019.000000\n",
              "Name: RegistrationYear, dtype: float64"
            ]
          },
          "execution_count": 15,
          "metadata": {},
          "output_type": "execute_result"
        },
        {
          "data": {
            "image/png": "[encoded data removed]",
            "text/plain": [
              "<Figure size 504x360 with 1 Axes>"
            ]
          },
          "metadata": {
            "needs_background": "light"
          },
          "output_type": "display_data"
        }
      ]
    },
    {
      "cell_type": "markdown",
      "metadata": {
        "id": "EXQ6LrwsPgLp"
      },
      "source": [
        "В столбцах Gearbox, NotRepaired, Model заменю пропущенные значения"
      ]
    },
    {
      "cell_type": "code",
      "metadata": {
        "id": "h0jkhop7PgLq"
      },
      "source": [
        "filtred_df.fillna({'Gearbox':'manual', 'NotRepaired':'no', 'Model':'unknown'}, inplace=True)"
      ],
      "execution_count": null,
      "outputs": []
    },
    {
      "cell_type": "markdown",
      "metadata": {
        "id": "y5o6klwiPgLq"
      },
      "source": [
        "Проверю столбец Power на выбросы"
      ]
    },
    {
      "cell_type": "code",
      "metadata": {
        "id": "v-eDkmDOPgLq",
        "outputId": "bbd084a1-090f-4ecc-d13f-bc75b0123edc"
      },
      "source": [
        "filtred_df['Power'].hist(bins=100, figsize=(7,5))"
      ],
      "execution_count": null,
      "outputs": [
        {
          "data": {
            "text/plain": [
              "<matplotlib.axes._subplots.AxesSubplot at 0x7f4f2ed22e90>"
            ]
          },
          "execution_count": 17,
          "metadata": {},
          "output_type": "execute_result"
        },
        {
          "data": {
            "image/png": "[encoded data removed]",
            "text/plain": [
              "<Figure size 504x360 with 1 Axes>"
            ]
          },
          "metadata": {
            "needs_background": "light"
          },
          "output_type": "display_data"
        }
      ]
    },
    {
      "cell_type": "markdown",
      "metadata": {
        "id": "PvNLoxZxPgLq"
      },
      "source": [
        "Наблюдаются выбросы. Сокращу диапазон значений"
      ]
    },
    {
      "cell_type": "code",
      "metadata": {
        "id": "juDLCM7hPgLt",
        "outputId": "9d14d8ac-d3cd-4144-82b5-c3e67e524191"
      },
      "source": [
        "filtred_df = filtred_df.query('Power < 1001')\n",
        "filtred_df['Power'].hist(bins=100, figsize=(7,5))\n",
        "filtred_df['Power'].describe()"
      ],
      "execution_count": null,
      "outputs": [
        {
          "data": {
            "text/plain": [
              "count    343072.000000\n",
              "mean        107.668178\n",
              "std          63.619308\n",
              "min           0.000000\n",
              "25%          69.000000\n",
              "50%         105.000000\n",
              "75%         143.000000\n",
              "max        1000.000000\n",
              "Name: Power, dtype: float64"
            ]
          },
          "execution_count": 18,
          "metadata": {},
          "output_type": "execute_result"
        },
        {
          "data": {
            "image/png": "[encoded data removed]",
            "text/plain": [
              "<Figure size 504x360 with 1 Axes>"
            ]
          },
          "metadata": {
            "needs_background": "light"
          },
          "output_type": "display_data"
        }
      ]
    },
    {
      "cell_type": "markdown",
      "metadata": {
        "id": "l51GbwjfPgLu"
      },
      "source": [
        "У многих машин указаная мощность равна  нулю, удалю строки с таокй мощностью"
      ]
    },
    {
      "cell_type": "code",
      "metadata": {
        "id": "QWbfkIOMPgLu",
        "outputId": "5e16730e-6598-414e-c758-e51e460fe0e9"
      },
      "source": [
        "filtred_df = filtred_df.query('10 < Power < 501')\n",
        "filtred_df['Power'].hist(bins=100, figsize=(7,5))\n",
        "filtred_df['Power'].describe()"
      ],
      "execution_count": null,
      "outputs": [
        {
          "data": {
            "text/plain": [
              "count    306529.000000\n",
              "mean        120.201945\n",
              "std          53.369127\n",
              "min          11.000000\n",
              "25%          75.000000\n",
              "50%         110.000000\n",
              "75%         150.000000\n",
              "max         500.000000\n",
              "Name: Power, dtype: float64"
            ]
          },
          "execution_count": 19,
          "metadata": {},
          "output_type": "execute_result"
        },
        {
          "data": {
            "image/png": "[encoded data removed]",
            "text/plain": [
              "<Figure size 504x360 with 1 Axes>"
            ]
          },
          "metadata": {
            "needs_background": "light"
          },
          "output_type": "display_data"
        }
      ]
    },
    {
      "cell_type": "markdown",
      "metadata": {
        "id": "LwDAvgIxPgLv"
      },
      "source": [
        "С пропущенными значениями покончено"
      ]
    },
    {
      "cell_type": "code",
      "metadata": {
        "id": "J5FxzFOLPgLv",
        "outputId": "2f2259b8-f9ab-4b68-ac5a-74b241fc0986"
      },
      "source": [
        "filtred_df.info()"
      ],
      "execution_count": null,
      "outputs": [
        {
          "name": "stdout",
          "output_type": "stream",
          "text": [
            "<class 'pandas.core.frame.DataFrame'>\n",
            "Int64Index: 306529 entries, 1 to 354368\n",
            "Data columns (total 10 columns):\n",
            "VehicleType         306529 non-null object\n",
            "Gearbox             306529 non-null object\n",
            "Power               306529 non-null int64\n",
            "Kilometer           306529 non-null int64\n",
            "FuelType            306529 non-null object\n",
            "Brand               306529 non-null object\n",
            "NotRepaired         306529 non-null object\n",
            "RegistrationYear    306529 non-null int64\n",
            "Model               306529 non-null object\n",
            "Price               306529 non-null int64\n",
            "dtypes: int64(4), object(6)\n",
            "memory usage: 25.7+ MB\n"
          ]
        }
      ]
    },
    {
      "cell_type": "markdown",
      "metadata": {
        "id": "9QIN3pcUPgLv"
      },
      "source": [
        "Теперь надо изменить тип данных, чтобы все признаки были с типом int64"
      ]
    },
    {
      "cell_type": "code",
      "metadata": {
        "id": "8wntl8P7PgLv"
      },
      "source": [
        "filtred_df['IsManualGearbox'] = 0\n",
        "filtred_df.loc[filtred_df['Gearbox'] == 'manual', 'IsManualGearbox'] = 1"
      ],
      "execution_count": null,
      "outputs": []
    },
    {
      "cell_type": "code",
      "metadata": {
        "id": "n605GpMQPgLw"
      },
      "source": [
        "filtred_df['IsNotRepaired'] = 0\n",
        "filtred_df.loc[filtred_df['NotRepaired'] == 'yes', 'IsNotRepaired'] = 1"
      ],
      "execution_count": null,
      "outputs": []
    },
    {
      "cell_type": "code",
      "metadata": {
        "id": "WPB3FYdVPgLw"
      },
      "source": [
        "filtred_df.drop(['NotRepaired','Gearbox'], inplace=True, axis=1)"
      ],
      "execution_count": null,
      "outputs": []
    },
    {
      "cell_type": "code",
      "metadata": {
        "id": "-gj97CsAPgLw",
        "outputId": "896c674d-cab8-4ec8-91dd-b42d70d8ecbb"
      },
      "source": [
        "filtred_df['IsNotRepaired'] = pd.to_numeric(filtred_df['IsNotRepaired'], downcast='integer')\n",
        "filtred_df['IsManualGearbox'] = pd.to_numeric(filtred_df['IsManualGearbox'], downcast='integer')\n",
        "filtred_df['RegistrationYear'] = pd.to_numeric(filtred_df['RegistrationYear'], downcast='integer')\n",
        "filtred_df['Power'] = pd.to_numeric(filtred_df['Power'], downcast='integer')\n",
        "filtred_df['Kilometer'] = pd.to_numeric(filtred_df['Kilometer'], downcast='integer')\n",
        "filtred_df['Price'] = pd.to_numeric(filtred_df['Price'], downcast='integer')\n",
        "filtred_df.info()"
      ],
      "execution_count": null,
      "outputs": [
        {
          "name": "stdout",
          "output_type": "stream",
          "text": [
            "<class 'pandas.core.frame.DataFrame'>\n",
            "Int64Index: 306529 entries, 1 to 354368\n",
            "Data columns (total 10 columns):\n",
            "VehicleType         306529 non-null object\n",
            "Power               306529 non-null int16\n",
            "Kilometer           306529 non-null int32\n",
            "FuelType            306529 non-null object\n",
            "Brand               306529 non-null object\n",
            "RegistrationYear    306529 non-null int16\n",
            "Model               306529 non-null object\n",
            "Price               306529 non-null int16\n",
            "IsManualGearbox     306529 non-null int8\n",
            "IsNotRepaired       306529 non-null int8\n",
            "dtypes: int16(3), int32(1), int8(2), object(4)\n",
            "memory usage: 15.2+ MB\n"
          ]
        }
      ]
    },
    {
      "cell_type": "markdown",
      "metadata": {
        "id": "LWyafPYbPgLw"
      },
      "source": [
        "### Разделение данных на обучающую, валидационную и тестовые выборки"
      ]
    },
    {
      "cell_type": "markdown",
      "metadata": {
        "id": "WNMXpPc9PgLw"
      },
      "source": [
        "Применю прямое кодирование для признаков"
      ]
    },
    {
      "cell_type": "code",
      "metadata": {
        "id": "W0PCbuQoPgLw"
      },
      "source": [
        "filtred_df_coding = filtred_df.copy()"
      ],
      "execution_count": null,
      "outputs": []
    },
    {
      "cell_type": "code",
      "metadata": {
        "id": "EIDs6c11PgLx"
      },
      "source": [
        "encoder = OrdinalEncoder()\n",
        "cat_columns = ['VehicleType','FuelType','Brand','Model']\n",
        "cat_features = filtred_df[cat_columns]\n",
        "cat_features = pd.DataFrame(encoder.fit_transform(cat_features), columns=cat_features.columns, index=cat_features.index)\n",
        "filtred_df = filtred_df.copy()\n",
        "for column in cat_columns:\n",
        "    filtred_df[column] = filtred_df[column]\n",
        "    \n",
        "filtred_df_coding['VehicleType'] = cat_features['VehicleType']\n",
        "filtred_df_coding['FuelType'] = cat_features['FuelType']\n",
        "filtred_df_coding['Brand'] = cat_features['Brand']\n",
        "filtred_df_coding['Model'] = cat_features['Model']"
      ],
      "execution_count": null,
      "outputs": []
    },
    {
      "cell_type": "code",
      "metadata": {
        "id": "u68focsMPgLx",
        "outputId": "0655a5a8-3335-4419-eb1f-84870b8ec4f8"
      },
      "source": [
        "filtred_df_coding"
      ],
      "execution_count": null,
      "outputs": [
        {
          "data": {
            "text/html": [
              "<div>\n",
              "<style scoped>\n",
              "    .dataframe tbody tr th:only-of-type {\n",
              "        vertical-align: middle;\n",
              "    }\n",
              "\n",
              "    .dataframe tbody tr th {\n",
              "        vertical-align: top;\n",
              "    }\n",
              "\n",
              "    .dataframe thead th {\n",
              "        text-align: right;\n",
              "    }\n",
              "</style>\n",
              "<table border=\"1\" class=\"dataframe\">\n",
              "  <thead>\n",
              "    <tr style=\"text-align: right;\">\n",
              "      <th></th>\n",
              "      <th>VehicleType</th>\n",
              "      <th>Power</th>\n",
              "      <th>Kilometer</th>\n",
              "      <th>FuelType</th>\n",
              "      <th>Brand</th>\n",
              "      <th>RegistrationYear</th>\n",
              "      <th>Model</th>\n",
              "      <th>Price</th>\n",
              "      <th>IsManualGearbox</th>\n",
              "      <th>IsNotRepaired</th>\n",
              "    </tr>\n",
              "  </thead>\n",
              "  <tbody>\n",
              "    <tr>\n",
              "      <td>1</td>\n",
              "      <td>2.0</td>\n",
              "      <td>190</td>\n",
              "      <td>125000</td>\n",
              "      <td>2.0</td>\n",
              "      <td>1.0</td>\n",
              "      <td>2011</td>\n",
              "      <td>227.0</td>\n",
              "      <td>18300</td>\n",
              "      <td>1</td>\n",
              "      <td>1</td>\n",
              "    </tr>\n",
              "    <tr>\n",
              "      <td>2</td>\n",
              "      <td>6.0</td>\n",
              "      <td>163</td>\n",
              "      <td>125000</td>\n",
              "      <td>2.0</td>\n",
              "      <td>14.0</td>\n",
              "      <td>2004</td>\n",
              "      <td>117.0</td>\n",
              "      <td>9800</td>\n",
              "      <td>0</td>\n",
              "      <td>0</td>\n",
              "    </tr>\n",
              "    <tr>\n",
              "      <td>3</td>\n",
              "      <td>5.0</td>\n",
              "      <td>75</td>\n",
              "      <td>150000</td>\n",
              "      <td>6.0</td>\n",
              "      <td>38.0</td>\n",
              "      <td>2001</td>\n",
              "      <td>116.0</td>\n",
              "      <td>1500</td>\n",
              "      <td>1</td>\n",
              "      <td>0</td>\n",
              "    </tr>\n",
              "    <tr>\n",
              "      <td>4</td>\n",
              "      <td>5.0</td>\n",
              "      <td>69</td>\n",
              "      <td>90000</td>\n",
              "      <td>2.0</td>\n",
              "      <td>31.0</td>\n",
              "      <td>2008</td>\n",
              "      <td>101.0</td>\n",
              "      <td>3600</td>\n",
              "      <td>1</td>\n",
              "      <td>0</td>\n",
              "    </tr>\n",
              "    <tr>\n",
              "      <td>5</td>\n",
              "      <td>4.0</td>\n",
              "      <td>102</td>\n",
              "      <td>150000</td>\n",
              "      <td>6.0</td>\n",
              "      <td>2.0</td>\n",
              "      <td>1995</td>\n",
              "      <td>11.0</td>\n",
              "      <td>650</td>\n",
              "      <td>1</td>\n",
              "      <td>1</td>\n",
              "    </tr>\n",
              "    <tr>\n",
              "      <td>...</td>\n",
              "      <td>...</td>\n",
              "      <td>...</td>\n",
              "      <td>...</td>\n",
              "      <td>...</td>\n",
              "      <td>...</td>\n",
              "      <td>...</td>\n",
              "      <td>...</td>\n",
              "      <td>...</td>\n",
              "      <td>...</td>\n",
              "      <td>...</td>\n",
              "    </tr>\n",
              "    <tr>\n",
              "      <td>354361</td>\n",
              "      <td>4.0</td>\n",
              "      <td>150</td>\n",
              "      <td>150000</td>\n",
              "      <td>6.0</td>\n",
              "      <td>0.0</td>\n",
              "      <td>2016</td>\n",
              "      <td>4.0</td>\n",
              "      <td>5250</td>\n",
              "      <td>0</td>\n",
              "      <td>0</td>\n",
              "    </tr>\n",
              "    <tr>\n",
              "      <td>354362</td>\n",
              "      <td>4.0</td>\n",
              "      <td>225</td>\n",
              "      <td>150000</td>\n",
              "      <td>6.0</td>\n",
              "      <td>30.0</td>\n",
              "      <td>2004</td>\n",
              "      <td>140.0</td>\n",
              "      <td>3200</td>\n",
              "      <td>1</td>\n",
              "      <td>1</td>\n",
              "    </tr>\n",
              "    <tr>\n",
              "      <td>354366</td>\n",
              "      <td>1.0</td>\n",
              "      <td>101</td>\n",
              "      <td>125000</td>\n",
              "      <td>6.0</td>\n",
              "      <td>32.0</td>\n",
              "      <td>2000</td>\n",
              "      <td>106.0</td>\n",
              "      <td>1199</td>\n",
              "      <td>0</td>\n",
              "      <td>0</td>\n",
              "    </tr>\n",
              "    <tr>\n",
              "      <td>354367</td>\n",
              "      <td>0.0</td>\n",
              "      <td>102</td>\n",
              "      <td>150000</td>\n",
              "      <td>2.0</td>\n",
              "      <td>38.0</td>\n",
              "      <td>1996</td>\n",
              "      <td>223.0</td>\n",
              "      <td>9200</td>\n",
              "      <td>1</td>\n",
              "      <td>0</td>\n",
              "    </tr>\n",
              "    <tr>\n",
              "      <td>354368</td>\n",
              "      <td>7.0</td>\n",
              "      <td>100</td>\n",
              "      <td>150000</td>\n",
              "      <td>2.0</td>\n",
              "      <td>38.0</td>\n",
              "      <td>2002</td>\n",
              "      <td>116.0</td>\n",
              "      <td>3400</td>\n",
              "      <td>1</td>\n",
              "      <td>0</td>\n",
              "    </tr>\n",
              "  </tbody>\n",
              "</table>\n",
              "<p>306529 rows × 10 columns</p>\n",
              "</div>"
            ],
            "text/plain": [
              "        VehicleType  Power  Kilometer  FuelType  Brand  RegistrationYear  \\\n",
              "1               2.0    190     125000       2.0    1.0              2011   \n",
              "2               6.0    163     125000       2.0   14.0              2004   \n",
              "3               5.0     75     150000       6.0   38.0              2001   \n",
              "4               5.0     69      90000       2.0   31.0              2008   \n",
              "5               4.0    102     150000       6.0    2.0              1995   \n",
              "...             ...    ...        ...       ...    ...               ...   \n",
              "354361          4.0    150     150000       6.0    0.0              2016   \n",
              "354362          4.0    225     150000       6.0   30.0              2004   \n",
              "354366          1.0    101     125000       6.0   32.0              2000   \n",
              "354367          0.0    102     150000       2.0   38.0              1996   \n",
              "354368          7.0    100     150000       2.0   38.0              2002   \n",
              "\n",
              "        Model  Price  IsManualGearbox  IsNotRepaired  \n",
              "1       227.0  18300                1              1  \n",
              "2       117.0   9800                0              0  \n",
              "3       116.0   1500                1              0  \n",
              "4       101.0   3600                1              0  \n",
              "5        11.0    650                1              1  \n",
              "...       ...    ...              ...            ...  \n",
              "354361    4.0   5250                0              0  \n",
              "354362  140.0   3200                1              1  \n",
              "354366  106.0   1199                0              0  \n",
              "354367  223.0   9200                1              0  \n",
              "354368  116.0   3400                1              0  \n",
              "\n",
              "[306529 rows x 10 columns]"
            ]
          },
          "execution_count": 27,
          "metadata": {},
          "output_type": "execute_result"
        }
      ]
    },
    {
      "cell_type": "code",
      "metadata": {
        "id": "kMYkFhsLPgLx",
        "outputId": "2ad36116-b9b8-4ede-dee4-feed652ff291"
      },
      "source": [
        "filtred_df"
      ],
      "execution_count": null,
      "outputs": [
        {
          "data": {
            "text/html": [
              "<div>\n",
              "<style scoped>\n",
              "    .dataframe tbody tr th:only-of-type {\n",
              "        vertical-align: middle;\n",
              "    }\n",
              "\n",
              "    .dataframe tbody tr th {\n",
              "        vertical-align: top;\n",
              "    }\n",
              "\n",
              "    .dataframe thead th {\n",
              "        text-align: right;\n",
              "    }\n",
              "</style>\n",
              "<table border=\"1\" class=\"dataframe\">\n",
              "  <thead>\n",
              "    <tr style=\"text-align: right;\">\n",
              "      <th></th>\n",
              "      <th>VehicleType</th>\n",
              "      <th>Power</th>\n",
              "      <th>Kilometer</th>\n",
              "      <th>FuelType</th>\n",
              "      <th>Brand</th>\n",
              "      <th>RegistrationYear</th>\n",
              "      <th>Model</th>\n",
              "      <th>Price</th>\n",
              "      <th>IsManualGearbox</th>\n",
              "      <th>IsNotRepaired</th>\n",
              "    </tr>\n",
              "  </thead>\n",
              "  <tbody>\n",
              "    <tr>\n",
              "      <td>1</td>\n",
              "      <td>coupe</td>\n",
              "      <td>190</td>\n",
              "      <td>125000</td>\n",
              "      <td>gasoline</td>\n",
              "      <td>audi</td>\n",
              "      <td>2011</td>\n",
              "      <td>unknown</td>\n",
              "      <td>18300</td>\n",
              "      <td>1</td>\n",
              "      <td>1</td>\n",
              "    </tr>\n",
              "    <tr>\n",
              "      <td>2</td>\n",
              "      <td>suv</td>\n",
              "      <td>163</td>\n",
              "      <td>125000</td>\n",
              "      <td>gasoline</td>\n",
              "      <td>jeep</td>\n",
              "      <td>2004</td>\n",
              "      <td>grand</td>\n",
              "      <td>9800</td>\n",
              "      <td>0</td>\n",
              "      <td>0</td>\n",
              "    </tr>\n",
              "    <tr>\n",
              "      <td>3</td>\n",
              "      <td>small</td>\n",
              "      <td>75</td>\n",
              "      <td>150000</td>\n",
              "      <td>petrol</td>\n",
              "      <td>volkswagen</td>\n",
              "      <td>2001</td>\n",
              "      <td>golf</td>\n",
              "      <td>1500</td>\n",
              "      <td>1</td>\n",
              "      <td>0</td>\n",
              "    </tr>\n",
              "    <tr>\n",
              "      <td>4</td>\n",
              "      <td>small</td>\n",
              "      <td>69</td>\n",
              "      <td>90000</td>\n",
              "      <td>gasoline</td>\n",
              "      <td>skoda</td>\n",
              "      <td>2008</td>\n",
              "      <td>fabia</td>\n",
              "      <td>3600</td>\n",
              "      <td>1</td>\n",
              "      <td>0</td>\n",
              "    </tr>\n",
              "    <tr>\n",
              "      <td>5</td>\n",
              "      <td>sedan</td>\n",
              "      <td>102</td>\n",
              "      <td>150000</td>\n",
              "      <td>petrol</td>\n",
              "      <td>bmw</td>\n",
              "      <td>1995</td>\n",
              "      <td>3er</td>\n",
              "      <td>650</td>\n",
              "      <td>1</td>\n",
              "      <td>1</td>\n",
              "    </tr>\n",
              "    <tr>\n",
              "      <td>...</td>\n",
              "      <td>...</td>\n",
              "      <td>...</td>\n",
              "      <td>...</td>\n",
              "      <td>...</td>\n",
              "      <td>...</td>\n",
              "      <td>...</td>\n",
              "      <td>...</td>\n",
              "      <td>...</td>\n",
              "      <td>...</td>\n",
              "      <td>...</td>\n",
              "    </tr>\n",
              "    <tr>\n",
              "      <td>354361</td>\n",
              "      <td>sedan</td>\n",
              "      <td>150</td>\n",
              "      <td>150000</td>\n",
              "      <td>petrol</td>\n",
              "      <td>alfa_romeo</td>\n",
              "      <td>2016</td>\n",
              "      <td>159</td>\n",
              "      <td>5250</td>\n",
              "      <td>0</td>\n",
              "      <td>0</td>\n",
              "    </tr>\n",
              "    <tr>\n",
              "      <td>354362</td>\n",
              "      <td>sedan</td>\n",
              "      <td>225</td>\n",
              "      <td>150000</td>\n",
              "      <td>petrol</td>\n",
              "      <td>seat</td>\n",
              "      <td>2004</td>\n",
              "      <td>leon</td>\n",
              "      <td>3200</td>\n",
              "      <td>1</td>\n",
              "      <td>1</td>\n",
              "    </tr>\n",
              "    <tr>\n",
              "      <td>354366</td>\n",
              "      <td>convertible</td>\n",
              "      <td>101</td>\n",
              "      <td>125000</td>\n",
              "      <td>petrol</td>\n",
              "      <td>smart</td>\n",
              "      <td>2000</td>\n",
              "      <td>fortwo</td>\n",
              "      <td>1199</td>\n",
              "      <td>0</td>\n",
              "      <td>0</td>\n",
              "    </tr>\n",
              "    <tr>\n",
              "      <td>354367</td>\n",
              "      <td>bus</td>\n",
              "      <td>102</td>\n",
              "      <td>150000</td>\n",
              "      <td>gasoline</td>\n",
              "      <td>volkswagen</td>\n",
              "      <td>1996</td>\n",
              "      <td>transporter</td>\n",
              "      <td>9200</td>\n",
              "      <td>1</td>\n",
              "      <td>0</td>\n",
              "    </tr>\n",
              "    <tr>\n",
              "      <td>354368</td>\n",
              "      <td>wagon</td>\n",
              "      <td>100</td>\n",
              "      <td>150000</td>\n",
              "      <td>gasoline</td>\n",
              "      <td>volkswagen</td>\n",
              "      <td>2002</td>\n",
              "      <td>golf</td>\n",
              "      <td>3400</td>\n",
              "      <td>1</td>\n",
              "      <td>0</td>\n",
              "    </tr>\n",
              "  </tbody>\n",
              "</table>\n",
              "<p>306529 rows × 10 columns</p>\n",
              "</div>"
            ],
            "text/plain": [
              "        VehicleType  Power  Kilometer  FuelType       Brand  RegistrationYear  \\\n",
              "1             coupe    190     125000  gasoline        audi              2011   \n",
              "2               suv    163     125000  gasoline        jeep              2004   \n",
              "3             small     75     150000    petrol  volkswagen              2001   \n",
              "4             small     69      90000  gasoline       skoda              2008   \n",
              "5             sedan    102     150000    petrol         bmw              1995   \n",
              "...             ...    ...        ...       ...         ...               ...   \n",
              "354361        sedan    150     150000    petrol  alfa_romeo              2016   \n",
              "354362        sedan    225     150000    petrol        seat              2004   \n",
              "354366  convertible    101     125000    petrol       smart              2000   \n",
              "354367          bus    102     150000  gasoline  volkswagen              1996   \n",
              "354368        wagon    100     150000  gasoline  volkswagen              2002   \n",
              "\n",
              "              Model  Price  IsManualGearbox  IsNotRepaired  \n",
              "1           unknown  18300                1              1  \n",
              "2             grand   9800                0              0  \n",
              "3              golf   1500                1              0  \n",
              "4             fabia   3600                1              0  \n",
              "5               3er    650                1              1  \n",
              "...             ...    ...              ...            ...  \n",
              "354361          159   5250                0              0  \n",
              "354362         leon   3200                1              1  \n",
              "354366       fortwo   1199                0              0  \n",
              "354367  transporter   9200                1              0  \n",
              "354368         golf   3400                1              0  \n",
              "\n",
              "[306529 rows x 10 columns]"
            ]
          },
          "execution_count": 28,
          "metadata": {},
          "output_type": "execute_result"
        }
      ]
    },
    {
      "cell_type": "markdown",
      "metadata": {
        "id": "QCmAfY7HPgLx"
      },
      "source": [
        "Отдельно разделю на выборки с признаками с прямым кодированием. И признаками без кодирования. Это сделаю для того, чтобы проверить скорость работы CatBoost и LGBM с кодироваными и некодированными признаками"
      ]
    },
    {
      "cell_type": "markdown",
      "metadata": {
        "id": "73NF-W8dPgLy"
      },
      "source": [
        "Деление на выборки с кодированием"
      ]
    },
    {
      "cell_type": "code",
      "metadata": {
        "id": "1Vs2Tnv5PgLy"
      },
      "source": [
        "train_coding, valid_coding, test_coding = np.split(filtred_df_coding.sample(frac=1, random_state=42),[int(.6*len(filtred_df)), int(.8*len(filtred_df))])"
      ],
      "execution_count": null,
      "outputs": []
    },
    {
      "cell_type": "code",
      "metadata": {
        "id": "_O0mN1olPgLy"
      },
      "source": [
        "features_train = train_coding.drop(['Price'], axis=1)\n",
        "target_train = train_coding['Price']\n",
        "\n",
        "features_valid = valid_coding.drop(['Price'], axis=1)\n",
        "target_valid = valid_coding['Price']\n",
        "\n",
        "features_test = test_coding.drop(['Price'], axis=1)\n",
        "target_test = test_coding['Price']"
      ],
      "execution_count": null,
      "outputs": []
    },
    {
      "cell_type": "markdown",
      "metadata": {
        "id": "L3ptch5SPgLy"
      },
      "source": [
        "Деление на выборки без кодирования. И деление на категориальные и не категориальные выборки"
      ]
    },
    {
      "cell_type": "code",
      "metadata": {
        "id": "DAb5BKfwPgLy"
      },
      "source": [
        "train, valid, test = np.split(filtred_df.sample(frac=1, random_state=42),[int(.6*len(filtred_df)), int(.8*len(filtred_df))])"
      ],
      "execution_count": null,
      "outputs": []
    },
    {
      "cell_type": "code",
      "metadata": {
        "id": "vkPSv6ZuPgLy"
      },
      "source": [
        "features_train_without_coding = train.drop(['Price'], axis=1)\n",
        "target_train_without_coding = train['Price']\n",
        "\n",
        "features_valid_without_coding = valid.drop(['Price'], axis=1)\n",
        "target_valid_without_coding = valid['Price']\n",
        "\n",
        "features_test_without_coding = test.drop(['Price'], axis=1)\n",
        "target_test_without_coding = test['Price']"
      ],
      "execution_count": null,
      "outputs": []
    },
    {
      "cell_type": "code",
      "metadata": {
        "id": "6V6_NXd8PgLy"
      },
      "source": [
        "def category_type(X):\n",
        "    for c in X.columns:\n",
        "        col_type = X[c].dtype\n",
        "        if col_type == 'object' or col_type.name == 'category':\n",
        "            X[c] = X[c].astype('category')"
      ],
      "execution_count": null,
      "outputs": []
    },
    {
      "cell_type": "code",
      "metadata": {
        "id": "5bEsVIcjPgLz"
      },
      "source": [
        "category_type(features_train_without_coding)\n",
        "\n",
        "category_type(features_valid_without_coding)\n",
        "\n",
        "category_type(features_test_without_coding)"
      ],
      "execution_count": null,
      "outputs": []
    },
    {
      "cell_type": "markdown",
      "metadata": {
        "id": "QjyfAItIPgLz"
      },
      "source": [
        "Вывод по разделу:"
      ]
    },
    {
      "cell_type": "markdown",
      "metadata": {
        "id": "8ALGT4m6PgLz"
      },
      "source": [
        "В данном разделе были произведены следующие действия: были заменены пропущеные значения (NaN) на популярные значения для данных типов машин; были удалены выбросы; были удалены лишний стобцы. Затем, тип данных был изменен на int. Для тех данных, которые первоначально были типа object, была применена техника прямого кодирования. И в конце раздела было произведено разбитие на выборки: тренировочную, валидационную и тестовую"
      ]
    },
    {
      "cell_type": "markdown",
      "metadata": {
        "id": "wrm0Ew-4PgLz"
      },
      "source": [
        "## Обучение моделей"
      ]
    },
    {
      "cell_type": "markdown",
      "metadata": {
        "id": "Upa4mH0-PgLz"
      },
      "source": [
        "Линейная регрессия"
      ]
    },
    {
      "cell_type": "code",
      "metadata": {
        "id": "4Aeprb61PgL0",
        "outputId": "8cb68a94-f414-46e2-e9db-d6864313d258"
      },
      "source": [
        "%%time\n",
        "\n",
        "start = time.time() \n",
        "\n",
        "regressor = LinearRegression()\n",
        "\n",
        "cv_RMSE_LR = (cross_val_score(regressor, features_train, target_train, cv=5, \n",
        "                             scoring='neg_mean_squared_error').mean() * -1) ** 0.5\n",
        "end_time_fit = time.time() - start\n",
        "print('Среднее RMSE для Линейной регрессии =', cv_RMSE_LR)"
      ],
      "execution_count": null,
      "outputs": [
        {
          "name": "stdout",
          "output_type": "stream",
          "text": [
            "Среднее RMSE для Линейной регрессии = 2971.78542477601\n",
            "CPU times: user 543 ms, sys: 323 ms, total: 866 ms\n",
            "Wall time: 833 ms\n"
          ]
        }
      ]
    },
    {
      "cell_type": "code",
      "metadata": {
        "id": "02dBm3WzPgL0",
        "outputId": "dd774338-7741-4490-9754-5c9e5e21b1e7"
      },
      "source": [
        "results = []\n",
        "results.append({'Модель': 'Линейная регрессия', \n",
        "                'Параметры': np.nan, \n",
        "                'Время обучения': end_time_fit,\n",
        "                'RMSE': cv_RMSE_LR})\n",
        "\n",
        "pd.DataFrame(results)"
      ],
      "execution_count": null,
      "outputs": [
        {
          "data": {
            "text/html": [
              "<div>\n",
              "<style scoped>\n",
              "    .dataframe tbody tr th:only-of-type {\n",
              "        vertical-align: middle;\n",
              "    }\n",
              "\n",
              "    .dataframe tbody tr th {\n",
              "        vertical-align: top;\n",
              "    }\n",
              "\n",
              "    .dataframe thead th {\n",
              "        text-align: right;\n",
              "    }\n",
              "</style>\n",
              "<table border=\"1\" class=\"dataframe\">\n",
              "  <thead>\n",
              "    <tr style=\"text-align: right;\">\n",
              "      <th></th>\n",
              "      <th>Модель</th>\n",
              "      <th>Параметры</th>\n",
              "      <th>Время обучения</th>\n",
              "      <th>RMSE</th>\n",
              "    </tr>\n",
              "  </thead>\n",
              "  <tbody>\n",
              "    <tr>\n",
              "      <td>0</td>\n",
              "      <td>Линейная регрессия</td>\n",
              "      <td>NaN</td>\n",
              "      <td>0.831497</td>\n",
              "      <td>2971.785425</td>\n",
              "    </tr>\n",
              "  </tbody>\n",
              "</table>\n",
              "</div>"
            ],
            "text/plain": [
              "               Модель  Параметры  Время обучения         RMSE\n",
              "0  Линейная регрессия        NaN        0.831497  2971.785425"
            ]
          },
          "execution_count": 36,
          "metadata": {},
          "output_type": "execute_result"
        }
      ]
    },
    {
      "cell_type": "markdown",
      "metadata": {
        "id": "SmtHdTIXPgL0"
      },
      "source": [
        "Случайный лес"
      ]
    },
    {
      "cell_type": "code",
      "metadata": {
        "id": "ArIb7togPgL0",
        "outputId": "0827c5e6-7346-4a47-b240-eb5b72b33722"
      },
      "source": [
        "%%time\n",
        "\n",
        "start = time.time() \n",
        "\n",
        "regressor = RandomForestRegressor() \n",
        "max_depth_list = [x for x in range(2, 5)]\n",
        "est_list = [x for x in range(1, 3)]\n",
        "hyperparams = [{'max_depth':max_depth_list,\n",
        "                'n_estimators':est_list,\n",
        "                'random_state':[12345]}]\n",
        "\n",
        "clf = GridSearchCV(regressor, hyperparams, scoring='neg_mean_squared_error')\n",
        "clf.fit(features_train, target_train)\n",
        "print(\"Лучшие параметры:\")\n",
        "print()\n",
        "print(clf.best_params_)\n",
        "print()\n",
        "print(\"Поиск по сетке:\")\n",
        "print()\n",
        "means = clf.cv_results_['mean_test_score']\n",
        "stds = clf.cv_results_['std_test_score']\n",
        "for mean, std, params in zip(means, stds, clf.cv_results_['params']):\n",
        "    print(\"%0.6f for %r\"% ((mean*-1)** 0.5, params))\n",
        "print()\n",
        "\n",
        "end_time_fit = time.time() - start\n",
        "\n",
        "cv_RMSE_forest = (max(means)*-1) ** 0.5"
      ],
      "execution_count": null,
      "outputs": [
        {
          "name": "stdout",
          "output_type": "stream",
          "text": [
            "Лучшие параметры:\n",
            "\n",
            "{'max_depth': 4, 'n_estimators': 2, 'random_state': 12345}\n",
            "\n",
            "Поиск по сетке:\n",
            "\n",
            "3278.197216 for {'max_depth': 2, 'n_estimators': 1, 'random_state': 12345}\n",
            "3275.875207 for {'max_depth': 2, 'n_estimators': 2, 'random_state': 12345}\n",
            "2992.855853 for {'max_depth': 3, 'n_estimators': 1, 'random_state': 12345}\n",
            "2985.210713 for {'max_depth': 3, 'n_estimators': 2, 'random_state': 12345}\n",
            "2684.694394 for {'max_depth': 4, 'n_estimators': 1, 'random_state': 12345}\n",
            "2668.330264 for {'max_depth': 4, 'n_estimators': 2, 'random_state': 12345}\n",
            "\n",
            "CPU times: user 2.41 s, sys: 7.52 ms, total: 2.41 s\n",
            "Wall time: 2.41 s\n"
          ]
        }
      ]
    },
    {
      "cell_type": "code",
      "metadata": {
        "id": "wQvwZVksPgL0",
        "outputId": "6bd692ff-1021-477f-f7de-260e6fb69a76"
      },
      "source": [
        "results.append({'Модель': 'Случайный лес', \n",
        "                'Параметры': clf.best_params_, \n",
        "                'Время обучения': end_time_fit,\n",
        "                'RMSE': cv_RMSE_forest})\n",
        "\n",
        "pd.DataFrame(results)"
      ],
      "execution_count": null,
      "outputs": [
        {
          "data": {
            "text/html": [
              "<div>\n",
              "<style scoped>\n",
              "    .dataframe tbody tr th:only-of-type {\n",
              "        vertical-align: middle;\n",
              "    }\n",
              "\n",
              "    .dataframe tbody tr th {\n",
              "        vertical-align: top;\n",
              "    }\n",
              "\n",
              "    .dataframe thead th {\n",
              "        text-align: right;\n",
              "    }\n",
              "</style>\n",
              "<table border=\"1\" class=\"dataframe\">\n",
              "  <thead>\n",
              "    <tr style=\"text-align: right;\">\n",
              "      <th></th>\n",
              "      <th>Модель</th>\n",
              "      <th>Параметры</th>\n",
              "      <th>Время обучения</th>\n",
              "      <th>RMSE</th>\n",
              "    </tr>\n",
              "  </thead>\n",
              "  <tbody>\n",
              "    <tr>\n",
              "      <td>0</td>\n",
              "      <td>Линейная регрессия</td>\n",
              "      <td>NaN</td>\n",
              "      <td>0.831497</td>\n",
              "      <td>2971.785425</td>\n",
              "    </tr>\n",
              "    <tr>\n",
              "      <td>1</td>\n",
              "      <td>Случайный лес</td>\n",
              "      <td>{'max_depth': 4, 'n_estimators': 2, 'random_st...</td>\n",
              "      <td>2.414570</td>\n",
              "      <td>2668.330264</td>\n",
              "    </tr>\n",
              "  </tbody>\n",
              "</table>\n",
              "</div>"
            ],
            "text/plain": [
              "               Модель                                          Параметры  \\\n",
              "0  Линейная регрессия                                                NaN   \n",
              "1       Случайный лес  {'max_depth': 4, 'n_estimators': 2, 'random_st...   \n",
              "\n",
              "   Время обучения         RMSE  \n",
              "0        0.831497  2971.785425  \n",
              "1        2.414570  2668.330264  "
            ]
          },
          "execution_count": 41,
          "metadata": {},
          "output_type": "execute_result"
        }
      ]
    },
    {
      "cell_type": "markdown",
      "metadata": {
        "id": "24-s9sdaPgL1"
      },
      "source": [
        "<div class=\"alert alert-block alert-danger\">\n",
        "<b>Ошибка (ревью 3):</b> В случае случайного леса не может быть такая маленькая ошибка. Проверь еще раз код по шагам.\n",
        "</div>"
      ]
    },
    {
      "cell_type": "markdown",
      "metadata": {
        "id": "vKYgn3OXPgL1"
      },
      "source": [
        "<div class=\"alert alert-block alert-success\">\n",
        "<b>Успех:</b> Молодец, что для подбора параметров использовал метод основанный на кросс-валидации.\n",
        "</div>"
      ]
    },
    {
      "cell_type": "markdown",
      "metadata": {
        "id": "TjDOk-UjPgL1"
      },
      "source": [
        "Дерево решений"
      ]
    },
    {
      "cell_type": "code",
      "metadata": {
        "id": "M5D4xhWZPgL1",
        "outputId": "21fa1721-ce2f-4484-e61f-022a36082d28"
      },
      "source": [
        "%%time\n",
        "\n",
        "start = time.time()\n",
        "\n",
        "regressor = DecisionTreeRegressor() \n",
        "max_depth_list = [x for x in range(2, 7)]\n",
        "hyperparams = [{'criterion':['mse'], \n",
        "                'max_depth':max_depth_list, \n",
        "                'random_state':[12345]}]\n",
        "\n",
        "clf = GridSearchCV(regressor, hyperparams, scoring='neg_mean_squared_error')\n",
        "clf.fit(features_train, target_train)\n",
        "print(\"Лучшие параметры:\")\n",
        "print()\n",
        "print(clf.best_params_)\n",
        "print()\n",
        "print(\"Поиск по сетке:\")\n",
        "print()\n",
        "means = clf.cv_results_['mean_test_score']\n",
        "stds = clf.cv_results_['std_test_score']\n",
        "for mean, std, params in zip(means, stds, clf.cv_results_['params']):\n",
        "    print(\"%0.6f for %r\"% ((mean*-1)** 0.5, params))\n",
        "print()\n",
        "\n",
        "end_time_fit = time.time() - start\n",
        "\n",
        "cv_RMSE_tree = (max(means)*-1) ** 0.5"
      ],
      "execution_count": null,
      "outputs": [
        {
          "name": "stdout",
          "output_type": "stream",
          "text": [
            "Лучшие параметры:\n",
            "\n",
            "{'criterion': 'mse', 'max_depth': 6, 'random_state': 12345}\n",
            "\n",
            "Поиск по сетке:\n",
            "\n",
            "3277.695200 for {'criterion': 'mse', 'max_depth': 2, 'random_state': 12345}\n",
            "2989.941456 for {'criterion': 'mse', 'max_depth': 3, 'random_state': 12345}\n",
            "2684.652441 for {'criterion': 'mse', 'max_depth': 4, 'random_state': 12345}\n",
            "2471.129834 for {'criterion': 'mse', 'max_depth': 5, 'random_state': 12345}\n",
            "2320.410218 for {'criterion': 'mse', 'max_depth': 6, 'random_state': 12345}\n",
            "\n",
            "CPU times: user 2.35 s, sys: 7.73 ms, total: 2.36 s\n",
            "Wall time: 2.38 s\n"
          ]
        }
      ]
    },
    {
      "cell_type": "code",
      "metadata": {
        "id": "0qLsIzayPgL1",
        "outputId": "f0942441-c83d-4ef3-ef24-60894ca381f6"
      },
      "source": [
        "results.append({'Модель': 'Дерево решений', \n",
        "                'Параметры': clf.best_params_, \n",
        "                'Время обучения': end_time_fit,\n",
        "                'RMSE': cv_RMSE_tree})\n",
        "\n",
        "pd.DataFrame(results)"
      ],
      "execution_count": null,
      "outputs": [
        {
          "data": {
            "text/html": [
              "<div>\n",
              "<style scoped>\n",
              "    .dataframe tbody tr th:only-of-type {\n",
              "        vertical-align: middle;\n",
              "    }\n",
              "\n",
              "    .dataframe tbody tr th {\n",
              "        vertical-align: top;\n",
              "    }\n",
              "\n",
              "    .dataframe thead th {\n",
              "        text-align: right;\n",
              "    }\n",
              "</style>\n",
              "<table border=\"1\" class=\"dataframe\">\n",
              "  <thead>\n",
              "    <tr style=\"text-align: right;\">\n",
              "      <th></th>\n",
              "      <th>Модель</th>\n",
              "      <th>Параметры</th>\n",
              "      <th>Время обучения</th>\n",
              "      <th>RMSE</th>\n",
              "    </tr>\n",
              "  </thead>\n",
              "  <tbody>\n",
              "    <tr>\n",
              "      <td>0</td>\n",
              "      <td>Линейная регрессия</td>\n",
              "      <td>NaN</td>\n",
              "      <td>0.831497</td>\n",
              "      <td>2971.785425</td>\n",
              "    </tr>\n",
              "    <tr>\n",
              "      <td>1</td>\n",
              "      <td>Случайный лес</td>\n",
              "      <td>{'max_depth': 4, 'n_estimators': 2, 'random_st...</td>\n",
              "      <td>2.414570</td>\n",
              "      <td>2668.330264</td>\n",
              "    </tr>\n",
              "    <tr>\n",
              "      <td>2</td>\n",
              "      <td>Дерево решений</td>\n",
              "      <td>{'criterion': 'mse', 'max_depth': 6, 'random_s...</td>\n",
              "      <td>2.379443</td>\n",
              "      <td>2320.410218</td>\n",
              "    </tr>\n",
              "  </tbody>\n",
              "</table>\n",
              "</div>"
            ],
            "text/plain": [
              "               Модель                                          Параметры  \\\n",
              "0  Линейная регрессия                                                NaN   \n",
              "1       Случайный лес  {'max_depth': 4, 'n_estimators': 2, 'random_st...   \n",
              "2      Дерево решений  {'criterion': 'mse', 'max_depth': 6, 'random_s...   \n",
              "\n",
              "   Время обучения         RMSE  \n",
              "0        0.831497  2971.785425  \n",
              "1        2.414570  2668.330264  \n",
              "2        2.379443  2320.410218  "
            ]
          },
          "execution_count": 43,
          "metadata": {},
          "output_type": "execute_result"
        }
      ]
    },
    {
      "cell_type": "markdown",
      "metadata": {
        "id": "d26hNeyXPgL2"
      },
      "source": [
        "Регрессия CatBoost"
      ]
    },
    {
      "cell_type": "code",
      "metadata": {
        "id": "4LVOkRPpPgL2",
        "outputId": "27602a06-be06-4bca-b724-d601c0401197"
      },
      "source": [
        "%%time\n",
        "\n",
        "start = time.time()\n",
        "\n",
        "regressor = CatBoostRegressor() \n",
        "hyperparams = [{'learning_rate':[0.1, 0.5, 0.8],\n",
        "                'random_state':[12345],\n",
        "                'verbose':[False]}]\n",
        "\n",
        "clf = GridSearchCV(regressor, hyperparams, scoring='neg_mean_squared_error')\n",
        "clf.fit(features_train, target_train)\n",
        "print(\"Лучшие параметры:\")\n",
        "print()\n",
        "print(clf.best_params_)\n",
        "print()\n",
        "print(\"Поиск по сетке:\")\n",
        "print()\n",
        "means = clf.cv_results_['mean_test_score']\n",
        "stds = clf.cv_results_['std_test_score']\n",
        "for mean, std, params in zip(means, stds, clf.cv_results_['params']):\n",
        "    print(\"%0.6f for %r\"% ((mean*-1)** 0.5, params))\n",
        "print()\n",
        "\n",
        "end_time_fit = time.time() - start\n",
        "\n",
        "cv_RMSE_Cat = (max(means)*-1) ** 0.5"
      ],
      "execution_count": null,
      "outputs": [
        {
          "name": "stdout",
          "output_type": "stream",
          "text": [
            "Лучшие параметры:\n",
            "\n",
            "{'learning_rate': 0.5, 'random_state': 12345, 'verbose': False}\n",
            "\n",
            "Поиск по сетке:\n",
            "\n",
            "1649.860279 for {'learning_rate': 0.1, 'random_state': 12345, 'verbose': False}\n",
            "1627.031848 for {'learning_rate': 0.5, 'random_state': 12345, 'verbose': False}\n",
            "1658.254617 for {'learning_rate': 0.8, 'random_state': 12345, 'verbose': False}\n",
            "\n",
            "CPU times: user 15min 51s, sys: 2min 19s, total: 18min 10s\n",
            "Wall time: 18min 37s\n"
          ]
        }
      ]
    },
    {
      "cell_type": "code",
      "metadata": {
        "id": "YHGLPGvVPgL2",
        "outputId": "cebaa5fb-9ef4-4378-fd32-84e8325b655e"
      },
      "source": [
        "results.append({'Модель': 'CatBoost', \n",
        "                'Параметры': clf.best_params_, \n",
        "                'Время обучения': end_time_fit, \n",
        "                'RMSE': cv_RMSE_Cat})\n",
        "\n",
        "pd.DataFrame(results)"
      ],
      "execution_count": null,
      "outputs": [
        {
          "data": {
            "text/html": [
              "<div>\n",
              "<style scoped>\n",
              "    .dataframe tbody tr th:only-of-type {\n",
              "        vertical-align: middle;\n",
              "    }\n",
              "\n",
              "    .dataframe tbody tr th {\n",
              "        vertical-align: top;\n",
              "    }\n",
              "\n",
              "    .dataframe thead th {\n",
              "        text-align: right;\n",
              "    }\n",
              "</style>\n",
              "<table border=\"1\" class=\"dataframe\">\n",
              "  <thead>\n",
              "    <tr style=\"text-align: right;\">\n",
              "      <th></th>\n",
              "      <th>Модель</th>\n",
              "      <th>Параметры</th>\n",
              "      <th>Время обучения</th>\n",
              "      <th>RMSE</th>\n",
              "    </tr>\n",
              "  </thead>\n",
              "  <tbody>\n",
              "    <tr>\n",
              "      <td>0</td>\n",
              "      <td>Линейная регрессия</td>\n",
              "      <td>NaN</td>\n",
              "      <td>0.831497</td>\n",
              "      <td>2971.785425</td>\n",
              "    </tr>\n",
              "    <tr>\n",
              "      <td>1</td>\n",
              "      <td>Случайный лес</td>\n",
              "      <td>{'max_depth': 4, 'n_estimators': 2, 'random_st...</td>\n",
              "      <td>2.414570</td>\n",
              "      <td>2668.330264</td>\n",
              "    </tr>\n",
              "    <tr>\n",
              "      <td>2</td>\n",
              "      <td>Дерево решений</td>\n",
              "      <td>{'criterion': 'mse', 'max_depth': 6, 'random_s...</td>\n",
              "      <td>2.379443</td>\n",
              "      <td>2320.410218</td>\n",
              "    </tr>\n",
              "    <tr>\n",
              "      <td>3</td>\n",
              "      <td>CatBoost</td>\n",
              "      <td>{'learning_rate': 0.5, 'random_state': 12345, ...</td>\n",
              "      <td>1117.029607</td>\n",
              "      <td>1627.031848</td>\n",
              "    </tr>\n",
              "  </tbody>\n",
              "</table>\n",
              "</div>"
            ],
            "text/plain": [
              "               Модель                                          Параметры  \\\n",
              "0  Линейная регрессия                                                NaN   \n",
              "1       Случайный лес  {'max_depth': 4, 'n_estimators': 2, 'random_st...   \n",
              "2      Дерево решений  {'criterion': 'mse', 'max_depth': 6, 'random_s...   \n",
              "3            CatBoost  {'learning_rate': 0.5, 'random_state': 12345, ...   \n",
              "\n",
              "   Время обучения         RMSE  \n",
              "0        0.831497  2971.785425  \n",
              "1        2.414570  2668.330264  \n",
              "2        2.379443  2320.410218  \n",
              "3     1117.029607  1627.031848  "
            ]
          },
          "execution_count": 45,
          "metadata": {},
          "output_type": "execute_result"
        }
      ]
    },
    {
      "cell_type": "markdown",
      "metadata": {
        "id": "Roiu0bwaPgL2"
      },
      "source": [
        "Регрессия LGBM"
      ]
    },
    {
      "cell_type": "code",
      "metadata": {
        "id": "053KBnkyPgL3",
        "outputId": "f8f1b631-9b26-4c31-9f81-8393ac3d7d69"
      },
      "source": [
        "%%time\n",
        "\n",
        "start = time.time()\n",
        "\n",
        "model = LGBMRegressor(learning_rate=0.1, \n",
        "                      num_leaves=200, \n",
        "                      random_state=12345)\n",
        "model.fit(features_train, target_train)\n",
        "\n",
        "target_predict = model.predict(features_test)\n",
        "\n",
        "end_time_fit = time.time() - start\n",
        "\n",
        "final_RMSE_LGBMR = mean_squared_error(target_test, target_predict) ** 0.5"
      ],
      "execution_count": null,
      "outputs": [
        {
          "name": "stdout",
          "output_type": "stream",
          "text": [
            "CPU times: user 21.7 s, sys: 0 ns, total: 21.7 s\n",
            "Wall time: 21.9 s\n"
          ]
        }
      ]
    },
    {
      "cell_type": "code",
      "metadata": {
        "id": "m3wOHMcePgL3",
        "outputId": "2efcb903-49f8-427f-9418-1b3e45558fc9"
      },
      "source": [
        "results.append({'Модель': 'LGBM', \n",
        "                'Параметры': np.nan, \n",
        "                'Время обучения': end_time_fit,\n",
        "                'RMSE': final_RMSE_LGBMR})\n",
        "\n",
        "pd.DataFrame(results)"
      ],
      "execution_count": null,
      "outputs": [
        {
          "data": {
            "text/html": [
              "<div>\n",
              "<style scoped>\n",
              "    .dataframe tbody tr th:only-of-type {\n",
              "        vertical-align: middle;\n",
              "    }\n",
              "\n",
              "    .dataframe tbody tr th {\n",
              "        vertical-align: top;\n",
              "    }\n",
              "\n",
              "    .dataframe thead th {\n",
              "        text-align: right;\n",
              "    }\n",
              "</style>\n",
              "<table border=\"1\" class=\"dataframe\">\n",
              "  <thead>\n",
              "    <tr style=\"text-align: right;\">\n",
              "      <th></th>\n",
              "      <th>Модель</th>\n",
              "      <th>Параметры</th>\n",
              "      <th>Время обучения</th>\n",
              "      <th>RMSE</th>\n",
              "    </tr>\n",
              "  </thead>\n",
              "  <tbody>\n",
              "    <tr>\n",
              "      <td>0</td>\n",
              "      <td>Линейная регрессия</td>\n",
              "      <td>NaN</td>\n",
              "      <td>0.831497</td>\n",
              "      <td>2971.785425</td>\n",
              "    </tr>\n",
              "    <tr>\n",
              "      <td>1</td>\n",
              "      <td>Случайный лес</td>\n",
              "      <td>{'max_depth': 4, 'n_estimators': 2, 'random_st...</td>\n",
              "      <td>2.414570</td>\n",
              "      <td>2668.330264</td>\n",
              "    </tr>\n",
              "    <tr>\n",
              "      <td>2</td>\n",
              "      <td>Дерево решений</td>\n",
              "      <td>{'criterion': 'mse', 'max_depth': 6, 'random_s...</td>\n",
              "      <td>2.379443</td>\n",
              "      <td>2320.410218</td>\n",
              "    </tr>\n",
              "    <tr>\n",
              "      <td>3</td>\n",
              "      <td>CatBoost</td>\n",
              "      <td>{'learning_rate': 0.5, 'random_state': 12345, ...</td>\n",
              "      <td>1117.029607</td>\n",
              "      <td>1627.031848</td>\n",
              "    </tr>\n",
              "    <tr>\n",
              "      <td>4</td>\n",
              "      <td>LGBM</td>\n",
              "      <td>NaN</td>\n",
              "      <td>21.890182</td>\n",
              "      <td>1599.170390</td>\n",
              "    </tr>\n",
              "  </tbody>\n",
              "</table>\n",
              "</div>"
            ],
            "text/plain": [
              "               Модель                                          Параметры  \\\n",
              "0  Линейная регрессия                                                NaN   \n",
              "1       Случайный лес  {'max_depth': 4, 'n_estimators': 2, 'random_st...   \n",
              "2      Дерево решений  {'criterion': 'mse', 'max_depth': 6, 'random_s...   \n",
              "3            CatBoost  {'learning_rate': 0.5, 'random_state': 12345, ...   \n",
              "4                LGBM                                                NaN   \n",
              "\n",
              "   Время обучения         RMSE  \n",
              "0        0.831497  2971.785425  \n",
              "1        2.414570  2668.330264  \n",
              "2        2.379443  2320.410218  \n",
              "3     1117.029607  1627.031848  \n",
              "4       21.890182  1599.170390  "
            ]
          },
          "execution_count": 47,
          "metadata": {},
          "output_type": "execute_result"
        }
      ]
    },
    {
      "cell_type": "markdown",
      "metadata": {
        "id": "ijLzrTguPgL3"
      },
      "source": [
        "Регрессия CatBoost без закодированных признаков"
      ]
    },
    {
      "cell_type": "code",
      "metadata": {
        "id": "F2QyhJrqPgL3"
      },
      "source": [
        "cat_features = ['VehicleType', 'FuelType', 'Brand',\n",
        "                'Model']"
      ],
      "execution_count": null,
      "outputs": []
    },
    {
      "cell_type": "code",
      "metadata": {
        "id": "1NBrtJyMPgL3",
        "outputId": "299f8ad1-fbe5-4dc8-c7c1-a3ed992b5765"
      },
      "source": [
        "%%time\n",
        "\n",
        "start = time.time()\n",
        "\n",
        "#cat_features = features_train_without_coding[['VehicleType', 'FuelType', 'Brand', 'Model']].values\n",
        "cat_features = cat_features\n",
        "\n",
        "regressor = CatBoostRegressor() \n",
        "hyperparams = [{'learning_rate':[0.1, 0.5, 0.8],\n",
        "                'random_state':[12345],\n",
        "                'verbose':[False],\n",
        "                }]\n",
        "\n",
        "\n",
        "clf = GridSearchCV(regressor, hyperparams, scoring='neg_mean_squared_error')\n",
        "clf.fit(features_train_without_coding, target_train_without_coding, cat_features=cat_features, verbose=10)\n",
        "print(\"Лучшие параметры:\")\n",
        "print()\n",
        "print(clf.best_params_)\n",
        "print()\n",
        "print(\"Поиск по сетке:\")\n",
        "print()\n",
        "means = clf.cv_results_['mean_test_score']\n",
        "stds = clf.cv_results_['std_test_score']\n",
        "for mean, std, params in zip(means, stds, clf.cv_results_['params']):\n",
        "    print(\"%0.6f for %r\"% ((mean*-1)** 0.5, params))\n",
        "print()\n",
        "\n",
        "end_time_fit = time.time() - start\n",
        "\n",
        "cv_RMSE_Cat_new = (max(means)*-1) ** 0.5"
      ],
      "execution_count": null,
      "outputs": [
        {
          "name": "stdout",
          "output_type": "stream",
          "text": [
            "0:\tlearn: 4312.7631539\ttotal: 353ms\tremaining: 5m 53s\n",
            "10:\tlearn: 2701.9721671\ttotal: 4.15s\tremaining: 6m 12s\n",
            "20:\tlearn: 2184.0976435\ttotal: 7.94s\tremaining: 6m 10s\n",
            "30:\tlearn: 2000.9385842\ttotal: 11.4s\tremaining: 5m 57s\n",
            "40:\tlearn: 1923.3132790\ttotal: 14.6s\tremaining: 5m 41s\n",
            "50:\tlearn: 1877.2823824\ttotal: 18.1s\tremaining: 5m 37s\n",
            "60:\tlearn: 1845.7685681\ttotal: 21.6s\tremaining: 5m 32s\n",
            "70:\tlearn: 1821.9765840\ttotal: 24.7s\tremaining: 5m 23s\n",
            "80:\tlearn: 1805.1502365\ttotal: 28.1s\tremaining: 5m 18s\n",
            "90:\tlearn: 1788.3416956\ttotal: 31.3s\tremaining: 5m 12s\n",
            "100:\tlearn: 1773.8038314\ttotal: 34.6s\tremaining: 5m 7s\n",
            "110:\tlearn: 1762.1748297\ttotal: 37.8s\tremaining: 5m 2s\n",
            "120:\tlearn: 1752.2439531\ttotal: 41.3s\tremaining: 4m 59s\n",
            "130:\tlearn: 1742.1182558\ttotal: 44.9s\tremaining: 4m 57s\n",
            "140:\tlearn: 1733.3063600\ttotal: 48.3s\tremaining: 4m 53s\n",
            "150:\tlearn: 1724.5498372\ttotal: 51.8s\tremaining: 4m 51s\n",
            "160:\tlearn: 1716.5838081\ttotal: 55.1s\tremaining: 4m 47s\n",
            "170:\tlearn: 1709.5170818\ttotal: 58.5s\tremaining: 4m 43s\n",
            "180:\tlearn: 1704.2721783\ttotal: 1m 2s\tremaining: 4m 40s\n",
            "190:\tlearn: 1699.0720879\ttotal: 1m 5s\tremaining: 4m 37s\n",
            "200:\tlearn: 1693.8068486\ttotal: 1m 8s\tremaining: 4m 33s\n",
            "210:\tlearn: 1689.1712193\ttotal: 1m 12s\tremaining: 4m 29s\n",
            "220:\tlearn: 1685.0592545\ttotal: 1m 15s\tremaining: 4m 26s\n",
            "230:\tlearn: 1680.9242039\ttotal: 1m 18s\tremaining: 4m 22s\n",
            "240:\tlearn: 1676.3401076\ttotal: 1m 22s\tremaining: 4m 19s\n",
            "250:\tlearn: 1672.0737110\ttotal: 1m 25s\tremaining: 4m 15s\n",
            "260:\tlearn: 1667.9046662\ttotal: 1m 28s\tremaining: 4m 11s\n",
            "270:\tlearn: 1664.3411030\ttotal: 1m 32s\tremaining: 4m 8s\n",
            "280:\tlearn: 1661.4466981\ttotal: 1m 35s\tremaining: 4m 4s\n",
            "290:\tlearn: 1658.5983694\ttotal: 1m 38s\tremaining: 4m\n",
            "300:\tlearn: 1655.0448968\ttotal: 1m 41s\tremaining: 3m 56s\n",
            "310:\tlearn: 1651.0838198\ttotal: 1m 45s\tremaining: 3m 53s\n",
            "320:\tlearn: 1647.4504681\ttotal: 1m 48s\tremaining: 3m 49s\n",
            "330:\tlearn: 1644.1895216\ttotal: 1m 52s\tremaining: 3m 46s\n",
            "340:\tlearn: 1642.0192630\ttotal: 1m 55s\tremaining: 3m 43s\n",
            "350:\tlearn: 1639.5349102\ttotal: 1m 59s\tremaining: 3m 40s\n",
            "360:\tlearn: 1636.5885894\ttotal: 2m 2s\tremaining: 3m 37s\n",
            "370:\tlearn: 1633.7058712\ttotal: 2m 6s\tremaining: 3m 33s\n",
            "380:\tlearn: 1631.4574011\ttotal: 2m 9s\tremaining: 3m 30s\n",
            "390:\tlearn: 1628.7095088\ttotal: 2m 12s\tremaining: 3m 26s\n",
            "400:\tlearn: 1626.7240672\ttotal: 2m 16s\tremaining: 3m 23s\n",
            "410:\tlearn: 1624.2251907\ttotal: 2m 19s\tremaining: 3m 20s\n",
            "420:\tlearn: 1621.5331890\ttotal: 2m 23s\tremaining: 3m 17s\n",
            "430:\tlearn: 1619.6617233\ttotal: 2m 26s\tremaining: 3m 13s\n",
            "440:\tlearn: 1617.5995998\ttotal: 2m 30s\tremaining: 3m 10s\n",
            "450:\tlearn: 1614.6384769\ttotal: 2m 33s\tremaining: 3m 6s\n",
            "460:\tlearn: 1611.9535664\ttotal: 2m 37s\tremaining: 3m 3s\n",
            "470:\tlearn: 1610.2214678\ttotal: 2m 40s\tremaining: 3m\n",
            "480:\tlearn: 1608.2246526\ttotal: 2m 44s\tremaining: 2m 57s\n",
            "490:\tlearn: 1606.3984237\ttotal: 2m 47s\tremaining: 2m 53s\n",
            "500:\tlearn: 1604.6086053\ttotal: 2m 50s\tremaining: 2m 49s\n",
            "510:\tlearn: 1603.2939671\ttotal: 2m 53s\tremaining: 2m 46s\n",
            "520:\tlearn: 1601.6299762\ttotal: 2m 56s\tremaining: 2m 42s\n",
            "530:\tlearn: 1599.9102034\ttotal: 3m\tremaining: 2m 39s\n",
            "540:\tlearn: 1598.3710205\ttotal: 3m 3s\tremaining: 2m 35s\n",
            "550:\tlearn: 1597.0194566\ttotal: 3m 7s\tremaining: 2m 32s\n",
            "560:\tlearn: 1595.5645562\ttotal: 3m 10s\tremaining: 2m 29s\n",
            "570:\tlearn: 1593.4569881\ttotal: 3m 14s\tremaining: 2m 25s\n",
            "580:\tlearn: 1591.6612444\ttotal: 3m 17s\tremaining: 2m 22s\n",
            "590:\tlearn: 1589.9313748\ttotal: 3m 21s\tremaining: 2m 19s\n",
            "600:\tlearn: 1588.3745520\ttotal: 3m 24s\tremaining: 2m 15s\n",
            "610:\tlearn: 1586.4168177\ttotal: 3m 27s\tremaining: 2m 12s\n",
            "620:\tlearn: 1584.3474118\ttotal: 3m 31s\tremaining: 2m 9s\n",
            "630:\tlearn: 1582.8967477\ttotal: 3m 34s\tremaining: 2m 5s\n",
            "640:\tlearn: 1581.7146874\ttotal: 3m 38s\tremaining: 2m 2s\n",
            "650:\tlearn: 1579.7706414\ttotal: 3m 41s\tremaining: 1m 58s\n",
            "660:\tlearn: 1577.8412073\ttotal: 3m 45s\tremaining: 1m 55s\n",
            "670:\tlearn: 1576.1874612\ttotal: 3m 48s\tremaining: 1m 52s\n",
            "680:\tlearn: 1575.1136325\ttotal: 3m 52s\tremaining: 1m 48s\n",
            "690:\tlearn: 1573.9745235\ttotal: 3m 56s\tremaining: 1m 45s\n",
            "700:\tlearn: 1572.5759075\ttotal: 3m 59s\tremaining: 1m 42s\n",
            "710:\tlearn: 1571.2886246\ttotal: 4m 3s\tremaining: 1m 38s\n",
            "720:\tlearn: 1569.8953299\ttotal: 4m 7s\tremaining: 1m 35s\n",
            "730:\tlearn: 1568.5745738\ttotal: 4m 10s\tremaining: 1m 32s\n",
            "740:\tlearn: 1567.1378695\ttotal: 4m 14s\tremaining: 1m 28s\n",
            "750:\tlearn: 1565.7390788\ttotal: 4m 17s\tremaining: 1m 25s\n",
            "760:\tlearn: 1564.4462008\ttotal: 4m 21s\tremaining: 1m 21s\n",
            "770:\tlearn: 1563.1638466\ttotal: 4m 24s\tremaining: 1m 18s\n",
            "780:\tlearn: 1562.2032785\ttotal: 4m 27s\tremaining: 1m 15s\n",
            "790:\tlearn: 1560.9808471\ttotal: 4m 31s\tremaining: 1m 11s\n",
            "800:\tlearn: 1560.1522265\ttotal: 4m 34s\tremaining: 1m 8s\n",
            "810:\tlearn: 1558.9060788\ttotal: 4m 38s\tremaining: 1m 4s\n",
            "820:\tlearn: 1557.3180518\ttotal: 4m 41s\tremaining: 1m 1s\n",
            "830:\tlearn: 1556.1760302\ttotal: 4m 45s\tremaining: 58s\n",
            "840:\tlearn: 1554.6195624\ttotal: 4m 48s\tremaining: 54.5s\n",
            "850:\tlearn: 1553.2581445\ttotal: 4m 51s\tremaining: 51.1s\n",
            "860:\tlearn: 1552.2099623\ttotal: 4m 55s\tremaining: 47.6s\n",
            "870:\tlearn: 1550.5323730\ttotal: 4m 58s\tremaining: 44.2s\n",
            "880:\tlearn: 1549.6349182\ttotal: 5m 2s\tremaining: 40.8s\n",
            "890:\tlearn: 1548.3908216\ttotal: 5m 5s\tremaining: 37.4s\n",
            "900:\tlearn: 1547.4801973\ttotal: 5m 9s\tremaining: 34s\n",
            "910:\tlearn: 1546.7658740\ttotal: 5m 12s\tremaining: 30.5s\n",
            "920:\tlearn: 1546.0888008\ttotal: 5m 16s\tremaining: 27.1s\n",
            "930:\tlearn: 1544.9455759\ttotal: 5m 19s\tremaining: 23.7s\n",
            "940:\tlearn: 1543.9867123\ttotal: 5m 23s\tremaining: 20.3s\n",
            "950:\tlearn: 1542.5267120\ttotal: 5m 26s\tremaining: 16.8s\n",
            "960:\tlearn: 1541.4015087\ttotal: 5m 30s\tremaining: 13.4s\n",
            "970:\tlearn: 1540.5820937\ttotal: 5m 33s\tremaining: 9.96s\n",
            "980:\tlearn: 1539.3031713\ttotal: 5m 36s\tremaining: 6.52s\n",
            "990:\tlearn: 1538.1454400\ttotal: 5m 40s\tremaining: 3.09s\n",
            "999:\tlearn: 1536.5473615\ttotal: 5m 43s\tremaining: 0us\n",
            "0:\tlearn: 4290.8412299\ttotal: 318ms\tremaining: 5m 17s\n",
            "10:\tlearn: 2697.6162320\ttotal: 4.21s\tremaining: 6m 18s\n",
            "20:\tlearn: 2176.0818810\ttotal: 7.91s\tremaining: 6m 8s\n",
            "30:\tlearn: 1996.7495116\ttotal: 11.3s\tremaining: 5m 53s\n",
            "40:\tlearn: 1924.9798449\ttotal: 14.8s\tremaining: 5m 45s\n",
            "50:\tlearn: 1881.0349421\ttotal: 18.1s\tremaining: 5m 36s\n",
            "60:\tlearn: 1854.0471871\ttotal: 21.6s\tremaining: 5m 32s\n",
            "70:\tlearn: 1828.7708707\ttotal: 25s\tremaining: 5m 26s\n",
            "80:\tlearn: 1812.0868547\ttotal: 28.1s\tremaining: 5m 18s\n",
            "90:\tlearn: 1797.9062091\ttotal: 31.5s\tremaining: 5m 15s\n",
            "100:\tlearn: 1781.9049379\ttotal: 34.9s\tremaining: 5m 11s\n",
            "110:\tlearn: 1770.3540900\ttotal: 38s\tremaining: 5m 4s\n",
            "120:\tlearn: 1757.6877768\ttotal: 41.5s\tremaining: 5m 1s\n",
            "130:\tlearn: 1747.2969194\ttotal: 44.9s\tremaining: 4m 57s\n",
            "140:\tlearn: 1738.6821641\ttotal: 48.4s\tremaining: 4m 54s\n",
            "150:\tlearn: 1730.8867152\ttotal: 51.9s\tremaining: 4m 51s\n",
            "160:\tlearn: 1721.7221823\ttotal: 55.4s\tremaining: 4m 48s\n",
            "170:\tlearn: 1713.9720306\ttotal: 58.7s\tremaining: 4m 44s\n",
            "180:\tlearn: 1708.0018088\ttotal: 1m 2s\tremaining: 4m 40s\n",
            "190:\tlearn: 1701.5063237\ttotal: 1m 5s\tremaining: 4m 36s\n",
            "200:\tlearn: 1695.7837286\ttotal: 1m 8s\tremaining: 4m 32s\n",
            "210:\tlearn: 1691.1785104\ttotal: 1m 12s\tremaining: 4m 29s\n",
            "220:\tlearn: 1686.1776987\ttotal: 1m 15s\tremaining: 4m 26s\n",
            "230:\tlearn: 1682.2769582\ttotal: 1m 18s\tremaining: 4m 22s\n",
            "240:\tlearn: 1678.8539451\ttotal: 1m 22s\tremaining: 4m 19s\n",
            "250:\tlearn: 1674.8392343\ttotal: 1m 25s\tremaining: 4m 15s\n",
            "260:\tlearn: 1670.4613689\ttotal: 1m 29s\tremaining: 4m 13s\n",
            "270:\tlearn: 1666.7413381\ttotal: 1m 33s\tremaining: 4m 10s\n",
            "280:\tlearn: 1664.0427564\ttotal: 1m 36s\tremaining: 4m 6s\n",
            "290:\tlearn: 1660.6711211\ttotal: 1m 40s\tremaining: 4m 3s\n",
            "300:\tlearn: 1656.7526317\ttotal: 1m 43s\tremaining: 4m\n",
            "310:\tlearn: 1653.2529118\ttotal: 1m 47s\tremaining: 3m 57s\n",
            "320:\tlearn: 1651.2536976\ttotal: 1m 50s\tremaining: 3m 53s\n",
            "330:\tlearn: 1649.2301650\ttotal: 1m 53s\tremaining: 3m 50s\n",
            "340:\tlearn: 1646.9197011\ttotal: 1m 57s\tremaining: 3m 46s\n",
            "350:\tlearn: 1643.7375745\ttotal: 2m\tremaining: 3m 43s\n",
            "360:\tlearn: 1640.8144283\ttotal: 2m 4s\tremaining: 3m 40s\n",
            "370:\tlearn: 1638.3735272\ttotal: 2m 7s\tremaining: 3m 36s\n",
            "380:\tlearn: 1636.0132366\ttotal: 2m 11s\tremaining: 3m 33s\n",
            "390:\tlearn: 1633.7251499\ttotal: 2m 14s\tremaining: 3m 29s\n",
            "400:\tlearn: 1631.8635626\ttotal: 2m 17s\tremaining: 3m 25s\n",
            "410:\tlearn: 1629.9153984\ttotal: 2m 21s\tremaining: 3m 22s\n",
            "420:\tlearn: 1627.7178527\ttotal: 2m 24s\tremaining: 3m 19s\n",
            "430:\tlearn: 1626.0597555\ttotal: 2m 28s\tremaining: 3m 15s\n",
            "440:\tlearn: 1624.0236009\ttotal: 2m 31s\tremaining: 3m 12s\n",
            "450:\tlearn: 1621.9644085\ttotal: 2m 35s\tremaining: 3m 9s\n",
            "460:\tlearn: 1619.4385235\ttotal: 2m 38s\tremaining: 3m 5s\n",
            "470:\tlearn: 1617.4824757\ttotal: 2m 42s\tremaining: 3m 2s\n",
            "480:\tlearn: 1616.1456247\ttotal: 2m 45s\tremaining: 2m 59s\n",
            "490:\tlearn: 1614.3320639\ttotal: 2m 49s\tremaining: 2m 55s\n",
            "500:\tlearn: 1612.3666789\ttotal: 2m 52s\tremaining: 2m 52s\n",
            "510:\tlearn: 1610.4045339\ttotal: 2m 56s\tremaining: 2m 48s\n",
            "520:\tlearn: 1607.9470787\ttotal: 2m 59s\tremaining: 2m 45s\n",
            "530:\tlearn: 1605.5555973\ttotal: 3m 3s\tremaining: 2m 41s\n",
            "540:\tlearn: 1604.4999947\ttotal: 3m 6s\tremaining: 2m 38s\n",
            "550:\tlearn: 1602.8913939\ttotal: 3m 10s\tremaining: 2m 35s\n",
            "560:\tlearn: 1600.6147417\ttotal: 3m 13s\tremaining: 2m 31s\n",
            "570:\tlearn: 1598.9817302\ttotal: 3m 17s\tremaining: 2m 28s\n",
            "580:\tlearn: 1597.1672036\ttotal: 3m 20s\tremaining: 2m 24s\n",
            "590:\tlearn: 1595.7348503\ttotal: 3m 24s\tremaining: 2m 21s\n",
            "600:\tlearn: 1594.2341095\ttotal: 3m 28s\tremaining: 2m 18s\n",
            "610:\tlearn: 1592.5568259\ttotal: 3m 31s\tremaining: 2m 14s\n",
            "620:\tlearn: 1591.4904065\ttotal: 3m 34s\tremaining: 2m 11s\n",
            "630:\tlearn: 1590.3397101\ttotal: 3m 38s\tremaining: 2m 7s\n",
            "640:\tlearn: 1588.8451577\ttotal: 3m 41s\tremaining: 2m 4s\n",
            "650:\tlearn: 1587.2983586\ttotal: 3m 45s\tremaining: 2m\n",
            "660:\tlearn: 1586.3599782\ttotal: 3m 49s\tremaining: 1m 57s\n",
            "670:\tlearn: 1584.7824913\ttotal: 3m 52s\tremaining: 1m 54s\n",
            "680:\tlearn: 1584.0575812\ttotal: 3m 55s\tremaining: 1m 50s\n",
            "690:\tlearn: 1582.7692174\ttotal: 3m 59s\tremaining: 1m 47s\n",
            "700:\tlearn: 1581.2468551\ttotal: 4m 3s\tremaining: 1m 43s\n",
            "710:\tlearn: 1579.7506153\ttotal: 4m 6s\tremaining: 1m 40s\n",
            "720:\tlearn: 1578.1435513\ttotal: 4m 10s\tremaining: 1m 36s\n",
            "730:\tlearn: 1576.6229033\ttotal: 4m 13s\tremaining: 1m 33s\n",
            "740:\tlearn: 1574.7663551\ttotal: 4m 17s\tremaining: 1m 29s\n",
            "750:\tlearn: 1573.6232320\ttotal: 4m 20s\tremaining: 1m 26s\n",
            "760:\tlearn: 1572.1409891\ttotal: 4m 23s\tremaining: 1m 22s\n",
            "770:\tlearn: 1570.9036364\ttotal: 4m 27s\tremaining: 1m 19s\n",
            "780:\tlearn: 1569.7081741\ttotal: 4m 31s\tremaining: 1m 16s\n",
            "790:\tlearn: 1567.8846701\ttotal: 4m 35s\tremaining: 1m 12s\n",
            "800:\tlearn: 1566.1353031\ttotal: 4m 38s\tremaining: 1m 9s\n",
            "810:\tlearn: 1564.5773984\ttotal: 4m 42s\tremaining: 1m 5s\n",
            "820:\tlearn: 1562.8902652\ttotal: 4m 45s\tremaining: 1m 2s\n",
            "830:\tlearn: 1561.5654590\ttotal: 4m 49s\tremaining: 58.8s\n",
            "840:\tlearn: 1560.8070229\ttotal: 4m 52s\tremaining: 55.4s\n",
            "850:\tlearn: 1560.0717807\ttotal: 4m 56s\tremaining: 51.9s\n",
            "860:\tlearn: 1558.9287121\ttotal: 5m\tremaining: 48.5s\n",
            "870:\tlearn: 1557.6704452\ttotal: 5m 3s\tremaining: 45s\n",
            "880:\tlearn: 1556.7464608\ttotal: 5m 7s\tremaining: 41.5s\n",
            "890:\tlearn: 1555.4068137\ttotal: 5m 10s\tremaining: 38s\n",
            "900:\tlearn: 1554.4114142\ttotal: 5m 14s\tremaining: 34.5s\n",
            "910:\tlearn: 1553.5238184\ttotal: 5m 17s\tremaining: 31s\n",
            "920:\tlearn: 1552.7189102\ttotal: 5m 20s\tremaining: 27.5s\n",
            "930:\tlearn: 1551.4437519\ttotal: 5m 24s\tremaining: 24s\n",
            "940:\tlearn: 1550.4108324\ttotal: 5m 27s\tremaining: 20.6s\n",
            "950:\tlearn: 1549.4666001\ttotal: 5m 31s\tremaining: 17.1s\n",
            "960:\tlearn: 1548.3135111\ttotal: 5m 35s\tremaining: 13.6s\n",
            "970:\tlearn: 1547.3312910\ttotal: 5m 38s\tremaining: 10.1s\n",
            "980:\tlearn: 1546.4825356\ttotal: 5m 42s\tremaining: 6.63s\n",
            "990:\tlearn: 1545.3124286\ttotal: 5m 46s\tremaining: 3.14s\n",
            "999:\tlearn: 1544.4538552\ttotal: 5m 49s\tremaining: 0us\n",
            "0:\tlearn: 4292.4297385\ttotal: 349ms\tremaining: 5m 48s\n",
            "10:\tlearn: 2690.1558537\ttotal: 4.04s\tremaining: 6m 3s\n",
            "20:\tlearn: 2177.4432724\ttotal: 7.74s\tremaining: 6m\n",
            "30:\tlearn: 1986.6474428\ttotal: 11s\tremaining: 5m 44s\n",
            "40:\tlearn: 1908.4033283\ttotal: 14.1s\tremaining: 5m 30s\n",
            "50:\tlearn: 1867.1970673\ttotal: 17.8s\tremaining: 5m 31s\n",
            "60:\tlearn: 1842.4213584\ttotal: 21.2s\tremaining: 5m 26s\n",
            "70:\tlearn: 1820.6059082\ttotal: 24.6s\tremaining: 5m 21s\n",
            "80:\tlearn: 1803.1602607\ttotal: 28.1s\tremaining: 5m 18s\n",
            "90:\tlearn: 1789.5198823\ttotal: 31.3s\tremaining: 5m 12s\n",
            "100:\tlearn: 1776.4818732\ttotal: 34.7s\tremaining: 5m 8s\n",
            "110:\tlearn: 1764.1387487\ttotal: 38.1s\tremaining: 5m 5s\n",
            "120:\tlearn: 1753.8736495\ttotal: 41.6s\tremaining: 5m 2s\n",
            "130:\tlearn: 1744.2168851\ttotal: 45.1s\tremaining: 4m 59s\n",
            "140:\tlearn: 1736.4458406\ttotal: 48.4s\tremaining: 4m 54s\n",
            "150:\tlearn: 1727.0310553\ttotal: 51.9s\tremaining: 4m 51s\n",
            "160:\tlearn: 1721.5328984\ttotal: 55.3s\tremaining: 4m 48s\n",
            "170:\tlearn: 1714.7250408\ttotal: 58.6s\tremaining: 4m 44s\n",
            "180:\tlearn: 1708.5277925\ttotal: 1m 2s\tremaining: 4m 40s\n",
            "190:\tlearn: 1703.3851251\ttotal: 1m 5s\tremaining: 4m 36s\n",
            "200:\tlearn: 1699.0343224\ttotal: 1m 8s\tremaining: 4m 32s\n",
            "210:\tlearn: 1694.8712126\ttotal: 1m 11s\tremaining: 4m 28s\n",
            "220:\tlearn: 1690.7102164\ttotal: 1m 15s\tremaining: 4m 25s\n",
            "230:\tlearn: 1686.4585784\ttotal: 1m 18s\tremaining: 4m 22s\n",
            "240:\tlearn: 1680.3773172\ttotal: 1m 22s\tremaining: 4m 19s\n",
            "250:\tlearn: 1675.9869074\ttotal: 1m 25s\tremaining: 4m 16s\n",
            "260:\tlearn: 1671.5976213\ttotal: 1m 29s\tremaining: 4m 12s\n",
            "270:\tlearn: 1666.8680218\ttotal: 1m 32s\tremaining: 4m 9s\n",
            "280:\tlearn: 1663.7644899\ttotal: 1m 36s\tremaining: 4m 6s\n",
            "290:\tlearn: 1660.0000202\ttotal: 1m 39s\tremaining: 4m 2s\n",
            "300:\tlearn: 1656.7196885\ttotal: 1m 43s\tremaining: 3m 59s\n",
            "310:\tlearn: 1653.7339142\ttotal: 1m 46s\tremaining: 3m 56s\n",
            "320:\tlearn: 1650.5529367\ttotal: 1m 50s\tremaining: 3m 53s\n",
            "330:\tlearn: 1647.6735813\ttotal: 1m 53s\tremaining: 3m 50s\n",
            "340:\tlearn: 1644.9107863\ttotal: 1m 56s\tremaining: 3m 45s\n",
            "350:\tlearn: 1642.6459145\ttotal: 2m\tremaining: 3m 42s\n",
            "360:\tlearn: 1640.5897919\ttotal: 2m 3s\tremaining: 3m 39s\n",
            "370:\tlearn: 1638.7635188\ttotal: 2m 7s\tremaining: 3m 35s\n",
            "380:\tlearn: 1636.5356716\ttotal: 2m 10s\tremaining: 3m 31s\n",
            "390:\tlearn: 1633.7453304\ttotal: 2m 13s\tremaining: 3m 28s\n",
            "400:\tlearn: 1631.5839785\ttotal: 2m 17s\tremaining: 3m 25s\n",
            "410:\tlearn: 1629.3952008\ttotal: 2m 20s\tremaining: 3m 21s\n",
            "420:\tlearn: 1626.7443637\ttotal: 2m 24s\tremaining: 3m 18s\n",
            "430:\tlearn: 1624.9418888\ttotal: 2m 27s\tremaining: 3m 14s\n",
            "440:\tlearn: 1623.0658267\ttotal: 2m 31s\tremaining: 3m 11s\n",
            "450:\tlearn: 1620.7180769\ttotal: 2m 34s\tremaining: 3m 7s\n",
            "460:\tlearn: 1618.2574148\ttotal: 2m 38s\tremaining: 3m 5s\n",
            "470:\tlearn: 1616.4826668\ttotal: 2m 42s\tremaining: 3m 2s\n",
            "480:\tlearn: 1613.7482706\ttotal: 2m 45s\tremaining: 2m 58s\n",
            "490:\tlearn: 1611.2765732\ttotal: 2m 49s\tremaining: 2m 55s\n",
            "500:\tlearn: 1609.2846811\ttotal: 2m 52s\tremaining: 2m 52s\n",
            "510:\tlearn: 1607.7501362\ttotal: 2m 56s\tremaining: 2m 48s\n",
            "520:\tlearn: 1606.0830437\ttotal: 2m 59s\tremaining: 2m 45s\n",
            "530:\tlearn: 1604.1843545\ttotal: 3m 2s\tremaining: 2m 41s\n",
            "540:\tlearn: 1602.0951117\ttotal: 3m 6s\tremaining: 2m 38s\n",
            "550:\tlearn: 1600.4998720\ttotal: 3m 9s\tremaining: 2m 34s\n",
            "560:\tlearn: 1598.5002432\ttotal: 3m 12s\tremaining: 2m 31s\n",
            "570:\tlearn: 1596.9963716\ttotal: 3m 16s\tremaining: 2m 27s\n",
            "580:\tlearn: 1595.0621638\ttotal: 3m 19s\tremaining: 2m 24s\n",
            "590:\tlearn: 1593.4431385\ttotal: 3m 23s\tremaining: 2m 20s\n",
            "600:\tlearn: 1591.9201516\ttotal: 3m 26s\tremaining: 2m 17s\n",
            "610:\tlearn: 1590.4327986\ttotal: 3m 30s\tremaining: 2m 13s\n",
            "620:\tlearn: 1589.2278271\ttotal: 3m 33s\tremaining: 2m 10s\n",
            "630:\tlearn: 1587.9919112\ttotal: 3m 37s\tremaining: 2m 7s\n",
            "640:\tlearn: 1585.9496037\ttotal: 3m 40s\tremaining: 2m 3s\n",
            "650:\tlearn: 1584.9846472\ttotal: 3m 44s\tremaining: 2m\n",
            "660:\tlearn: 1583.6840761\ttotal: 3m 48s\tremaining: 1m 56s\n",
            "670:\tlearn: 1582.8242500\ttotal: 3m 51s\tremaining: 1m 53s\n",
            "680:\tlearn: 1581.8335464\ttotal: 3m 54s\tremaining: 1m 50s\n",
            "690:\tlearn: 1580.4148622\ttotal: 3m 58s\tremaining: 1m 46s\n",
            "700:\tlearn: 1579.3379968\ttotal: 4m 2s\tremaining: 1m 43s\n",
            "710:\tlearn: 1578.2558524\ttotal: 4m 6s\tremaining: 1m 40s\n",
            "720:\tlearn: 1577.0749226\ttotal: 4m 9s\tremaining: 1m 36s\n",
            "730:\tlearn: 1575.8036119\ttotal: 4m 13s\tremaining: 1m 33s\n",
            "740:\tlearn: 1574.2699575\ttotal: 4m 17s\tremaining: 1m 29s\n",
            "750:\tlearn: 1573.0029975\ttotal: 4m 20s\tremaining: 1m 26s\n",
            "760:\tlearn: 1571.8618592\ttotal: 4m 24s\tremaining: 1m 22s\n",
            "770:\tlearn: 1570.3431475\ttotal: 4m 27s\tremaining: 1m 19s\n",
            "780:\tlearn: 1568.9028978\ttotal: 4m 31s\tremaining: 1m 16s\n",
            "790:\tlearn: 1567.8560256\ttotal: 4m 35s\tremaining: 1m 12s\n",
            "800:\tlearn: 1566.9049321\ttotal: 4m 39s\tremaining: 1m 9s\n",
            "810:\tlearn: 1565.4480342\ttotal: 4m 43s\tremaining: 1m 6s\n",
            "820:\tlearn: 1563.9450604\ttotal: 4m 46s\tremaining: 1m 2s\n",
            "830:\tlearn: 1562.8000019\ttotal: 4m 50s\tremaining: 59.1s\n",
            "840:\tlearn: 1561.4942239\ttotal: 4m 54s\tremaining: 55.6s\n",
            "850:\tlearn: 1560.4050765\ttotal: 4m 57s\tremaining: 52.1s\n",
            "860:\tlearn: 1559.5573888\ttotal: 5m 1s\tremaining: 48.7s\n",
            "870:\tlearn: 1558.9915824\ttotal: 5m 4s\tremaining: 45.1s\n",
            "880:\tlearn: 1558.0745596\ttotal: 5m 8s\tremaining: 41.7s\n",
            "890:\tlearn: 1557.0908863\ttotal: 5m 12s\tremaining: 38.2s\n",
            "900:\tlearn: 1556.0895957\ttotal: 5m 15s\tremaining: 34.7s\n",
            "910:\tlearn: 1555.1005077\ttotal: 5m 19s\tremaining: 31.2s\n",
            "920:\tlearn: 1553.7065500\ttotal: 5m 22s\tremaining: 27.7s\n",
            "930:\tlearn: 1552.2361821\ttotal: 5m 25s\tremaining: 24.1s\n",
            "940:\tlearn: 1550.6690147\ttotal: 5m 29s\tremaining: 20.7s\n",
            "950:\tlearn: 1549.2874462\ttotal: 5m 33s\tremaining: 17.2s\n",
            "960:\tlearn: 1548.4184962\ttotal: 5m 36s\tremaining: 13.7s\n",
            "970:\tlearn: 1547.3329804\ttotal: 5m 39s\tremaining: 10.2s\n",
            "980:\tlearn: 1546.5932176\ttotal: 5m 43s\tremaining: 6.66s\n",
            "990:\tlearn: 1545.4607877\ttotal: 5m 47s\tremaining: 3.15s\n",
            "999:\tlearn: 1544.6117019\ttotal: 5m 49s\tremaining: 0us\n",
            "0:\tlearn: 3320.3790530\ttotal: 312ms\tremaining: 5m 11s\n",
            "10:\tlearn: 1917.6949797\ttotal: 4.1s\tremaining: 6m 8s\n",
            "20:\tlearn: 1819.1303243\ttotal: 7.29s\tremaining: 5m 40s\n",
            "30:\tlearn: 1770.2687095\ttotal: 10.8s\tremaining: 5m 36s\n",
            "40:\tlearn: 1736.5444248\ttotal: 14.3s\tremaining: 5m 33s\n",
            "50:\tlearn: 1708.0806784\ttotal: 17.6s\tremaining: 5m 26s\n",
            "60:\tlearn: 1685.6356103\ttotal: 21s\tremaining: 5m 22s\n",
            "70:\tlearn: 1670.6023097\ttotal: 24.6s\tremaining: 5m 22s\n",
            "80:\tlearn: 1655.1928376\ttotal: 27.9s\tremaining: 5m 16s\n",
            "90:\tlearn: 1643.9132875\ttotal: 31.2s\tremaining: 5m 11s\n",
            "100:\tlearn: 1631.8373046\ttotal: 34.7s\tremaining: 5m 8s\n",
            "110:\tlearn: 1623.0187842\ttotal: 37.9s\tremaining: 5m 3s\n",
            "120:\tlearn: 1613.6114463\ttotal: 41.6s\tremaining: 5m 2s\n",
            "130:\tlearn: 1602.4181585\ttotal: 44.9s\tremaining: 4m 58s\n",
            "140:\tlearn: 1593.8530513\ttotal: 48.2s\tremaining: 4m 53s\n",
            "150:\tlearn: 1587.9086148\ttotal: 51.8s\tremaining: 4m 51s\n",
            "160:\tlearn: 1582.8183656\ttotal: 55.3s\tremaining: 4m 48s\n",
            "170:\tlearn: 1576.6149949\ttotal: 58.7s\tremaining: 4m 44s\n",
            "180:\tlearn: 1570.4482408\ttotal: 1m 2s\tremaining: 4m 41s\n",
            "190:\tlearn: 1565.2682096\ttotal: 1m 5s\tremaining: 4m 37s\n",
            "200:\tlearn: 1559.6769091\ttotal: 1m 9s\tremaining: 4m 34s\n",
            "210:\tlearn: 1553.5576789\ttotal: 1m 12s\tremaining: 4m 31s\n",
            "220:\tlearn: 1548.4223936\ttotal: 1m 16s\tremaining: 4m 28s\n",
            "230:\tlearn: 1544.1467594\ttotal: 1m 19s\tremaining: 4m 24s\n",
            "240:\tlearn: 1537.6731099\ttotal: 1m 22s\tremaining: 4m 21s\n",
            "250:\tlearn: 1533.7541154\ttotal: 1m 26s\tremaining: 4m 17s\n",
            "260:\tlearn: 1528.0234244\ttotal: 1m 29s\tremaining: 4m 13s\n",
            "270:\tlearn: 1524.4087956\ttotal: 1m 33s\tremaining: 4m 10s\n",
            "280:\tlearn: 1520.7307651\ttotal: 1m 36s\tremaining: 4m 6s\n",
            "290:\tlearn: 1515.1146957\ttotal: 1m 40s\tremaining: 4m 3s\n",
            "300:\tlearn: 1510.8990324\ttotal: 1m 43s\tremaining: 4m\n",
            "310:\tlearn: 1506.3775879\ttotal: 1m 46s\tremaining: 3m 56s\n",
            "320:\tlearn: 1502.4481225\ttotal: 1m 50s\tremaining: 3m 53s\n",
            "330:\tlearn: 1499.1565201\ttotal: 1m 53s\tremaining: 3m 49s\n",
            "340:\tlearn: 1496.3826035\ttotal: 1m 57s\tremaining: 3m 46s\n",
            "350:\tlearn: 1494.0497651\ttotal: 2m\tremaining: 3m 43s\n",
            "360:\tlearn: 1491.9545571\ttotal: 2m 4s\tremaining: 3m 39s\n",
            "370:\tlearn: 1489.2247002\ttotal: 2m 7s\tremaining: 3m 35s\n",
            "380:\tlearn: 1485.3988673\ttotal: 2m 10s\tremaining: 3m 32s\n",
            "390:\tlearn: 1482.1647199\ttotal: 2m 13s\tremaining: 3m 28s\n",
            "400:\tlearn: 1480.4801583\ttotal: 2m 17s\tremaining: 3m 25s\n",
            "410:\tlearn: 1478.8991420\ttotal: 2m 21s\tremaining: 3m 22s\n",
            "420:\tlearn: 1475.7515365\ttotal: 2m 24s\tremaining: 3m 18s\n",
            "430:\tlearn: 1472.7958287\ttotal: 2m 27s\tremaining: 3m 15s\n",
            "440:\tlearn: 1470.3954487\ttotal: 2m 31s\tremaining: 3m 11s\n",
            "450:\tlearn: 1468.3161615\ttotal: 2m 34s\tremaining: 3m 8s\n",
            "460:\tlearn: 1465.8476856\ttotal: 2m 37s\tremaining: 3m 4s\n",
            "470:\tlearn: 1462.9009487\ttotal: 2m 41s\tremaining: 3m 1s\n",
            "480:\tlearn: 1460.1713320\ttotal: 2m 44s\tremaining: 2m 57s\n",
            "490:\tlearn: 1457.7125686\ttotal: 2m 48s\tremaining: 2m 54s\n",
            "500:\tlearn: 1455.4815053\ttotal: 2m 51s\tremaining: 2m 51s\n",
            "510:\tlearn: 1452.2517097\ttotal: 2m 55s\tremaining: 2m 47s\n",
            "520:\tlearn: 1449.4152739\ttotal: 2m 58s\tremaining: 2m 44s\n",
            "530:\tlearn: 1447.3432848\ttotal: 3m 2s\tremaining: 2m 40s\n",
            "540:\tlearn: 1444.3858191\ttotal: 3m 5s\tremaining: 2m 37s\n",
            "550:\tlearn: 1442.4733766\ttotal: 3m 9s\tremaining: 2m 34s\n",
            "560:\tlearn: 1440.6063437\ttotal: 3m 12s\tremaining: 2m 30s\n",
            "570:\tlearn: 1438.8220732\ttotal: 3m 15s\tremaining: 2m 26s\n",
            "580:\tlearn: 1436.6988448\ttotal: 3m 18s\tremaining: 2m 23s\n",
            "590:\tlearn: 1434.6976118\ttotal: 3m 21s\tremaining: 2m 19s\n",
            "600:\tlearn: 1432.0228485\ttotal: 3m 25s\tremaining: 2m 16s\n",
            "610:\tlearn: 1430.5830201\ttotal: 3m 28s\tremaining: 2m 12s\n",
            "620:\tlearn: 1428.6678634\ttotal: 3m 32s\tremaining: 2m 9s\n",
            "630:\tlearn: 1427.3817910\ttotal: 3m 35s\tremaining: 2m 6s\n",
            "640:\tlearn: 1424.8164302\ttotal: 3m 39s\tremaining: 2m 2s\n",
            "650:\tlearn: 1423.2713626\ttotal: 3m 42s\tremaining: 1m 59s\n",
            "660:\tlearn: 1421.1296478\ttotal: 3m 46s\tremaining: 1m 56s\n",
            "670:\tlearn: 1419.0876653\ttotal: 3m 49s\tremaining: 1m 52s\n",
            "680:\tlearn: 1416.3978064\ttotal: 3m 53s\tremaining: 1m 49s\n",
            "690:\tlearn: 1414.3390968\ttotal: 3m 56s\tremaining: 1m 45s\n",
            "700:\tlearn: 1412.0844814\ttotal: 4m\tremaining: 1m 42s\n",
            "710:\tlearn: 1410.1916319\ttotal: 4m 3s\tremaining: 1m 39s\n",
            "720:\tlearn: 1409.0204309\ttotal: 4m 6s\tremaining: 1m 35s\n",
            "730:\tlearn: 1407.7462350\ttotal: 4m 10s\tremaining: 1m 32s\n",
            "740:\tlearn: 1405.7069554\ttotal: 4m 14s\tremaining: 1m 28s\n",
            "750:\tlearn: 1403.9385490\ttotal: 4m 17s\tremaining: 1m 25s\n",
            "760:\tlearn: 1403.0908209\ttotal: 4m 21s\tremaining: 1m 22s\n",
            "770:\tlearn: 1401.9753529\ttotal: 4m 24s\tremaining: 1m 18s\n",
            "780:\tlearn: 1400.2400855\ttotal: 4m 28s\tremaining: 1m 15s\n",
            "790:\tlearn: 1398.5213798\ttotal: 4m 31s\tremaining: 1m 11s\n",
            "800:\tlearn: 1397.0968840\ttotal: 4m 34s\tremaining: 1m 8s\n",
            "810:\tlearn: 1395.6463440\ttotal: 4m 38s\tremaining: 1m 4s\n",
            "820:\tlearn: 1393.6716386\ttotal: 4m 41s\tremaining: 1m 1s\n",
            "830:\tlearn: 1391.9320170\ttotal: 4m 44s\tremaining: 58s\n",
            "840:\tlearn: 1390.6168155\ttotal: 4m 48s\tremaining: 54.6s\n",
            "850:\tlearn: 1389.0914706\ttotal: 4m 52s\tremaining: 51.1s\n",
            "860:\tlearn: 1387.6442509\ttotal: 4m 55s\tremaining: 47.7s\n",
            "870:\tlearn: 1386.2227786\ttotal: 4m 58s\tremaining: 44.2s\n",
            "880:\tlearn: 1384.2160899\ttotal: 5m 2s\tremaining: 40.8s\n",
            "890:\tlearn: 1383.1620560\ttotal: 5m 5s\tremaining: 37.4s\n",
            "900:\tlearn: 1382.2217109\ttotal: 5m 9s\tremaining: 34s\n",
            "910:\tlearn: 1380.7953412\ttotal: 5m 12s\tremaining: 30.6s\n",
            "920:\tlearn: 1379.5622723\ttotal: 5m 16s\tremaining: 27.1s\n",
            "930:\tlearn: 1378.6400431\ttotal: 5m 19s\tremaining: 23.7s\n",
            "940:\tlearn: 1376.9367353\ttotal: 5m 22s\tremaining: 20.2s\n",
            "950:\tlearn: 1375.6673246\ttotal: 5m 26s\tremaining: 16.8s\n",
            "960:\tlearn: 1374.0488495\ttotal: 5m 30s\tremaining: 13.4s\n",
            "970:\tlearn: 1371.8517462\ttotal: 5m 33s\tremaining: 9.96s\n",
            "980:\tlearn: 1370.4752418\ttotal: 5m 36s\tremaining: 6.53s\n",
            "990:\tlearn: 1368.8001233\ttotal: 5m 40s\tremaining: 3.09s\n",
            "999:\tlearn: 1367.5950884\ttotal: 5m 43s\tremaining: 0us\n",
            "0:\tlearn: 3239.5694770\ttotal: 224ms\tremaining: 3m 43s\n",
            "10:\tlearn: 1917.9740489\ttotal: 3.82s\tremaining: 5m 43s\n",
            "20:\tlearn: 1812.8620493\ttotal: 7.3s\tremaining: 5m 40s\n",
            "30:\tlearn: 1759.6664094\ttotal: 10.8s\tremaining: 5m 37s\n",
            "40:\tlearn: 1727.4689265\ttotal: 14.2s\tremaining: 5m 32s\n",
            "50:\tlearn: 1703.3321019\ttotal: 17.8s\tremaining: 5m 30s\n",
            "60:\tlearn: 1684.9627826\ttotal: 21s\tremaining: 5m 22s\n",
            "70:\tlearn: 1669.9568132\ttotal: 24.5s\tremaining: 5m 20s\n",
            "80:\tlearn: 1654.5200603\ttotal: 28.1s\tremaining: 5m 18s\n",
            "90:\tlearn: 1644.5100433\ttotal: 31.8s\tremaining: 5m 17s\n",
            "100:\tlearn: 1633.9218960\ttotal: 35.1s\tremaining: 5m 12s\n",
            "110:\tlearn: 1624.2803764\ttotal: 38.7s\tremaining: 5m 10s\n",
            "120:\tlearn: 1614.8413898\ttotal: 42.4s\tremaining: 5m 8s\n",
            "130:\tlearn: 1607.4500031\ttotal: 45.7s\tremaining: 5m 3s\n",
            "140:\tlearn: 1600.8336014\ttotal: 49.2s\tremaining: 4m 59s\n",
            "150:\tlearn: 1594.6670861\ttotal: 53.1s\tremaining: 4m 58s\n",
            "160:\tlearn: 1589.4035794\ttotal: 56.7s\tremaining: 4m 55s\n",
            "170:\tlearn: 1582.7989830\ttotal: 60s\tremaining: 4m 50s\n",
            "180:\tlearn: 1575.4822538\ttotal: 1m 3s\tremaining: 4m 45s\n",
            "190:\tlearn: 1570.0532377\ttotal: 1m 6s\tremaining: 4m 42s\n",
            "200:\tlearn: 1564.7003558\ttotal: 1m 10s\tremaining: 4m 39s\n",
            "210:\tlearn: 1559.6948531\ttotal: 1m 13s\tremaining: 4m 35s\n",
            "220:\tlearn: 1553.9551358\ttotal: 1m 17s\tremaining: 4m 32s\n",
            "230:\tlearn: 1547.9700832\ttotal: 1m 20s\tremaining: 4m 28s\n",
            "240:\tlearn: 1543.6906674\ttotal: 1m 24s\tremaining: 4m 25s\n",
            "250:\tlearn: 1540.9240779\ttotal: 1m 27s\tremaining: 4m 21s\n",
            "260:\tlearn: 1535.5831365\ttotal: 1m 31s\tremaining: 4m 18s\n",
            "270:\tlearn: 1532.2891442\ttotal: 1m 34s\tremaining: 4m 14s\n",
            "280:\tlearn: 1527.1687412\ttotal: 1m 37s\tremaining: 4m 10s\n",
            "290:\tlearn: 1522.5038822\ttotal: 1m 41s\tremaining: 4m 6s\n",
            "300:\tlearn: 1519.8144454\ttotal: 1m 44s\tremaining: 4m 3s\n",
            "310:\tlearn: 1516.4095485\ttotal: 1m 47s\tremaining: 3m 59s\n",
            "320:\tlearn: 1512.0593390\ttotal: 1m 51s\tremaining: 3m 55s\n",
            "330:\tlearn: 1508.2560865\ttotal: 1m 54s\tremaining: 3m 51s\n",
            "340:\tlearn: 1505.0604803\ttotal: 1m 58s\tremaining: 3m 48s\n",
            "350:\tlearn: 1502.1013954\ttotal: 2m 1s\tremaining: 3m 45s\n",
            "360:\tlearn: 1498.8743962\ttotal: 2m 5s\tremaining: 3m 41s\n",
            "370:\tlearn: 1496.1595312\ttotal: 2m 8s\tremaining: 3m 38s\n",
            "380:\tlearn: 1493.2442150\ttotal: 2m 12s\tremaining: 3m 35s\n",
            "390:\tlearn: 1490.7850120\ttotal: 2m 16s\tremaining: 3m 32s\n",
            "400:\tlearn: 1488.0113303\ttotal: 2m 20s\tremaining: 3m 29s\n",
            "410:\tlearn: 1483.7433242\ttotal: 2m 23s\tremaining: 3m 25s\n",
            "420:\tlearn: 1481.4033172\ttotal: 2m 27s\tremaining: 3m 22s\n",
            "430:\tlearn: 1478.6167186\ttotal: 2m 31s\tremaining: 3m 19s\n",
            "440:\tlearn: 1476.7583927\ttotal: 2m 34s\tremaining: 3m 16s\n",
            "450:\tlearn: 1475.0623314\ttotal: 2m 38s\tremaining: 3m 12s\n",
            "460:\tlearn: 1473.2924385\ttotal: 2m 41s\tremaining: 3m 9s\n",
            "470:\tlearn: 1470.1101460\ttotal: 2m 45s\tremaining: 3m 5s\n",
            "480:\tlearn: 1467.2708030\ttotal: 2m 48s\tremaining: 3m 2s\n",
            "490:\tlearn: 1465.1869124\ttotal: 2m 52s\tremaining: 2m 58s\n",
            "500:\tlearn: 1464.0416210\ttotal: 2m 55s\tremaining: 2m 54s\n",
            "510:\tlearn: 1462.2771247\ttotal: 2m 59s\tremaining: 2m 51s\n",
            "520:\tlearn: 1460.5903280\ttotal: 3m 2s\tremaining: 2m 47s\n",
            "530:\tlearn: 1458.1690243\ttotal: 3m 6s\tremaining: 2m 44s\n",
            "540:\tlearn: 1456.2694032\ttotal: 3m 9s\tremaining: 2m 41s\n",
            "550:\tlearn: 1453.3723397\ttotal: 3m 13s\tremaining: 2m 37s\n",
            "560:\tlearn: 1451.1411365\ttotal: 3m 16s\tremaining: 2m 34s\n",
            "570:\tlearn: 1448.2293501\ttotal: 3m 20s\tremaining: 2m 30s\n",
            "580:\tlearn: 1446.3293892\ttotal: 3m 24s\tremaining: 2m 27s\n",
            "590:\tlearn: 1443.8867277\ttotal: 3m 27s\tremaining: 2m 23s\n",
            "600:\tlearn: 1441.5273357\ttotal: 3m 31s\tremaining: 2m 20s\n",
            "610:\tlearn: 1438.5946800\ttotal: 3m 34s\tremaining: 2m 16s\n",
            "620:\tlearn: 1437.1511544\ttotal: 3m 38s\tremaining: 2m 13s\n",
            "630:\tlearn: 1434.3142066\ttotal: 3m 42s\tremaining: 2m 9s\n",
            "640:\tlearn: 1432.6026376\ttotal: 3m 46s\tremaining: 2m 6s\n",
            "650:\tlearn: 1430.4391069\ttotal: 3m 49s\tremaining: 2m 3s\n",
            "660:\tlearn: 1427.9000628\ttotal: 3m 53s\tremaining: 1m 59s\n",
            "670:\tlearn: 1425.7491790\ttotal: 3m 57s\tremaining: 1m 56s\n",
            "680:\tlearn: 1423.3721635\ttotal: 4m 1s\tremaining: 1m 52s\n",
            "690:\tlearn: 1421.1605253\ttotal: 4m 4s\tremaining: 1m 49s\n",
            "700:\tlearn: 1419.6935963\ttotal: 4m 8s\tremaining: 1m 46s\n",
            "710:\tlearn: 1418.4466298\ttotal: 4m 12s\tremaining: 1m 42s\n",
            "720:\tlearn: 1416.8595901\ttotal: 4m 15s\tremaining: 1m 38s\n",
            "730:\tlearn: 1415.0804331\ttotal: 4m 18s\tremaining: 1m 35s\n",
            "740:\tlearn: 1413.2278562\ttotal: 4m 22s\tremaining: 1m 31s\n",
            "750:\tlearn: 1411.7859683\ttotal: 4m 25s\tremaining: 1m 27s\n",
            "760:\tlearn: 1410.6612146\ttotal: 4m 28s\tremaining: 1m 24s\n",
            "770:\tlearn: 1409.2296947\ttotal: 4m 32s\tremaining: 1m 20s\n",
            "780:\tlearn: 1407.6865480\ttotal: 4m 35s\tremaining: 1m 17s\n",
            "790:\tlearn: 1406.3309563\ttotal: 4m 39s\tremaining: 1m 13s\n",
            "800:\tlearn: 1404.9983545\ttotal: 4m 42s\tremaining: 1m 10s\n",
            "810:\tlearn: 1403.3058982\ttotal: 4m 46s\tremaining: 1m 6s\n",
            "820:\tlearn: 1401.4319658\ttotal: 4m 49s\tremaining: 1m 3s\n",
            "830:\tlearn: 1399.5299362\ttotal: 4m 53s\tremaining: 59.6s\n",
            "840:\tlearn: 1397.9086904\ttotal: 4m 56s\tremaining: 56.1s\n",
            "850:\tlearn: 1396.8082233\ttotal: 4m 59s\tremaining: 52.5s\n",
            "860:\tlearn: 1395.8336974\ttotal: 5m 3s\tremaining: 49s\n",
            "870:\tlearn: 1394.9121043\ttotal: 5m 7s\tremaining: 45.5s\n",
            "880:\tlearn: 1393.7656765\ttotal: 5m 10s\tremaining: 42s\n",
            "890:\tlearn: 1392.4713163\ttotal: 5m 13s\tremaining: 38.4s\n",
            "900:\tlearn: 1390.2837691\ttotal: 5m 17s\tremaining: 34.9s\n",
            "910:\tlearn: 1388.2330508\ttotal: 5m 20s\tremaining: 31.3s\n",
            "920:\tlearn: 1387.0843584\ttotal: 5m 23s\tremaining: 27.8s\n",
            "930:\tlearn: 1385.7589958\ttotal: 5m 27s\tremaining: 24.3s\n",
            "940:\tlearn: 1384.8250255\ttotal: 5m 30s\tremaining: 20.7s\n",
            "950:\tlearn: 1383.7220345\ttotal: 5m 33s\tremaining: 17.2s\n",
            "960:\tlearn: 1382.3577955\ttotal: 5m 37s\tremaining: 13.7s\n",
            "970:\tlearn: 1381.1386799\ttotal: 5m 40s\tremaining: 10.2s\n",
            "980:\tlearn: 1380.1306459\ttotal: 5m 44s\tremaining: 6.67s\n",
            "990:\tlearn: 1379.0890840\ttotal: 5m 48s\tremaining: 3.16s\n",
            "999:\tlearn: 1378.2040362\ttotal: 5m 51s\tremaining: 0us\n",
            "0:\tlearn: 3299.1902515\ttotal: 375ms\tremaining: 6m 14s\n",
            "10:\tlearn: 1917.9175300\ttotal: 3.98s\tremaining: 5m 58s\n",
            "20:\tlearn: 1828.8327482\ttotal: 7.46s\tremaining: 5m 47s\n",
            "30:\tlearn: 1766.9692208\ttotal: 10.9s\tremaining: 5m 39s\n",
            "40:\tlearn: 1735.3074679\ttotal: 14.4s\tremaining: 5m 35s\n",
            "50:\tlearn: 1710.9618189\ttotal: 17.8s\tremaining: 5m 31s\n",
            "60:\tlearn: 1691.1160120\ttotal: 21.2s\tremaining: 5m 26s\n",
            "70:\tlearn: 1675.8261260\ttotal: 24.7s\tremaining: 5m 23s\n",
            "80:\tlearn: 1660.1424332\ttotal: 28.2s\tremaining: 5m 20s\n",
            "90:\tlearn: 1647.7365442\ttotal: 31.4s\tremaining: 5m 13s\n",
            "100:\tlearn: 1633.2575576\ttotal: 35s\tremaining: 5m 11s\n",
            "110:\tlearn: 1625.8723046\ttotal: 38.5s\tremaining: 5m 8s\n",
            "120:\tlearn: 1618.7961240\ttotal: 42s\tremaining: 5m 5s\n",
            "130:\tlearn: 1608.8953951\ttotal: 45.8s\tremaining: 5m 3s\n",
            "140:\tlearn: 1602.4893790\ttotal: 49.3s\tremaining: 5m\n",
            "150:\tlearn: 1595.1991681\ttotal: 52.7s\tremaining: 4m 56s\n",
            "160:\tlearn: 1588.1868716\ttotal: 56.2s\tremaining: 4m 52s\n",
            "170:\tlearn: 1581.4408310\ttotal: 59.6s\tremaining: 4m 48s\n",
            "180:\tlearn: 1576.5041866\ttotal: 1m 3s\tremaining: 4m 46s\n",
            "190:\tlearn: 1570.5098262\ttotal: 1m 6s\tremaining: 4m 42s\n",
            "200:\tlearn: 1564.3222972\ttotal: 1m 10s\tremaining: 4m 39s\n",
            "210:\tlearn: 1558.1523107\ttotal: 1m 13s\tremaining: 4m 35s\n",
            "220:\tlearn: 1553.5499540\ttotal: 1m 17s\tremaining: 4m 32s\n",
            "230:\tlearn: 1548.7855389\ttotal: 1m 20s\tremaining: 4m 28s\n",
            "240:\tlearn: 1545.0474563\ttotal: 1m 24s\tremaining: 4m 24s\n",
            "250:\tlearn: 1541.0628079\ttotal: 1m 27s\tremaining: 4m 21s\n",
            "260:\tlearn: 1537.0438462\ttotal: 1m 31s\tremaining: 4m 18s\n",
            "270:\tlearn: 1532.4744023\ttotal: 1m 34s\tremaining: 4m 15s\n",
            "280:\tlearn: 1528.1120199\ttotal: 1m 38s\tremaining: 4m 11s\n",
            "290:\tlearn: 1524.2936609\ttotal: 1m 42s\tremaining: 4m 8s\n",
            "300:\tlearn: 1520.9918386\ttotal: 1m 45s\tremaining: 4m 5s\n",
            "310:\tlearn: 1517.3402455\ttotal: 1m 49s\tremaining: 4m 1s\n",
            "320:\tlearn: 1513.5091383\ttotal: 1m 52s\tremaining: 3m 57s\n",
            "330:\tlearn: 1511.1645107\ttotal: 1m 56s\tremaining: 3m 54s\n",
            "340:\tlearn: 1508.3343806\ttotal: 1m 59s\tremaining: 3m 51s\n",
            "350:\tlearn: 1504.8757176\ttotal: 2m 2s\tremaining: 3m 47s\n",
            "360:\tlearn: 1501.7651906\ttotal: 2m 6s\tremaining: 3m 43s\n",
            "370:\tlearn: 1498.6282739\ttotal: 2m 9s\tremaining: 3m 40s\n",
            "380:\tlearn: 1496.1268811\ttotal: 2m 13s\tremaining: 3m 36s\n",
            "390:\tlearn: 1491.4081092\ttotal: 2m 16s\tremaining: 3m 32s\n",
            "400:\tlearn: 1488.6216161\ttotal: 2m 19s\tremaining: 3m 28s\n",
            "410:\tlearn: 1485.5972140\ttotal: 2m 23s\tremaining: 3m 25s\n",
            "420:\tlearn: 1483.0725712\ttotal: 2m 26s\tremaining: 3m 21s\n",
            "430:\tlearn: 1479.7349582\ttotal: 2m 30s\tremaining: 3m 18s\n",
            "440:\tlearn: 1477.2036381\ttotal: 2m 33s\tremaining: 3m 15s\n",
            "450:\tlearn: 1475.4029714\ttotal: 2m 37s\tremaining: 3m 11s\n",
            "460:\tlearn: 1473.5555989\ttotal: 2m 41s\tremaining: 3m 8s\n",
            "470:\tlearn: 1470.5197950\ttotal: 2m 44s\tremaining: 3m 4s\n",
            "480:\tlearn: 1467.7699162\ttotal: 2m 48s\tremaining: 3m 1s\n",
            "490:\tlearn: 1464.0279771\ttotal: 2m 51s\tremaining: 2m 57s\n",
            "500:\tlearn: 1461.5591166\ttotal: 2m 54s\tremaining: 2m 54s\n",
            "510:\tlearn: 1458.9937295\ttotal: 2m 58s\tremaining: 2m 50s\n",
            "520:\tlearn: 1456.8807062\ttotal: 3m 1s\tremaining: 2m 46s\n",
            "530:\tlearn: 1453.4085193\ttotal: 3m 5s\tremaining: 2m 43s\n",
            "540:\tlearn: 1451.8994694\ttotal: 3m 8s\tremaining: 2m 40s\n",
            "550:\tlearn: 1449.5151342\ttotal: 3m 11s\tremaining: 2m 36s\n",
            "560:\tlearn: 1447.5909551\ttotal: 3m 15s\tremaining: 2m 32s\n",
            "570:\tlearn: 1445.6575987\ttotal: 3m 18s\tremaining: 2m 29s\n",
            "580:\tlearn: 1443.5781409\ttotal: 3m 21s\tremaining: 2m 25s\n",
            "590:\tlearn: 1441.2472141\ttotal: 3m 25s\tremaining: 2m 22s\n",
            "600:\tlearn: 1439.1872849\ttotal: 3m 29s\tremaining: 2m 18s\n",
            "610:\tlearn: 1437.2258216\ttotal: 3m 32s\tremaining: 2m 15s\n",
            "620:\tlearn: 1436.1240743\ttotal: 3m 35s\tremaining: 2m 11s\n",
            "630:\tlearn: 1433.3431169\ttotal: 3m 39s\tremaining: 2m 8s\n",
            "640:\tlearn: 1431.8140617\ttotal: 3m 42s\tremaining: 2m 4s\n",
            "650:\tlearn: 1429.3614550\ttotal: 3m 45s\tremaining: 2m 1s\n",
            "660:\tlearn: 1427.3837089\ttotal: 3m 49s\tremaining: 1m 57s\n",
            "670:\tlearn: 1425.5913992\ttotal: 3m 52s\tremaining: 1m 54s\n",
            "680:\tlearn: 1423.8543449\ttotal: 3m 56s\tremaining: 1m 50s\n",
            "690:\tlearn: 1422.5621647\ttotal: 4m\tremaining: 1m 47s\n",
            "700:\tlearn: 1420.1267824\ttotal: 4m 3s\tremaining: 1m 43s\n",
            "710:\tlearn: 1417.5600113\ttotal: 4m 6s\tremaining: 1m 40s\n",
            "720:\tlearn: 1415.6005157\ttotal: 4m 10s\tremaining: 1m 36s\n",
            "730:\tlearn: 1413.7604594\ttotal: 4m 13s\tremaining: 1m 33s\n",
            "740:\tlearn: 1411.7087914\ttotal: 4m 17s\tremaining: 1m 29s\n",
            "750:\tlearn: 1409.2438495\ttotal: 4m 20s\tremaining: 1m 26s\n",
            "760:\tlearn: 1407.8991854\ttotal: 4m 24s\tremaining: 1m 22s\n",
            "770:\tlearn: 1406.1896480\ttotal: 4m 27s\tremaining: 1m 19s\n",
            "780:\tlearn: 1403.9924401\ttotal: 4m 31s\tremaining: 1m 16s\n",
            "790:\tlearn: 1402.5413041\ttotal: 4m 34s\tremaining: 1m 12s\n",
            "800:\tlearn: 1401.0737137\ttotal: 4m 37s\tremaining: 1m 9s\n",
            "810:\tlearn: 1399.9122059\ttotal: 4m 41s\tremaining: 1m 5s\n",
            "820:\tlearn: 1398.5920066\ttotal: 4m 45s\tremaining: 1m 2s\n",
            "830:\tlearn: 1397.0659563\ttotal: 4m 48s\tremaining: 58.7s\n",
            "840:\tlearn: 1395.1990812\ttotal: 4m 51s\tremaining: 55.1s\n",
            "850:\tlearn: 1393.7450349\ttotal: 4m 55s\tremaining: 51.7s\n",
            "860:\tlearn: 1392.3944849\ttotal: 4m 58s\tremaining: 48.1s\n",
            "870:\tlearn: 1390.0274103\ttotal: 5m 1s\tremaining: 44.7s\n",
            "880:\tlearn: 1388.9303935\ttotal: 5m 5s\tremaining: 41.2s\n",
            "890:\tlearn: 1387.7937288\ttotal: 5m 8s\tremaining: 37.7s\n",
            "900:\tlearn: 1386.3636416\ttotal: 5m 11s\tremaining: 34.3s\n",
            "910:\tlearn: 1385.1134948\ttotal: 5m 15s\tremaining: 30.8s\n",
            "920:\tlearn: 1383.8806062\ttotal: 5m 18s\tremaining: 27.4s\n",
            "930:\tlearn: 1382.1466554\ttotal: 5m 22s\tremaining: 23.9s\n",
            "940:\tlearn: 1379.7547387\ttotal: 5m 25s\tremaining: 20.4s\n",
            "950:\tlearn: 1378.3608123\ttotal: 5m 29s\tremaining: 17s\n",
            "960:\tlearn: 1377.1813447\ttotal: 5m 32s\tremaining: 13.5s\n",
            "970:\tlearn: 1375.9155463\ttotal: 5m 35s\tremaining: 10s\n",
            "980:\tlearn: 1374.2777416\ttotal: 5m 39s\tremaining: 6.58s\n",
            "990:\tlearn: 1373.5685576\ttotal: 5m 43s\tremaining: 3.12s\n",
            "999:\tlearn: 1372.8330366\ttotal: 5m 46s\tremaining: 0us\n",
            "0:\tlearn: 2859.9025438\ttotal: 338ms\tremaining: 5m 37s\n",
            "10:\tlearn: 1903.7781908\ttotal: 3.84s\tremaining: 5m 45s\n",
            "20:\tlearn: 1805.9080975\ttotal: 7.63s\tremaining: 5m 55s\n",
            "30:\tlearn: 1750.7078313\ttotal: 11.3s\tremaining: 5m 53s\n",
            "40:\tlearn: 1712.0569766\ttotal: 14.6s\tremaining: 5m 41s\n",
            "50:\tlearn: 1680.8580262\ttotal: 18.1s\tremaining: 5m 36s\n",
            "60:\tlearn: 1661.4246573\ttotal: 21.5s\tremaining: 5m 30s\n",
            "70:\tlearn: 1642.3617562\ttotal: 24.8s\tremaining: 5m 24s\n",
            "80:\tlearn: 1627.9443025\ttotal: 28.1s\tremaining: 5m 18s\n",
            "90:\tlearn: 1614.6807698\ttotal: 31.8s\tremaining: 5m 17s\n",
            "100:\tlearn: 1605.5040097\ttotal: 35.2s\tremaining: 5m 13s\n",
            "110:\tlearn: 1594.5462177\ttotal: 38.7s\tremaining: 5m 9s\n",
            "120:\tlearn: 1587.4883891\ttotal: 42.1s\tremaining: 5m 5s\n",
            "130:\tlearn: 1579.7944493\ttotal: 45.4s\tremaining: 5m 1s\n",
            "140:\tlearn: 1571.8610354\ttotal: 48.8s\tremaining: 4m 57s\n",
            "150:\tlearn: 1565.1839435\ttotal: 52.3s\tremaining: 4m 54s\n",
            "160:\tlearn: 1557.6882002\ttotal: 55.7s\tremaining: 4m 50s\n",
            "170:\tlearn: 1549.1184822\ttotal: 59.1s\tremaining: 4m 46s\n",
            "180:\tlearn: 1543.1048359\ttotal: 1m 2s\tremaining: 4m 44s\n",
            "190:\tlearn: 1536.2535511\ttotal: 1m 6s\tremaining: 4m 41s\n",
            "200:\tlearn: 1531.1035839\ttotal: 1m 9s\tremaining: 4m 36s\n",
            "210:\tlearn: 1525.4663421\ttotal: 1m 12s\tremaining: 4m 32s\n",
            "220:\tlearn: 1520.2146698\ttotal: 1m 16s\tremaining: 4m 29s\n",
            "230:\tlearn: 1515.0368226\ttotal: 1m 19s\tremaining: 4m 26s\n",
            "240:\tlearn: 1510.8787329\ttotal: 1m 23s\tremaining: 4m 22s\n",
            "250:\tlearn: 1505.1145968\ttotal: 1m 26s\tremaining: 4m 18s\n",
            "260:\tlearn: 1501.8268945\ttotal: 1m 30s\tremaining: 4m 15s\n",
            "270:\tlearn: 1496.0369057\ttotal: 1m 33s\tremaining: 4m 11s\n",
            "280:\tlearn: 1491.3733728\ttotal: 1m 36s\tremaining: 4m 8s\n",
            "290:\tlearn: 1487.5618388\ttotal: 1m 40s\tremaining: 4m 4s\n",
            "300:\tlearn: 1484.9542930\ttotal: 1m 43s\tremaining: 3m 59s\n",
            "310:\tlearn: 1479.9306885\ttotal: 1m 46s\tremaining: 3m 56s\n",
            "320:\tlearn: 1475.8639419\ttotal: 1m 50s\tremaining: 3m 52s\n",
            "330:\tlearn: 1471.1932202\ttotal: 1m 53s\tremaining: 3m 49s\n",
            "340:\tlearn: 1466.7860295\ttotal: 1m 56s\tremaining: 3m 45s\n",
            "350:\tlearn: 1462.7512877\ttotal: 2m\tremaining: 3m 42s\n",
            "360:\tlearn: 1457.7321003\ttotal: 2m 3s\tremaining: 3m 39s\n",
            "370:\tlearn: 1454.3057782\ttotal: 2m 7s\tremaining: 3m 36s\n",
            "380:\tlearn: 1451.6977906\ttotal: 2m 11s\tremaining: 3m 33s\n",
            "390:\tlearn: 1448.5964669\ttotal: 2m 14s\tremaining: 3m 29s\n",
            "400:\tlearn: 1444.1118925\ttotal: 2m 18s\tremaining: 3m 26s\n",
            "410:\tlearn: 1441.4003280\ttotal: 2m 22s\tremaining: 3m 23s\n",
            "420:\tlearn: 1438.1241947\ttotal: 2m 25s\tremaining: 3m 20s\n",
            "430:\tlearn: 1435.3265672\ttotal: 2m 28s\tremaining: 3m 16s\n",
            "440:\tlearn: 1432.4630630\ttotal: 2m 31s\tremaining: 3m 12s\n",
            "450:\tlearn: 1429.9562431\ttotal: 2m 35s\tremaining: 3m 8s\n",
            "460:\tlearn: 1427.1709050\ttotal: 2m 38s\tremaining: 3m 5s\n",
            "470:\tlearn: 1425.1020765\ttotal: 2m 41s\tremaining: 3m 1s\n",
            "480:\tlearn: 1423.0900307\ttotal: 2m 45s\tremaining: 2m 58s\n",
            "490:\tlearn: 1420.4253856\ttotal: 2m 48s\tremaining: 2m 54s\n",
            "500:\tlearn: 1417.0227203\ttotal: 2m 51s\tremaining: 2m 51s\n",
            "510:\tlearn: 1415.1351488\ttotal: 2m 55s\tremaining: 2m 47s\n",
            "520:\tlearn: 1412.1810549\ttotal: 2m 58s\tremaining: 2m 44s\n",
            "530:\tlearn: 1410.9366823\ttotal: 3m 1s\tremaining: 2m 40s\n",
            "540:\tlearn: 1408.4664243\ttotal: 3m 5s\tremaining: 2m 37s\n",
            "550:\tlearn: 1405.5855409\ttotal: 3m 8s\tremaining: 2m 33s\n",
            "560:\tlearn: 1402.5693645\ttotal: 3m 12s\tremaining: 2m 30s\n",
            "570:\tlearn: 1399.0795519\ttotal: 3m 15s\tremaining: 2m 26s\n",
            "580:\tlearn: 1396.2376903\ttotal: 3m 18s\tremaining: 2m 23s\n",
            "590:\tlearn: 1393.9762580\ttotal: 3m 22s\tremaining: 2m 19s\n",
            "600:\tlearn: 1392.0492028\ttotal: 3m 25s\tremaining: 2m 16s\n",
            "610:\tlearn: 1390.0080060\ttotal: 3m 29s\tremaining: 2m 13s\n",
            "620:\tlearn: 1387.3246932\ttotal: 3m 32s\tremaining: 2m 9s\n",
            "630:\tlearn: 1385.4929910\ttotal: 3m 36s\tremaining: 2m 6s\n",
            "640:\tlearn: 1383.5240930\ttotal: 3m 39s\tremaining: 2m 2s\n",
            "650:\tlearn: 1381.6051733\ttotal: 3m 43s\tremaining: 1m 59s\n",
            "660:\tlearn: 1379.7182021\ttotal: 3m 46s\tremaining: 1m 56s\n",
            "670:\tlearn: 1377.5332002\ttotal: 3m 49s\tremaining: 1m 52s\n",
            "680:\tlearn: 1375.4667518\ttotal: 3m 53s\tremaining: 1m 49s\n",
            "690:\tlearn: 1373.0430309\ttotal: 3m 56s\tremaining: 1m 45s\n",
            "700:\tlearn: 1371.0229697\ttotal: 3m 59s\tremaining: 1m 42s\n",
            "710:\tlearn: 1369.1788375\ttotal: 4m 3s\tremaining: 1m 38s\n",
            "720:\tlearn: 1367.2966778\ttotal: 4m 6s\tremaining: 1m 35s\n",
            "730:\tlearn: 1364.8526307\ttotal: 4m 10s\tremaining: 1m 32s\n",
            "740:\tlearn: 1363.1995252\ttotal: 4m 13s\tremaining: 1m 28s\n",
            "750:\tlearn: 1361.5837714\ttotal: 4m 16s\tremaining: 1m 25s\n",
            "760:\tlearn: 1359.5768271\ttotal: 4m 20s\tremaining: 1m 21s\n",
            "770:\tlearn: 1357.7864657\ttotal: 4m 23s\tremaining: 1m 18s\n",
            "780:\tlearn: 1355.6840248\ttotal: 4m 27s\tremaining: 1m 15s\n",
            "790:\tlearn: 1354.4979139\ttotal: 4m 31s\tremaining: 1m 11s\n",
            "800:\tlearn: 1352.5116619\ttotal: 4m 34s\tremaining: 1m 8s\n",
            "810:\tlearn: 1350.5943210\ttotal: 4m 38s\tremaining: 1m 4s\n",
            "820:\tlearn: 1348.9473469\ttotal: 4m 41s\tremaining: 1m 1s\n",
            "830:\tlearn: 1347.4607642\ttotal: 4m 44s\tremaining: 57.9s\n",
            "840:\tlearn: 1345.5812285\ttotal: 4m 47s\tremaining: 54.4s\n",
            "850:\tlearn: 1344.3820581\ttotal: 4m 51s\tremaining: 51.1s\n",
            "860:\tlearn: 1343.0107156\ttotal: 4m 54s\tremaining: 47.6s\n",
            "870:\tlearn: 1341.6262573\ttotal: 4m 58s\tremaining: 44.2s\n",
            "880:\tlearn: 1340.3243468\ttotal: 5m 1s\tremaining: 40.8s\n",
            "890:\tlearn: 1339.4467631\ttotal: 5m 5s\tremaining: 37.3s\n",
            "900:\tlearn: 1338.0759938\ttotal: 5m 8s\tremaining: 33.9s\n",
            "910:\tlearn: 1336.3246080\ttotal: 5m 12s\tremaining: 30.5s\n",
            "920:\tlearn: 1335.3338883\ttotal: 5m 15s\tremaining: 27.1s\n",
            "930:\tlearn: 1334.2011359\ttotal: 5m 19s\tremaining: 23.7s\n",
            "940:\tlearn: 1332.5008033\ttotal: 5m 22s\tremaining: 20.2s\n",
            "950:\tlearn: 1330.3690624\ttotal: 5m 26s\tremaining: 16.8s\n",
            "960:\tlearn: 1328.7658209\ttotal: 5m 29s\tremaining: 13.4s\n",
            "970:\tlearn: 1327.3658418\ttotal: 5m 33s\tremaining: 9.95s\n",
            "980:\tlearn: 1326.0925095\ttotal: 5m 36s\tremaining: 6.52s\n",
            "990:\tlearn: 1324.5709600\ttotal: 5m 40s\tremaining: 3.09s\n",
            "999:\tlearn: 1323.5466733\ttotal: 5m 42s\tremaining: 0us\n",
            "0:\tlearn: 2742.6288500\ttotal: 380ms\tremaining: 6m 19s\n",
            "10:\tlearn: 1872.8369099\ttotal: 3.97s\tremaining: 5m 57s\n",
            "20:\tlearn: 1781.0349502\ttotal: 7.37s\tremaining: 5m 43s\n",
            "30:\tlearn: 1734.7157593\ttotal: 10.9s\tremaining: 5m 39s\n",
            "40:\tlearn: 1703.5524442\ttotal: 14.6s\tremaining: 5m 40s\n",
            "50:\tlearn: 1682.1432488\ttotal: 17.9s\tremaining: 5m 33s\n",
            "60:\tlearn: 1666.0411281\ttotal: 21.4s\tremaining: 5m 30s\n",
            "70:\tlearn: 1653.1487578\ttotal: 25.1s\tremaining: 5m 28s\n",
            "80:\tlearn: 1641.0248998\ttotal: 28.6s\tremaining: 5m 24s\n",
            "90:\tlearn: 1625.2488026\ttotal: 32.2s\tremaining: 5m 21s\n",
            "100:\tlearn: 1613.2777558\ttotal: 35.6s\tremaining: 5m 17s\n",
            "110:\tlearn: 1600.3092820\ttotal: 39.1s\tremaining: 5m 13s\n",
            "120:\tlearn: 1591.5006513\ttotal: 42.8s\tremaining: 5m 10s\n",
            "130:\tlearn: 1583.3633694\ttotal: 46.4s\tremaining: 5m 7s\n",
            "140:\tlearn: 1577.0805421\ttotal: 49.8s\tremaining: 5m 3s\n",
            "150:\tlearn: 1570.4527977\ttotal: 53.3s\tremaining: 4m 59s\n",
            "160:\tlearn: 1561.9921376\ttotal: 56.8s\tremaining: 4m 55s\n",
            "170:\tlearn: 1555.2547989\ttotal: 1m\tremaining: 4m 52s\n",
            "180:\tlearn: 1548.6148325\ttotal: 1m 3s\tremaining: 4m 49s\n",
            "190:\tlearn: 1542.4378434\ttotal: 1m 7s\tremaining: 4m 45s\n",
            "200:\tlearn: 1538.1751150\ttotal: 1m 10s\tremaining: 4m 41s\n",
            "210:\tlearn: 1532.9416910\ttotal: 1m 14s\tremaining: 4m 37s\n",
            "220:\tlearn: 1527.8630995\ttotal: 1m 17s\tremaining: 4m 34s\n",
            "230:\tlearn: 1522.4360366\ttotal: 1m 21s\tremaining: 4m 29s\n",
            "240:\tlearn: 1517.5883703\ttotal: 1m 24s\tremaining: 4m 25s\n",
            "250:\tlearn: 1513.4670617\ttotal: 1m 28s\tremaining: 4m 22s\n",
            "260:\tlearn: 1509.3230376\ttotal: 1m 31s\tremaining: 4m 19s\n",
            "270:\tlearn: 1506.2170697\ttotal: 1m 35s\tremaining: 4m 15s\n",
            "280:\tlearn: 1502.0084659\ttotal: 1m 38s\tremaining: 4m 12s\n",
            "290:\tlearn: 1497.7276189\ttotal: 1m 42s\tremaining: 4m 9s\n",
            "300:\tlearn: 1492.6742005\ttotal: 1m 45s\tremaining: 4m 5s\n",
            "310:\tlearn: 1488.6971517\ttotal: 1m 48s\tremaining: 4m 1s\n",
            "320:\tlearn: 1483.6046870\ttotal: 1m 52s\tremaining: 3m 58s\n",
            "330:\tlearn: 1480.9469640\ttotal: 1m 56s\tremaining: 3m 54s\n",
            "340:\tlearn: 1477.9554010\ttotal: 1m 59s\tremaining: 3m 51s\n",
            "350:\tlearn: 1475.2713652\ttotal: 2m 3s\tremaining: 3m 47s\n",
            "360:\tlearn: 1471.8505674\ttotal: 2m 6s\tremaining: 3m 44s\n",
            "370:\tlearn: 1468.7530150\ttotal: 2m 10s\tremaining: 3m 40s\n",
            "380:\tlearn: 1464.6832217\ttotal: 2m 13s\tremaining: 3m 36s\n",
            "390:\tlearn: 1461.5957368\ttotal: 2m 17s\tremaining: 3m 33s\n",
            "400:\tlearn: 1459.1745203\ttotal: 2m 21s\tremaining: 3m 31s\n",
            "410:\tlearn: 1456.4224039\ttotal: 2m 25s\tremaining: 3m 28s\n",
            "420:\tlearn: 1453.7851251\ttotal: 2m 28s\tremaining: 3m 24s\n",
            "430:\tlearn: 1450.1815622\ttotal: 2m 32s\tremaining: 3m 21s\n",
            "440:\tlearn: 1447.6420231\ttotal: 2m 36s\tremaining: 3m 17s\n",
            "450:\tlearn: 1444.7833173\ttotal: 2m 39s\tremaining: 3m 14s\n",
            "460:\tlearn: 1441.4525310\ttotal: 2m 42s\tremaining: 3m 10s\n",
            "470:\tlearn: 1440.0440230\ttotal: 2m 46s\tremaining: 3m 6s\n",
            "480:\tlearn: 1436.3174115\ttotal: 2m 49s\tremaining: 3m 3s\n",
            "490:\tlearn: 1433.4273325\ttotal: 2m 53s\tremaining: 2m 59s\n",
            "500:\tlearn: 1430.4567043\ttotal: 2m 57s\tremaining: 2m 56s\n",
            "510:\tlearn: 1427.6953181\ttotal: 3m\tremaining: 2m 53s\n",
            "520:\tlearn: 1424.9646503\ttotal: 3m 4s\tremaining: 2m 49s\n",
            "530:\tlearn: 1423.0212052\ttotal: 3m 8s\tremaining: 2m 46s\n",
            "540:\tlearn: 1420.5953462\ttotal: 3m 11s\tremaining: 2m 42s\n",
            "550:\tlearn: 1418.4666679\ttotal: 3m 14s\tremaining: 2m 38s\n",
            "560:\tlearn: 1415.6069520\ttotal: 3m 18s\tremaining: 2m 35s\n",
            "570:\tlearn: 1412.9379407\ttotal: 3m 21s\tremaining: 2m 31s\n",
            "580:\tlearn: 1410.2537646\ttotal: 3m 25s\tremaining: 2m 27s\n",
            "590:\tlearn: 1406.8254369\ttotal: 3m 28s\tremaining: 2m 24s\n",
            "600:\tlearn: 1403.6723171\ttotal: 3m 31s\tremaining: 2m 20s\n",
            "610:\tlearn: 1401.6466926\ttotal: 3m 35s\tremaining: 2m 17s\n",
            "620:\tlearn: 1399.7430081\ttotal: 3m 38s\tremaining: 2m 13s\n",
            "630:\tlearn: 1396.1703218\ttotal: 3m 42s\tremaining: 2m 9s\n",
            "640:\tlearn: 1394.2911264\ttotal: 3m 45s\tremaining: 2m 6s\n",
            "650:\tlearn: 1392.4057994\ttotal: 3m 49s\tremaining: 2m 3s\n",
            "660:\tlearn: 1390.0631569\ttotal: 3m 52s\tremaining: 1m 59s\n",
            "670:\tlearn: 1388.1952884\ttotal: 3m 56s\tremaining: 1m 55s\n",
            "680:\tlearn: 1385.8579919\ttotal: 3m 59s\tremaining: 1m 52s\n",
            "690:\tlearn: 1384.1928298\ttotal: 4m 2s\tremaining: 1m 48s\n",
            "700:\tlearn: 1383.0846823\ttotal: 4m 6s\tremaining: 1m 44s\n",
            "710:\tlearn: 1381.3592432\ttotal: 4m 9s\tremaining: 1m 41s\n",
            "720:\tlearn: 1379.8497668\ttotal: 4m 12s\tremaining: 1m 37s\n",
            "730:\tlearn: 1377.9133853\ttotal: 4m 16s\tremaining: 1m 34s\n",
            "740:\tlearn: 1376.1581380\ttotal: 4m 19s\tremaining: 1m 30s\n",
            "750:\tlearn: 1374.5770948\ttotal: 4m 23s\tremaining: 1m 27s\n",
            "760:\tlearn: 1372.8237581\ttotal: 4m 26s\tremaining: 1m 23s\n",
            "770:\tlearn: 1371.1879775\ttotal: 4m 29s\tremaining: 1m 20s\n",
            "780:\tlearn: 1369.3990024\ttotal: 4m 33s\tremaining: 1m 16s\n",
            "790:\tlearn: 1367.8658725\ttotal: 4m 36s\tremaining: 1m 12s\n",
            "800:\tlearn: 1366.4372999\ttotal: 4m 39s\tremaining: 1m 9s\n",
            "810:\tlearn: 1365.2458646\ttotal: 4m 43s\tremaining: 1m 5s\n",
            "820:\tlearn: 1363.3934153\ttotal: 4m 46s\tremaining: 1m 2s\n",
            "830:\tlearn: 1361.7254324\ttotal: 4m 49s\tremaining: 58.9s\n",
            "840:\tlearn: 1360.5049614\ttotal: 4m 53s\tremaining: 55.4s\n",
            "850:\tlearn: 1358.5837331\ttotal: 4m 56s\tremaining: 51.9s\n",
            "860:\tlearn: 1355.8868770\ttotal: 5m\tremaining: 48.4s\n",
            "870:\tlearn: 1353.8890526\ttotal: 5m 3s\tremaining: 45s\n",
            "880:\tlearn: 1352.3036149\ttotal: 5m 7s\tremaining: 41.5s\n",
            "890:\tlearn: 1349.9272728\ttotal: 5m 10s\tremaining: 38s\n",
            "900:\tlearn: 1348.0610602\ttotal: 5m 14s\tremaining: 34.5s\n",
            "910:\tlearn: 1346.5505111\ttotal: 5m 17s\tremaining: 31s\n",
            "920:\tlearn: 1344.8500111\ttotal: 5m 20s\tremaining: 27.5s\n",
            "930:\tlearn: 1344.0596185\ttotal: 5m 24s\tremaining: 24s\n",
            "940:\tlearn: 1342.6458157\ttotal: 5m 28s\tremaining: 20.6s\n",
            "950:\tlearn: 1341.2287145\ttotal: 5m 31s\tremaining: 17.1s\n",
            "960:\tlearn: 1339.6898473\ttotal: 5m 34s\tremaining: 13.6s\n",
            "970:\tlearn: 1338.2126598\ttotal: 5m 38s\tremaining: 10.1s\n",
            "980:\tlearn: 1336.8641877\ttotal: 5m 42s\tremaining: 6.63s\n",
            "990:\tlearn: 1335.9831248\ttotal: 5m 45s\tremaining: 3.14s\n",
            "999:\tlearn: 1334.4083688\ttotal: 5m 48s\tremaining: 0us\n",
            "0:\tlearn: 2837.6218704\ttotal: 318ms\tremaining: 5m 17s\n",
            "10:\tlearn: 1888.1580242\ttotal: 3.82s\tremaining: 5m 43s\n",
            "20:\tlearn: 1795.0514530\ttotal: 7.42s\tremaining: 5m 45s\n",
            "30:\tlearn: 1740.4120146\ttotal: 10.6s\tremaining: 5m 31s\n",
            "40:\tlearn: 1712.1708591\ttotal: 14.2s\tremaining: 5m 32s\n",
            "50:\tlearn: 1691.7941100\ttotal: 17.7s\tremaining: 5m 29s\n",
            "60:\tlearn: 1673.3518637\ttotal: 21.2s\tremaining: 5m 26s\n",
            "70:\tlearn: 1653.4193832\ttotal: 25.2s\tremaining: 5m 29s\n",
            "80:\tlearn: 1637.8102647\ttotal: 28.6s\tremaining: 5m 24s\n",
            "90:\tlearn: 1621.8420760\ttotal: 32s\tremaining: 5m 19s\n",
            "100:\tlearn: 1612.1578901\ttotal: 35.5s\tremaining: 5m 15s\n",
            "110:\tlearn: 1603.2191841\ttotal: 38.9s\tremaining: 5m 11s\n",
            "120:\tlearn: 1592.6801710\ttotal: 42.4s\tremaining: 5m 7s\n",
            "130:\tlearn: 1585.0634824\ttotal: 45.8s\tremaining: 5m 4s\n",
            "140:\tlearn: 1577.6090815\ttotal: 49.1s\tremaining: 4m 59s\n",
            "150:\tlearn: 1571.1936459\ttotal: 52.6s\tremaining: 4m 55s\n",
            "160:\tlearn: 1564.1012840\ttotal: 56.1s\tremaining: 4m 52s\n",
            "170:\tlearn: 1559.6335571\ttotal: 59.6s\tremaining: 4m 49s\n",
            "180:\tlearn: 1552.0163603\ttotal: 1m 3s\tremaining: 4m 45s\n",
            "190:\tlearn: 1544.7089380\ttotal: 1m 6s\tremaining: 4m 41s\n",
            "200:\tlearn: 1539.4870178\ttotal: 1m 9s\tremaining: 4m 36s\n",
            "210:\tlearn: 1536.0737586\ttotal: 1m 12s\tremaining: 4m 32s\n",
            "220:\tlearn: 1529.6805020\ttotal: 1m 16s\tremaining: 4m 29s\n",
            "230:\tlearn: 1525.3203644\ttotal: 1m 19s\tremaining: 4m 26s\n",
            "240:\tlearn: 1520.6201148\ttotal: 1m 23s\tremaining: 4m 22s\n",
            "250:\tlearn: 1515.3473529\ttotal: 1m 26s\tremaining: 4m 19s\n",
            "260:\tlearn: 1511.7918635\ttotal: 1m 30s\tremaining: 4m 15s\n",
            "270:\tlearn: 1506.9096333\ttotal: 1m 33s\tremaining: 4m 11s\n",
            "280:\tlearn: 1503.0241707\ttotal: 1m 37s\tremaining: 4m 8s\n",
            "290:\tlearn: 1498.2699334\ttotal: 1m 40s\tremaining: 4m 4s\n",
            "300:\tlearn: 1495.0608218\ttotal: 1m 44s\tremaining: 4m 1s\n",
            "310:\tlearn: 1491.0673437\ttotal: 1m 47s\tremaining: 3m 58s\n",
            "320:\tlearn: 1488.2136695\ttotal: 1m 50s\tremaining: 3m 54s\n",
            "330:\tlearn: 1482.5780958\ttotal: 1m 54s\tremaining: 3m 50s\n",
            "340:\tlearn: 1478.1746197\ttotal: 1m 57s\tremaining: 3m 46s\n",
            "350:\tlearn: 1474.7739126\ttotal: 2m\tremaining: 3m 42s\n",
            "360:\tlearn: 1471.3948472\ttotal: 2m 3s\tremaining: 3m 39s\n",
            "370:\tlearn: 1468.6295815\ttotal: 2m 7s\tremaining: 3m 35s\n",
            "380:\tlearn: 1465.1765980\ttotal: 2m 10s\tremaining: 3m 32s\n",
            "390:\tlearn: 1463.2298899\ttotal: 2m 13s\tremaining: 3m 28s\n",
            "400:\tlearn: 1459.0666214\ttotal: 2m 17s\tremaining: 3m 25s\n",
            "410:\tlearn: 1455.0985472\ttotal: 2m 20s\tremaining: 3m 21s\n",
            "420:\tlearn: 1451.9879427\ttotal: 2m 24s\tremaining: 3m 18s\n",
            "430:\tlearn: 1449.7845524\ttotal: 2m 27s\tremaining: 3m 14s\n",
            "440:\tlearn: 1446.6027547\ttotal: 2m 30s\tremaining: 3m 11s\n",
            "450:\tlearn: 1444.0007491\ttotal: 2m 34s\tremaining: 3m 7s\n",
            "460:\tlearn: 1440.5957643\ttotal: 2m 37s\tremaining: 3m 4s\n",
            "470:\tlearn: 1437.6331801\ttotal: 2m 40s\tremaining: 3m\n",
            "480:\tlearn: 1434.2395018\ttotal: 2m 44s\tremaining: 2m 57s\n",
            "490:\tlearn: 1429.7660324\ttotal: 2m 47s\tremaining: 2m 53s\n",
            "500:\tlearn: 1426.9079848\ttotal: 2m 51s\tremaining: 2m 50s\n",
            "510:\tlearn: 1424.1840666\ttotal: 2m 54s\tremaining: 2m 47s\n",
            "520:\tlearn: 1421.9263287\ttotal: 2m 57s\tremaining: 2m 43s\n",
            "530:\tlearn: 1420.2671286\ttotal: 3m 1s\tremaining: 2m 40s\n",
            "540:\tlearn: 1418.1694243\ttotal: 3m 4s\tremaining: 2m 36s\n",
            "550:\tlearn: 1416.6035278\ttotal: 3m 8s\tremaining: 2m 33s\n",
            "560:\tlearn: 1413.8097969\ttotal: 3m 11s\tremaining: 2m 30s\n",
            "570:\tlearn: 1411.5927167\ttotal: 3m 15s\tremaining: 2m 26s\n",
            "580:\tlearn: 1409.5672072\ttotal: 3m 18s\tremaining: 2m 23s\n",
            "590:\tlearn: 1408.0401317\ttotal: 3m 22s\tremaining: 2m 20s\n",
            "600:\tlearn: 1405.8048892\ttotal: 3m 26s\tremaining: 2m 16s\n",
            "610:\tlearn: 1403.7019459\ttotal: 3m 29s\tremaining: 2m 13s\n",
            "620:\tlearn: 1401.5638045\ttotal: 3m 32s\tremaining: 2m 9s\n",
            "630:\tlearn: 1399.5715750\ttotal: 3m 35s\tremaining: 2m 6s\n",
            "640:\tlearn: 1397.6027835\ttotal: 3m 38s\tremaining: 2m 2s\n",
            "650:\tlearn: 1395.4421425\ttotal: 3m 42s\tremaining: 1m 59s\n",
            "660:\tlearn: 1393.7470459\ttotal: 3m 45s\tremaining: 1m 55s\n",
            "670:\tlearn: 1392.0990606\ttotal: 3m 48s\tremaining: 1m 52s\n",
            "680:\tlearn: 1390.4011117\ttotal: 3m 52s\tremaining: 1m 48s\n",
            "690:\tlearn: 1388.1861085\ttotal: 3m 55s\tremaining: 1m 45s\n",
            "700:\tlearn: 1385.9348974\ttotal: 3m 58s\tremaining: 1m 41s\n",
            "710:\tlearn: 1384.2819027\ttotal: 4m 2s\tremaining: 1m 38s\n",
            "720:\tlearn: 1382.7498738\ttotal: 4m 5s\tremaining: 1m 34s\n",
            "730:\tlearn: 1380.6010642\ttotal: 4m 8s\tremaining: 1m 31s\n",
            "740:\tlearn: 1377.7135317\ttotal: 4m 11s\tremaining: 1m 28s\n",
            "750:\tlearn: 1375.6902741\ttotal: 4m 15s\tremaining: 1m 24s\n",
            "760:\tlearn: 1373.7026207\ttotal: 4m 18s\tremaining: 1m 21s\n",
            "770:\tlearn: 1371.4830909\ttotal: 4m 21s\tremaining: 1m 17s\n",
            "780:\tlearn: 1369.9571744\ttotal: 4m 25s\tremaining: 1m 14s\n",
            "790:\tlearn: 1368.2812781\ttotal: 4m 28s\tremaining: 1m 11s\n",
            "800:\tlearn: 1367.0443124\ttotal: 4m 32s\tremaining: 1m 7s\n",
            "810:\tlearn: 1365.7290983\ttotal: 4m 36s\tremaining: 1m 4s\n",
            "820:\tlearn: 1363.8628469\ttotal: 4m 39s\tremaining: 1m\n",
            "830:\tlearn: 1361.7905352\ttotal: 4m 43s\tremaining: 57.6s\n",
            "840:\tlearn: 1360.1325434\ttotal: 4m 46s\tremaining: 54.1s\n",
            "850:\tlearn: 1357.7206660\ttotal: 4m 49s\tremaining: 50.7s\n",
            "860:\tlearn: 1355.8740081\ttotal: 4m 52s\tremaining: 47.3s\n",
            "870:\tlearn: 1354.3876754\ttotal: 4m 56s\tremaining: 43.9s\n",
            "880:\tlearn: 1353.0108246\ttotal: 4m 59s\tremaining: 40.5s\n",
            "890:\tlearn: 1351.4351002\ttotal: 5m 3s\tremaining: 37.1s\n",
            "900:\tlearn: 1350.0848230\ttotal: 5m 6s\tremaining: 33.7s\n",
            "910:\tlearn: 1348.4081046\ttotal: 5m 9s\tremaining: 30.3s\n",
            "920:\tlearn: 1346.9805476\ttotal: 5m 13s\tremaining: 26.9s\n",
            "930:\tlearn: 1345.3966700\ttotal: 5m 17s\tremaining: 23.5s\n",
            "940:\tlearn: 1344.1829092\ttotal: 5m 20s\tremaining: 20.1s\n",
            "950:\tlearn: 1343.2303286\ttotal: 5m 24s\tremaining: 16.7s\n",
            "960:\tlearn: 1341.3239108\ttotal: 5m 27s\tremaining: 13.3s\n",
            "970:\tlearn: 1340.0568697\ttotal: 5m 31s\tremaining: 9.89s\n",
            "980:\tlearn: 1338.3122516\ttotal: 5m 34s\tremaining: 6.48s\n",
            "990:\tlearn: 1336.2919554\ttotal: 5m 38s\tremaining: 3.07s\n",
            "999:\tlearn: 1335.3783233\ttotal: 5m 41s\tremaining: 0us\n",
            "0:\tlearn: 3283.4782664\ttotal: 570ms\tremaining: 9m 29s\n",
            "10:\tlearn: 1903.3877306\ttotal: 5.86s\tremaining: 8m 46s\n",
            "20:\tlearn: 1816.2874861\ttotal: 10.5s\tremaining: 8m 7s\n",
            "30:\tlearn: 1765.9339120\ttotal: 15.2s\tremaining: 7m 53s\n",
            "40:\tlearn: 1729.4615982\ttotal: 20.1s\tremaining: 7m 51s\n",
            "50:\tlearn: 1704.0843069\ttotal: 25s\tremaining: 7m 45s\n",
            "60:\tlearn: 1687.6528907\ttotal: 29.9s\tremaining: 7m 40s\n",
            "70:\tlearn: 1669.3890833\ttotal: 35s\tremaining: 7m 38s\n",
            "80:\tlearn: 1657.2923630\ttotal: 40.2s\tremaining: 7m 36s\n",
            "90:\tlearn: 1647.9973731\ttotal: 44.7s\tremaining: 7m 26s\n",
            "100:\tlearn: 1637.6537725\ttotal: 49.4s\tremaining: 7m 19s\n",
            "110:\tlearn: 1629.7050929\ttotal: 54.2s\tremaining: 7m 14s\n",
            "120:\tlearn: 1623.2880314\ttotal: 59s\tremaining: 7m 8s\n",
            "130:\tlearn: 1615.2107275\ttotal: 1m 3s\tremaining: 7m 3s\n",
            "140:\tlearn: 1609.8065780\ttotal: 1m 8s\tremaining: 7m\n",
            "150:\tlearn: 1603.7157105\ttotal: 1m 13s\tremaining: 6m 54s\n",
            "160:\tlearn: 1597.6492567\ttotal: 1m 18s\tremaining: 6m 49s\n",
            "170:\tlearn: 1590.2912047\ttotal: 1m 23s\tremaining: 6m 46s\n",
            "180:\tlearn: 1585.7655705\ttotal: 1m 28s\tremaining: 6m 41s\n",
            "190:\tlearn: 1580.2392834\ttotal: 1m 33s\tremaining: 6m 37s\n",
            "200:\tlearn: 1575.1217012\ttotal: 1m 38s\tremaining: 6m 32s\n",
            "210:\tlearn: 1570.9472327\ttotal: 1m 43s\tremaining: 6m 27s\n",
            "220:\tlearn: 1565.9192529\ttotal: 1m 48s\tremaining: 6m 22s\n",
            "230:\tlearn: 1560.4603661\ttotal: 1m 53s\tremaining: 6m 18s\n",
            "240:\tlearn: 1555.9610095\ttotal: 1m 58s\tremaining: 6m 13s\n",
            "250:\tlearn: 1551.8821812\ttotal: 2m 3s\tremaining: 6m 8s\n",
            "260:\tlearn: 1546.7670801\ttotal: 2m 8s\tremaining: 6m 3s\n",
            "270:\tlearn: 1543.6082007\ttotal: 2m 13s\tremaining: 5m 59s\n",
            "280:\tlearn: 1539.8204861\ttotal: 2m 18s\tremaining: 5m 54s\n",
            "290:\tlearn: 1535.1793682\ttotal: 2m 23s\tremaining: 5m 49s\n",
            "300:\tlearn: 1532.2522730\ttotal: 2m 28s\tremaining: 5m 44s\n",
            "310:\tlearn: 1529.4250329\ttotal: 2m 33s\tremaining: 5m 40s\n",
            "320:\tlearn: 1526.9562259\ttotal: 2m 38s\tremaining: 5m 36s\n",
            "330:\tlearn: 1523.3239212\ttotal: 2m 43s\tremaining: 5m 31s\n",
            "340:\tlearn: 1521.0265307\ttotal: 2m 48s\tremaining: 5m 25s\n",
            "350:\tlearn: 1517.5293754\ttotal: 2m 53s\tremaining: 5m 20s\n",
            "360:\tlearn: 1513.9452937\ttotal: 2m 58s\tremaining: 5m 15s\n",
            "370:\tlearn: 1510.3000144\ttotal: 3m 3s\tremaining: 5m 10s\n",
            "380:\tlearn: 1508.5244314\ttotal: 3m 8s\tremaining: 5m 5s\n",
            "390:\tlearn: 1506.3230874\ttotal: 3m 13s\tremaining: 5m\n",
            "400:\tlearn: 1503.1204764\ttotal: 3m 18s\tremaining: 4m 56s\n",
            "410:\tlearn: 1500.3688843\ttotal: 3m 23s\tremaining: 4m 51s\n",
            "420:\tlearn: 1497.3552601\ttotal: 3m 28s\tremaining: 4m 46s\n",
            "430:\tlearn: 1495.0006688\ttotal: 3m 33s\tremaining: 4m 42s\n",
            "440:\tlearn: 1493.0595344\ttotal: 3m 39s\tremaining: 4m 38s\n",
            "450:\tlearn: 1491.5276322\ttotal: 3m 44s\tremaining: 4m 33s\n",
            "460:\tlearn: 1488.9852808\ttotal: 3m 49s\tremaining: 4m 28s\n",
            "470:\tlearn: 1486.5442654\ttotal: 3m 54s\tremaining: 4m 23s\n",
            "480:\tlearn: 1484.8673644\ttotal: 3m 59s\tremaining: 4m 18s\n",
            "490:\tlearn: 1483.0501801\ttotal: 4m 4s\tremaining: 4m 13s\n",
            "500:\tlearn: 1481.6214105\ttotal: 4m 10s\tremaining: 4m 9s\n",
            "510:\tlearn: 1478.8933894\ttotal: 4m 15s\tremaining: 4m 4s\n",
            "520:\tlearn: 1476.9777410\ttotal: 4m 20s\tremaining: 3m 59s\n",
            "530:\tlearn: 1475.1511439\ttotal: 4m 25s\tremaining: 3m 54s\n",
            "540:\tlearn: 1473.2045951\ttotal: 4m 29s\tremaining: 3m 48s\n",
            "550:\tlearn: 1471.1505354\ttotal: 4m 35s\tremaining: 3m 44s\n",
            "560:\tlearn: 1468.9810423\ttotal: 4m 40s\tremaining: 3m 39s\n",
            "570:\tlearn: 1467.3420662\ttotal: 4m 45s\tremaining: 3m 34s\n",
            "580:\tlearn: 1465.0632576\ttotal: 4m 50s\tremaining: 3m 29s\n",
            "590:\tlearn: 1463.2407229\ttotal: 4m 55s\tremaining: 3m 24s\n",
            "600:\tlearn: 1461.4390778\ttotal: 5m\tremaining: 3m 19s\n",
            "610:\tlearn: 1460.2980911\ttotal: 5m 5s\tremaining: 3m 14s\n",
            "620:\tlearn: 1458.5178563\ttotal: 5m 11s\tremaining: 3m 9s\n",
            "630:\tlearn: 1456.4423577\ttotal: 5m 16s\tremaining: 3m 4s\n",
            "640:\tlearn: 1455.0192208\ttotal: 5m 20s\tremaining: 2m 59s\n",
            "650:\tlearn: 1453.1292336\ttotal: 5m 25s\tremaining: 2m 54s\n",
            "660:\tlearn: 1450.9643322\ttotal: 5m 30s\tremaining: 2m 49s\n",
            "670:\tlearn: 1448.9737721\ttotal: 5m 35s\tremaining: 2m 44s\n",
            "680:\tlearn: 1447.1269554\ttotal: 5m 40s\tremaining: 2m 39s\n",
            "690:\tlearn: 1445.9622843\ttotal: 5m 45s\tremaining: 2m 34s\n",
            "700:\tlearn: 1444.5878706\ttotal: 5m 50s\tremaining: 2m 29s\n",
            "710:\tlearn: 1442.6188992\ttotal: 5m 56s\tremaining: 2m 24s\n",
            "720:\tlearn: 1440.8651571\ttotal: 6m\tremaining: 2m 19s\n",
            "730:\tlearn: 1438.9411390\ttotal: 6m 5s\tremaining: 2m 14s\n",
            "740:\tlearn: 1437.3985583\ttotal: 6m 10s\tremaining: 2m 9s\n",
            "750:\tlearn: 1435.9890013\ttotal: 6m 15s\tremaining: 2m 4s\n",
            "760:\tlearn: 1435.0729815\ttotal: 6m 20s\tremaining: 1m 59s\n",
            "770:\tlearn: 1433.7123389\ttotal: 6m 25s\tremaining: 1m 54s\n",
            "780:\tlearn: 1432.0046106\ttotal: 6m 30s\tremaining: 1m 49s\n",
            "790:\tlearn: 1431.2332116\ttotal: 6m 35s\tremaining: 1m 44s\n",
            "800:\tlearn: 1429.9631782\ttotal: 6m 40s\tremaining: 1m 39s\n",
            "810:\tlearn: 1427.9128462\ttotal: 6m 45s\tremaining: 1m 34s\n",
            "820:\tlearn: 1426.1679108\ttotal: 6m 50s\tremaining: 1m 29s\n",
            "830:\tlearn: 1424.5122270\ttotal: 6m 55s\tremaining: 1m 24s\n",
            "840:\tlearn: 1423.2850981\ttotal: 7m\tremaining: 1m 19s\n",
            "850:\tlearn: 1422.0151512\ttotal: 7m 4s\tremaining: 1m 14s\n",
            "860:\tlearn: 1420.8473255\ttotal: 7m 10s\tremaining: 1m 9s\n",
            "870:\tlearn: 1419.6478016\ttotal: 7m 15s\tremaining: 1m 4s\n",
            "880:\tlearn: 1418.4080124\ttotal: 7m 20s\tremaining: 59.4s\n",
            "890:\tlearn: 1416.5044930\ttotal: 7m 24s\tremaining: 54.4s\n",
            "900:\tlearn: 1415.1613970\ttotal: 7m 29s\tremaining: 49.4s\n",
            "910:\tlearn: 1414.0497712\ttotal: 7m 34s\tremaining: 44.4s\n",
            "920:\tlearn: 1412.3807946\ttotal: 7m 39s\tremaining: 39.4s\n",
            "930:\tlearn: 1411.3845487\ttotal: 7m 43s\tremaining: 34.4s\n",
            "940:\tlearn: 1410.0884115\ttotal: 7m 48s\tremaining: 29.4s\n",
            "950:\tlearn: 1409.1487778\ttotal: 7m 54s\tremaining: 24.4s\n",
            "960:\tlearn: 1408.3359156\ttotal: 7m 58s\tremaining: 19.4s\n",
            "970:\tlearn: 1407.5120846\ttotal: 8m 3s\tremaining: 14.4s\n",
            "980:\tlearn: 1406.2615829\ttotal: 8m 8s\tremaining: 9.46s\n",
            "990:\tlearn: 1405.3608323\ttotal: 8m 13s\tremaining: 4.48s\n",
            "999:\tlearn: 1404.9202594\ttotal: 8m 18s\tremaining: 0us\n",
            "Лучшие параметры:\n",
            "\n",
            "{'learning_rate': 0.5, 'random_state': 12345, 'verbose': False}\n",
            "\n",
            "Поиск по сетке:\n",
            "\n",
            "1640.983617 for {'learning_rate': 0.1, 'random_state': 12345, 'verbose': False}\n",
            "1628.338681 for {'learning_rate': 0.5, 'random_state': 12345, 'verbose': False}\n",
            "1674.246581 for {'learning_rate': 0.8, 'random_state': 12345, 'verbose': False}\n",
            "\n",
            "CPU times: user 53min 57s, sys: 6min 42s, total: 1h 39s\n",
            "Wall time: 1h 1min 15s\n"
          ]
        }
      ]
    },
    {
      "cell_type": "code",
      "metadata": {
        "id": "RdSiXc3sPgL3",
        "outputId": "75a29f6d-9a58-44c6-a503-1751a4cebdaa"
      },
      "source": [
        "results.append({'Модель': 'CatBoost без кодировки', \n",
        "                'Параметры': clf.best_params_, \n",
        "                'Время обучения': end_time_fit, \n",
        "                'RMSE': cv_RMSE_Cat_new})\n",
        "\n",
        "pd.DataFrame(results)"
      ],
      "execution_count": null,
      "outputs": [
        {
          "data": {
            "text/html": [
              "<div>\n",
              "<style scoped>\n",
              "    .dataframe tbody tr th:only-of-type {\n",
              "        vertical-align: middle;\n",
              "    }\n",
              "\n",
              "    .dataframe tbody tr th {\n",
              "        vertical-align: top;\n",
              "    }\n",
              "\n",
              "    .dataframe thead th {\n",
              "        text-align: right;\n",
              "    }\n",
              "</style>\n",
              "<table border=\"1\" class=\"dataframe\">\n",
              "  <thead>\n",
              "    <tr style=\"text-align: right;\">\n",
              "      <th></th>\n",
              "      <th>Модель</th>\n",
              "      <th>Параметры</th>\n",
              "      <th>Время обучения</th>\n",
              "      <th>RMSE</th>\n",
              "    </tr>\n",
              "  </thead>\n",
              "  <tbody>\n",
              "    <tr>\n",
              "      <td>0</td>\n",
              "      <td>Линейная регрессия</td>\n",
              "      <td>NaN</td>\n",
              "      <td>0.831497</td>\n",
              "      <td>2971.785425</td>\n",
              "    </tr>\n",
              "    <tr>\n",
              "      <td>1</td>\n",
              "      <td>Случайный лес</td>\n",
              "      <td>{'max_depth': 4, 'n_estimators': 2, 'random_st...</td>\n",
              "      <td>2.414570</td>\n",
              "      <td>2668.330264</td>\n",
              "    </tr>\n",
              "    <tr>\n",
              "      <td>2</td>\n",
              "      <td>Дерево решений</td>\n",
              "      <td>{'criterion': 'mse', 'max_depth': 6, 'random_s...</td>\n",
              "      <td>2.379443</td>\n",
              "      <td>2320.410218</td>\n",
              "    </tr>\n",
              "    <tr>\n",
              "      <td>3</td>\n",
              "      <td>CatBoost</td>\n",
              "      <td>{'learning_rate': 0.5, 'random_state': 12345, ...</td>\n",
              "      <td>1117.029607</td>\n",
              "      <td>1627.031848</td>\n",
              "    </tr>\n",
              "    <tr>\n",
              "      <td>4</td>\n",
              "      <td>LGBM</td>\n",
              "      <td>NaN</td>\n",
              "      <td>21.890182</td>\n",
              "      <td>1599.170390</td>\n",
              "    </tr>\n",
              "    <tr>\n",
              "      <td>5</td>\n",
              "      <td>CatBoost без кодировки</td>\n",
              "      <td>{'learning_rate': 0.5, 'random_state': 12345, ...</td>\n",
              "      <td>3675.667408</td>\n",
              "      <td>1628.338681</td>\n",
              "    </tr>\n",
              "  </tbody>\n",
              "</table>\n",
              "</div>"
            ],
            "text/plain": [
              "                   Модель                                          Параметры  \\\n",
              "0      Линейная регрессия                                                NaN   \n",
              "1           Случайный лес  {'max_depth': 4, 'n_estimators': 2, 'random_st...   \n",
              "2          Дерево решений  {'criterion': 'mse', 'max_depth': 6, 'random_s...   \n",
              "3                CatBoost  {'learning_rate': 0.5, 'random_state': 12345, ...   \n",
              "4                    LGBM                                                NaN   \n",
              "5  CatBoost без кодировки  {'learning_rate': 0.5, 'random_state': 12345, ...   \n",
              "\n",
              "   Время обучения         RMSE  \n",
              "0        0.831497  2971.785425  \n",
              "1        2.414570  2668.330264  \n",
              "2        2.379443  2320.410218  \n",
              "3     1117.029607  1627.031848  \n",
              "4       21.890182  1599.170390  \n",
              "5     3675.667408  1628.338681  "
            ]
          },
          "execution_count": 50,
          "metadata": {},
          "output_type": "execute_result"
        }
      ]
    },
    {
      "cell_type": "markdown",
      "metadata": {
        "id": "WUXnddGbPgL4"
      },
      "source": [
        "Регрессия LGBM без закодированных признаков"
      ]
    },
    {
      "cell_type": "code",
      "metadata": {
        "id": "vZeHUHqCPgL4",
        "outputId": "d92cc3e1-540f-4fc6-85b5-f800cecf1023"
      },
      "source": [
        "%%time\n",
        "\n",
        "start = time.time()\n",
        "\n",
        "model = LGBMRegressor(learning_rate=0.1, \n",
        "                      num_leaves=200, \n",
        "                      random_state=12345)\n",
        "model.fit(features_train_without_coding, target_train_without_coding)\n",
        "\n",
        "target_predict = model.predict(features_test_without_coding)\n",
        "\n",
        "end_time_fit = time.time() - start\n",
        "\n",
        "final_RMSE_LGBMR_new = mean_squared_error(target_test_without_coding, target_predict) ** 0.5"
      ],
      "execution_count": null,
      "outputs": [
        {
          "name": "stdout",
          "output_type": "stream",
          "text": [
            "CPU times: user 5min 30s, sys: 0 ns, total: 5min 30s\n",
            "Wall time: 5min 33s\n"
          ]
        }
      ]
    },
    {
      "cell_type": "code",
      "metadata": {
        "id": "COy9JrEBPgL4",
        "outputId": "4229397a-a6ae-40fa-96c7-9f72d7999d2f"
      },
      "source": [
        "results.append({'Модель': 'LGBM без кодировки', \n",
        "                'Параметры': np.nan, \n",
        "                'Время обучения': end_time_fit,\n",
        "                'RMSE': final_RMSE_LGBMR_new})\n",
        "\n",
        "pd.DataFrame(results)"
      ],
      "execution_count": null,
      "outputs": [
        {
          "data": {
            "text/html": [
              "<div>\n",
              "<style scoped>\n",
              "    .dataframe tbody tr th:only-of-type {\n",
              "        vertical-align: middle;\n",
              "    }\n",
              "\n",
              "    .dataframe tbody tr th {\n",
              "        vertical-align: top;\n",
              "    }\n",
              "\n",
              "    .dataframe thead th {\n",
              "        text-align: right;\n",
              "    }\n",
              "</style>\n",
              "<table border=\"1\" class=\"dataframe\">\n",
              "  <thead>\n",
              "    <tr style=\"text-align: right;\">\n",
              "      <th></th>\n",
              "      <th>Модель</th>\n",
              "      <th>Параметры</th>\n",
              "      <th>Время обучения</th>\n",
              "      <th>RMSE</th>\n",
              "    </tr>\n",
              "  </thead>\n",
              "  <tbody>\n",
              "    <tr>\n",
              "      <td>0</td>\n",
              "      <td>Линейная регрессия</td>\n",
              "      <td>NaN</td>\n",
              "      <td>0.831497</td>\n",
              "      <td>2971.785425</td>\n",
              "    </tr>\n",
              "    <tr>\n",
              "      <td>1</td>\n",
              "      <td>Случайный лес</td>\n",
              "      <td>{'max_depth': 4, 'n_estimators': 2, 'random_st...</td>\n",
              "      <td>2.414570</td>\n",
              "      <td>2668.330264</td>\n",
              "    </tr>\n",
              "    <tr>\n",
              "      <td>2</td>\n",
              "      <td>Дерево решений</td>\n",
              "      <td>{'criterion': 'mse', 'max_depth': 6, 'random_s...</td>\n",
              "      <td>2.379443</td>\n",
              "      <td>2320.410218</td>\n",
              "    </tr>\n",
              "    <tr>\n",
              "      <td>3</td>\n",
              "      <td>CatBoost</td>\n",
              "      <td>{'learning_rate': 0.5, 'random_state': 12345, ...</td>\n",
              "      <td>1117.029607</td>\n",
              "      <td>1627.031848</td>\n",
              "    </tr>\n",
              "    <tr>\n",
              "      <td>4</td>\n",
              "      <td>LGBM</td>\n",
              "      <td>NaN</td>\n",
              "      <td>21.890182</td>\n",
              "      <td>1599.170390</td>\n",
              "    </tr>\n",
              "    <tr>\n",
              "      <td>5</td>\n",
              "      <td>CatBoost без кодировки</td>\n",
              "      <td>{'learning_rate': 0.5, 'random_state': 12345, ...</td>\n",
              "      <td>3675.667408</td>\n",
              "      <td>1628.338681</td>\n",
              "    </tr>\n",
              "    <tr>\n",
              "      <td>6</td>\n",
              "      <td>LGBM без кодировки</td>\n",
              "      <td>NaN</td>\n",
              "      <td>333.057626</td>\n",
              "      <td>1559.029417</td>\n",
              "    </tr>\n",
              "  </tbody>\n",
              "</table>\n",
              "</div>"
            ],
            "text/plain": [
              "                   Модель                                          Параметры  \\\n",
              "0      Линейная регрессия                                                NaN   \n",
              "1           Случайный лес  {'max_depth': 4, 'n_estimators': 2, 'random_st...   \n",
              "2          Дерево решений  {'criterion': 'mse', 'max_depth': 6, 'random_s...   \n",
              "3                CatBoost  {'learning_rate': 0.5, 'random_state': 12345, ...   \n",
              "4                    LGBM                                                NaN   \n",
              "5  CatBoost без кодировки  {'learning_rate': 0.5, 'random_state': 12345, ...   \n",
              "6      LGBM без кодировки                                                NaN   \n",
              "\n",
              "   Время обучения         RMSE  \n",
              "0        0.831497  2971.785425  \n",
              "1        2.414570  2668.330264  \n",
              "2        2.379443  2320.410218  \n",
              "3     1117.029607  1627.031848  \n",
              "4       21.890182  1599.170390  \n",
              "5     3675.667408  1628.338681  \n",
              "6      333.057626  1559.029417  "
            ]
          },
          "execution_count": 52,
          "metadata": {},
          "output_type": "execute_result"
        }
      ]
    },
    {
      "cell_type": "markdown",
      "metadata": {
        "id": "VbIqsBbqPgL7"
      },
      "source": [
        "## Анализ моделей"
      ]
    },
    {
      "cell_type": "code",
      "metadata": {
        "id": "L-s7ICdxPgL8",
        "outputId": "d573eb9e-9e8d-439b-aafa-aaf81f52db05"
      },
      "source": [
        "pd.DataFrame(results)"
      ],
      "execution_count": null,
      "outputs": [
        {
          "data": {
            "text/html": [
              "<div>\n",
              "<style scoped>\n",
              "    .dataframe tbody tr th:only-of-type {\n",
              "        vertical-align: middle;\n",
              "    }\n",
              "\n",
              "    .dataframe tbody tr th {\n",
              "        vertical-align: top;\n",
              "    }\n",
              "\n",
              "    .dataframe thead th {\n",
              "        text-align: right;\n",
              "    }\n",
              "</style>\n",
              "<table border=\"1\" class=\"dataframe\">\n",
              "  <thead>\n",
              "    <tr style=\"text-align: right;\">\n",
              "      <th></th>\n",
              "      <th>Модель</th>\n",
              "      <th>Параметры</th>\n",
              "      <th>Время обучения</th>\n",
              "      <th>RMSE</th>\n",
              "    </tr>\n",
              "  </thead>\n",
              "  <tbody>\n",
              "    <tr>\n",
              "      <td>0</td>\n",
              "      <td>Линейная регрессия</td>\n",
              "      <td>NaN</td>\n",
              "      <td>0.831497</td>\n",
              "      <td>2971.785425</td>\n",
              "    </tr>\n",
              "    <tr>\n",
              "      <td>1</td>\n",
              "      <td>Случайный лес</td>\n",
              "      <td>{'max_depth': 4, 'n_estimators': 2, 'random_st...</td>\n",
              "      <td>2.414570</td>\n",
              "      <td>2668.330264</td>\n",
              "    </tr>\n",
              "    <tr>\n",
              "      <td>2</td>\n",
              "      <td>Дерево решений</td>\n",
              "      <td>{'criterion': 'mse', 'max_depth': 6, 'random_s...</td>\n",
              "      <td>2.379443</td>\n",
              "      <td>2320.410218</td>\n",
              "    </tr>\n",
              "    <tr>\n",
              "      <td>3</td>\n",
              "      <td>CatBoost</td>\n",
              "      <td>{'learning_rate': 0.5, 'random_state': 12345, ...</td>\n",
              "      <td>1117.029607</td>\n",
              "      <td>1627.031848</td>\n",
              "    </tr>\n",
              "    <tr>\n",
              "      <td>4</td>\n",
              "      <td>LGBM</td>\n",
              "      <td>NaN</td>\n",
              "      <td>21.890182</td>\n",
              "      <td>1599.170390</td>\n",
              "    </tr>\n",
              "    <tr>\n",
              "      <td>5</td>\n",
              "      <td>CatBoost без кодировки</td>\n",
              "      <td>{'learning_rate': 0.5, 'random_state': 12345, ...</td>\n",
              "      <td>3675.667408</td>\n",
              "      <td>1628.338681</td>\n",
              "    </tr>\n",
              "    <tr>\n",
              "      <td>6</td>\n",
              "      <td>LGBM без кодировки</td>\n",
              "      <td>NaN</td>\n",
              "      <td>333.057626</td>\n",
              "      <td>1559.029417</td>\n",
              "    </tr>\n",
              "  </tbody>\n",
              "</table>\n",
              "</div>"
            ],
            "text/plain": [
              "                   Модель                                          Параметры  \\\n",
              "0      Линейная регрессия                                                NaN   \n",
              "1           Случайный лес  {'max_depth': 4, 'n_estimators': 2, 'random_st...   \n",
              "2          Дерево решений  {'criterion': 'mse', 'max_depth': 6, 'random_s...   \n",
              "3                CatBoost  {'learning_rate': 0.5, 'random_state': 12345, ...   \n",
              "4                    LGBM                                                NaN   \n",
              "5  CatBoost без кодировки  {'learning_rate': 0.5, 'random_state': 12345, ...   \n",
              "6      LGBM без кодировки                                                NaN   \n",
              "\n",
              "   Время обучения         RMSE  \n",
              "0        0.831497  2971.785425  \n",
              "1        2.414570  2668.330264  \n",
              "2        2.379443  2320.410218  \n",
              "3     1117.029607  1627.031848  \n",
              "4       21.890182  1599.170390  \n",
              "5     3675.667408  1628.338681  \n",
              "6      333.057626  1559.029417  "
            ]
          },
          "execution_count": 53,
          "metadata": {},
          "output_type": "execute_result"
        }
      ]
    },
    {
      "cell_type": "markdown",
      "metadata": {
        "id": "QkZtuwpjPgL8"
      },
      "source": [
        "Глядя на результаты сравнения моделей можно сказать, что  лучше всего для целей данноего проекта подходит модель LGBM, для обучения которой применялась техника прямого кодирования. Однако стоит отметить, что модель LGBM, которая обучалась на незакодированных данных, показала лучший результат метрики RMSE, но при этом обучалась в 15 раз дольше, чем модель с закодированными признаками"
      ]
    }
  ]
}